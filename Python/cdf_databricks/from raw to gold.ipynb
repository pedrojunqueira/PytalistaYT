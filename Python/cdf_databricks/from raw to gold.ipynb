{
 "cells": [
  {
   "cell_type": "markdown",
   "metadata": {
    "application/vnd.databricks.v1+cell": {
     "cellMetadata": {},
     "inputWidgets": {},
     "nuid": "55fbd2a8-17f6-4f5b-8fb4-58c5961ee247",
     "showTitle": false,
     "title": ""
    }
   },
   "source": [
    "\n",
    "## Auto Loader\n",
    "\n",
    "https://learn.microsoft.com/en-us/azure/databricks/ingestion/auto-loader/\n",
    "\n",
    "## Change data feed\n",
    "https://docs.delta.io/latest/delta-change-data-feed.html"
   ]
  },
  {
   "cell_type": "markdown",
   "metadata": {
    "application/vnd.databricks.v1+cell": {
     "cellMetadata": {},
     "inputWidgets": {},
     "nuid": "aa0c9c54-f1af-45b0-bece-f031fac72110",
     "showTitle": false,
     "title": ""
    }
   },
   "source": [
    "\n",
    "## Steps\n",
    "\n",
    "1. Generate some csv\n",
    "2. Read Stream and create bronze table\n",
    "3. Enable change data feed on the bronze table\n",
    "4. Inspect history of bronze table\n",
    "5. Display content of bronze table\n",
    "6. Display the content of change data feed and understand how it works\n",
    "7. Make some changes on the table\n",
    "8. Display and inspect the change data feed again\n",
    "9. Create a pipeline functions to read the CDF, to transaformation and merge into a Silver Table\n",
    "10. Create Silver Table Schema\n",
    "11. Create ReadStream in the CDF and use foreach batch to apply the ETL pipeline\n",
    "12. Create more records and run the Autoloader and the CDF stream code\n",
    "13. Inspect the logs\n",
    "14. Clear checkpoint of cdf stream\n",
    "15. Clean Everything"
   ]
  },
  {
   "cell_type": "code",
   "execution_count": 0,
   "metadata": {
    "application/vnd.databricks.v1+cell": {
     "cellMetadata": {
      "byteLimit": 2048000,
      "rowLimit": 10000
     },
     "inputWidgets": {},
     "nuid": "bc68343e-4a23-4f0d-9b9e-3582cf1af8ec",
     "showTitle": false,
     "title": ""
    }
   },
   "outputs": [
    {
     "output_type": "stream",
     "name": "stderr",
     "output_type": "stream",
     "text": [
      "DEBUG:2023-12-05 08:26:44,679:starting logger\n"
     ]
    }
   ],
   "source": [
    "# setup logs\n",
    "import logging\n",
    "import time\n",
    "import datetime\n",
    "\n",
    "logfile_prefix = 'incremental_autoload_cdf'\n",
    "file_date = datetime.datetime.fromtimestamp(time.time()).strftime('%Y-%m-%d')\n",
    "p_dir = '/tmp/'\n",
    "p_file_name = f'{logfile_prefix}_{file_date}.log'\n",
    "log_file = f'{p_dir}{p_file_name}'\n",
    "logger = logging.getLogger('custom_log')\n",
    "logger.setLevel(logging.DEBUG)\n",
    "file_handler = logging.FileHandler(log_file, mode='a')\n",
    "stream_handler = logging.StreamHandler()\n",
    "stream_handler.setLevel(logging.DEBUG)\n",
    "formatter = logging.Formatter('%(levelname)s:%(asctime)s:%(message)s')\n",
    "file_handler.setFormatter(formatter)\n",
    "stream_handler.setFormatter(formatter)\n",
    "if logger.hasHandlers():\n",
    "    logger.handlers.clear()\n",
    "\n",
    "# add handlers\n",
    "\n",
    "logger.addHandler(file_handler)\n",
    "logger.addHandler(stream_handler)\n",
    "logger.debug(\"starting logger\")"
   ]
  },
  {
   "cell_type": "code",
   "execution_count": 0,
   "metadata": {
    "application/vnd.databricks.v1+cell": {
     "cellMetadata": {
      "byteLimit": 2048000,
      "rowLimit": 10000
     },
     "inputWidgets": {},
     "nuid": "a0339dab-06fd-4446-a077-e0a29c8cdfa9",
     "showTitle": false,
     "title": ""
    }
   },
   "outputs": [],
   "source": [
    "# import packages\n",
    "\n",
    "from pyspark.sql.functions import (lit,\n",
    "                                   col, \n",
    "                                   row_number,\n",
    "                                   concat,\n",
    "                                   desc\n",
    ")\n",
    "\n",
    "from delta.tables import *\n",
    "from pyspark.sql.window import Window\n",
    "from pyspark.sql.types import StructType, StructField, StringType, LongType, TimestampType"
   ]
  },
  {
   "cell_type": "code",
   "execution_count": 0,
   "metadata": {
    "application/vnd.databricks.v1+cell": {
     "cellMetadata": {
      "byteLimit": 2048000,
      "rowLimit": 10000
     },
     "inputWidgets": {},
     "nuid": "279594be-4f1f-47ec-ae33-cf49d920e4e0",
     "showTitle": false,
     "title": ""
    }
   },
   "outputs": [
    {
     "output_type": "execute_result",
     "data": {
      "text/plain": [
       "<pyspark.sql.streaming.query.StreamingQuery at 0x7f0f2cf62740>"
      ]
     },
     "execution_count": 31,
     "metadata": {},
     "output_type": "execute_result"
    }
   ],
   "source": [
    "# load files using autoloader from a monted folder\n",
    "\n",
    "checkpoint_path = \"dbfs:/mnt/databricks/_checkpoint/customers_bronze\"\n",
    "\n",
    "(spark.readStream\n",
    "  .format(\"cloudFiles\")\n",
    "  .option(\"cloudFiles.format\", \"csv\")\n",
    "  .option(\"cloudFiles.schemaLocation\", checkpoint_path)\n",
    "  .load(\"dbfs:/mnt/databricks/customers\")\n",
    "  .writeStream\n",
    "  .option(\"checkpointLocation\", checkpoint_path)\n",
    "  .trigger(availableNow=True)\n",
    "  .toTable(\"customers_bronze\"))\n"
   ]
  },
  {
   "cell_type": "code",
   "execution_count": 0,
   "metadata": {
    "application/vnd.databricks.v1+cell": {
     "cellMetadata": {
      "byteLimit": 2048000,
      "implicitDf": true,
      "rowLimit": 10000
     },
     "inputWidgets": {},
     "nuid": "274d1786-c2bd-46e2-ad4d-74eff922f6cf",
     "showTitle": false,
     "title": ""
    }
   },
   "outputs": [
    {
     "output_type": "display_data",
     "data": {
      "text/html": [
       "<style scoped>\n",
       "  .table-result-container {\n",
       "    max-height: 300px;\n",
       "    overflow: auto;\n",
       "  }\n",
       "  table, th, td {\n",
       "    border: 1px solid black;\n",
       "    border-collapse: collapse;\n",
       "  }\n",
       "  th, td {\n",
       "    padding: 5px;\n",
       "  }\n",
       "  th {\n",
       "    text-align: left;\n",
       "  }\n",
       "</style><div class='table-result-container'><table class='table-result'><thead style='background-color: white'><tr></tr></thead><tbody></tbody></table></div>"
      ]
     },
     "metadata": {
      "application/vnd.databricks.v1+output": {
       "addedWidgets": {},
       "aggData": [],
       "aggError": "",
       "aggOverflow": false,
       "aggSchema": [],
       "aggSeriesLimitReached": false,
       "aggType": "",
       "arguments": {},
       "columnCustomDisplayInfos": {},
       "data": [],
       "datasetInfos": [],
       "dbfsResultPath": null,
       "isJsonSchema": true,
       "metadata": {
        "dataframeName": null
       },
       "overflow": false,
       "plotOptions": {
        "customPlotOptions": {},
        "displayType": "table",
        "pivotAggregation": null,
        "pivotColumns": null,
        "xColumns": null,
        "yColumns": null
       },
       "removedWidgets": [],
       "schema": [],
       "type": "table"
      }
     },
     "output_type": "display_data"
    }
   ],
   "source": [
    "%sql\n",
    "ALTER TABLE customers_bronze SET TBLPROPERTIES (delta.enableChangeDataFeed = true)\n"
   ]
  },
  {
   "cell_type": "code",
   "execution_count": 0,
   "metadata": {
    "application/vnd.databricks.v1+cell": {
     "cellMetadata": {
      "byteLimit": 2048000,
      "implicitDf": true,
      "rowLimit": 10000
     },
     "inputWidgets": {},
     "nuid": "9608cfa5-92c0-4463-a95f-5aa0cdc6f59c",
     "showTitle": false,
     "title": ""
    }
   },
   "outputs": [
    {
     "output_type": "display_data",
     "data": {
      "text/html": [
       "<style scoped>\n",
       "  .table-result-container {\n",
       "    max-height: 300px;\n",
       "    overflow: auto;\n",
       "  }\n",
       "  table, th, td {\n",
       "    border: 1px solid black;\n",
       "    border-collapse: collapse;\n",
       "  }\n",
       "  th, td {\n",
       "    padding: 5px;\n",
       "  }\n",
       "  th {\n",
       "    text-align: left;\n",
       "  }\n",
       "</style><div class='table-result-container'><table class='table-result'><thead style='background-color: white'><tr><th>version</th><th>timestamp</th><th>userId</th><th>userName</th><th>operation</th><th>operationParameters</th><th>job</th><th>notebook</th><th>clusterId</th><th>readVersion</th><th>isolationLevel</th><th>isBlindAppend</th><th>operationMetrics</th><th>userMetadata</th><th>engineInfo</th></tr></thead><tbody><tr><td>4</td><td>2023-12-05T08:44:30Z</td><td>2819532067442980</td><td>pedro.junqueira@agile-analytics.com.au</td><td>STREAMING UPDATE</td><td>Map(outputMode -> Append, queryId -> 11954145-67ae-458c-9ebc-997169cce15c, epochId -> 1)</td><td>null</td><td>List(762933502808922)</td><td>1107-222207-i96cpubv</td><td>3</td><td>WriteSerializable</td><td>true</td><td>Map(numRemovedFiles -> 0, numOutputRows -> 60, numOutputBytes -> 7951, numAddedFiles -> 3)</td><td>null</td><td>Databricks-Runtime/13.3.x-photon-scala2.12</td></tr><tr><td>3</td><td>2023-12-05T08:32:59Z</td><td>2819532067442980</td><td>pedro.junqueira@agile-analytics.com.au</td><td>UPDATE</td><td>Map(predicate -> [\"(cast(id#1769 as int) = 1)\"])</td><td>null</td><td>List(762933502808922)</td><td>1107-222207-i96cpubv</td><td>2</td><td>WriteSerializable</td><td>false</td><td>Map(numRemovedFiles -> 1, numRemovedBytes -> 2619, numCopiedRows -> 19, numDeletionVectorsAdded -> 0, numDeletionVectorsRemoved -> 0, numAddedChangeFiles -> 1, executionTimeMs -> 3386, scanTimeMs -> 2261, numAddedFiles -> 1, numUpdatedRows -> 1, numAddedBytes -> 2779, rewriteTimeMs -> 1104)</td><td>null</td><td>Databricks-Runtime/13.3.x-photon-scala2.12</td></tr><tr><td>2</td><td>2023-12-05T08:30:20Z</td><td>2819532067442980</td><td>pedro.junqueira@agile-analytics.com.au</td><td>SET TBLPROPERTIES</td><td>Map(properties -> {\"delta.enableChangeDataFeed\":\"true\"})</td><td>null</td><td>List(762933502808922)</td><td>1107-222207-i96cpubv</td><td>1</td><td>WriteSerializable</td><td>true</td><td>Map()</td><td>null</td><td>Databricks-Runtime/13.3.x-photon-scala2.12</td></tr><tr><td>1</td><td>2023-12-05T08:29:31Z</td><td>2819532067442980</td><td>pedro.junqueira@agile-analytics.com.au</td><td>STREAMING UPDATE</td><td>Map(outputMode -> Append, queryId -> 11954145-67ae-458c-9ebc-997169cce15c, epochId -> 0)</td><td>null</td><td>List(762933502808922)</td><td>1107-222207-i96cpubv</td><td>0</td><td>WriteSerializable</td><td>true</td><td>Map(numRemovedFiles -> 0, numOutputRows -> 20, numOutputBytes -> 2619, numAddedFiles -> 1)</td><td>null</td><td>Databricks-Runtime/13.3.x-photon-scala2.12</td></tr><tr><td>0</td><td>2023-12-05T08:29:02Z</td><td>2819532067442980</td><td>pedro.junqueira@agile-analytics.com.au</td><td>CREATE TABLE</td><td>Map(partitionBy -> [], description -> null, isManaged -> true, properties -> {}, statsOnLoad -> false)</td><td>null</td><td>List(762933502808922)</td><td>1107-222207-i96cpubv</td><td>null</td><td>WriteSerializable</td><td>true</td><td>Map()</td><td>null</td><td>Databricks-Runtime/13.3.x-photon-scala2.12</td></tr></tbody></table></div>"
      ]
     },
     "metadata": {
      "application/vnd.databricks.v1+output": {
       "addedWidgets": {},
       "aggData": [],
       "aggError": "",
       "aggOverflow": false,
       "aggSchema": [],
       "aggSeriesLimitReached": false,
       "aggType": "",
       "arguments": {},
       "columnCustomDisplayInfos": {},
       "data": [
        [
         4,
         "2023-12-05T08:44:30Z",
         "2819532067442980",
         "pedro.junqueira@agile-analytics.com.au",
         "STREAMING UPDATE",
         {
          "epochId": "1",
          "outputMode": "Append",
          "queryId": "11954145-67ae-458c-9ebc-997169cce15c"
         },
         null,
         [
          "762933502808922"
         ],
         "1107-222207-i96cpubv",
         3,
         "WriteSerializable",
         true,
         {
          "numAddedFiles": "3",
          "numOutputBytes": "7951",
          "numOutputRows": "60",
          "numRemovedFiles": "0"
         },
         null,
         "Databricks-Runtime/13.3.x-photon-scala2.12"
        ],
        [
         3,
         "2023-12-05T08:32:59Z",
         "2819532067442980",
         "pedro.junqueira@agile-analytics.com.au",
         "UPDATE",
         {
          "predicate": "[\"(cast(id#1769 as int) = 1)\"]"
         },
         null,
         [
          "762933502808922"
         ],
         "1107-222207-i96cpubv",
         2,
         "WriteSerializable",
         false,
         {
          "executionTimeMs": "3386",
          "numAddedBytes": "2779",
          "numAddedChangeFiles": "1",
          "numAddedFiles": "1",
          "numCopiedRows": "19",
          "numDeletionVectorsAdded": "0",
          "numDeletionVectorsRemoved": "0",
          "numRemovedBytes": "2619",
          "numRemovedFiles": "1",
          "numUpdatedRows": "1",
          "rewriteTimeMs": "1104",
          "scanTimeMs": "2261"
         },
         null,
         "Databricks-Runtime/13.3.x-photon-scala2.12"
        ],
        [
         2,
         "2023-12-05T08:30:20Z",
         "2819532067442980",
         "pedro.junqueira@agile-analytics.com.au",
         "SET TBLPROPERTIES",
         {
          "properties": "{\"delta.enableChangeDataFeed\":\"true\"}"
         },
         null,
         [
          "762933502808922"
         ],
         "1107-222207-i96cpubv",
         1,
         "WriteSerializable",
         true,
         {},
         null,
         "Databricks-Runtime/13.3.x-photon-scala2.12"
        ],
        [
         1,
         "2023-12-05T08:29:31Z",
         "2819532067442980",
         "pedro.junqueira@agile-analytics.com.au",
         "STREAMING UPDATE",
         {
          "epochId": "0",
          "outputMode": "Append",
          "queryId": "11954145-67ae-458c-9ebc-997169cce15c"
         },
         null,
         [
          "762933502808922"
         ],
         "1107-222207-i96cpubv",
         0,
         "WriteSerializable",
         true,
         {
          "numAddedFiles": "1",
          "numOutputBytes": "2619",
          "numOutputRows": "20",
          "numRemovedFiles": "0"
         },
         null,
         "Databricks-Runtime/13.3.x-photon-scala2.12"
        ],
        [
         0,
         "2023-12-05T08:29:02Z",
         "2819532067442980",
         "pedro.junqueira@agile-analytics.com.au",
         "CREATE TABLE",
         {
          "description": null,
          "isManaged": "true",
          "partitionBy": "[]",
          "properties": "{}",
          "statsOnLoad": "false"
         },
         null,
         [
          "762933502808922"
         ],
         "1107-222207-i96cpubv",
         null,
         "WriteSerializable",
         true,
         {},
         null,
         "Databricks-Runtime/13.3.x-photon-scala2.12"
        ]
       ],
       "datasetInfos": [],
       "dbfsResultPath": null,
       "isJsonSchema": true,
       "metadata": {},
       "overflow": false,
       "plotOptions": {
        "customPlotOptions": {},
        "displayType": "table",
        "pivotAggregation": null,
        "pivotColumns": null,
        "xColumns": null,
        "yColumns": null
       },
       "removedWidgets": [],
       "schema": [
        {
         "metadata": "{}",
         "name": "version",
         "type": "\"long\""
        },
        {
         "metadata": "{}",
         "name": "timestamp",
         "type": "\"timestamp\""
        },
        {
         "metadata": "{}",
         "name": "userId",
         "type": "\"string\""
        },
        {
         "metadata": "{}",
         "name": "userName",
         "type": "\"string\""
        },
        {
         "metadata": "{}",
         "name": "operation",
         "type": "\"string\""
        },
        {
         "metadata": "{}",
         "name": "operationParameters",
         "type": "{\"type\":\"map\",\"keyType\":\"string\",\"valueType\":\"string\",\"valueContainsNull\":true}"
        },
        {
         "metadata": "{}",
         "name": "job",
         "type": "{\"type\":\"struct\",\"fields\":[{\"name\":\"jobId\",\"type\":\"string\",\"nullable\":true,\"metadata\":{}},{\"name\":\"jobName\",\"type\":\"string\",\"nullable\":true,\"metadata\":{}},{\"name\":\"jobRunId\",\"type\":\"string\",\"nullable\":true,\"metadata\":{}},{\"name\":\"runId\",\"type\":\"string\",\"nullable\":true,\"metadata\":{}},{\"name\":\"jobOwnerId\",\"type\":\"string\",\"nullable\":true,\"metadata\":{}},{\"name\":\"triggerType\",\"type\":\"string\",\"nullable\":true,\"metadata\":{}}]}"
        },
        {
         "metadata": "{}",
         "name": "notebook",
         "type": "{\"type\":\"struct\",\"fields\":[{\"name\":\"notebookId\",\"type\":\"string\",\"nullable\":true,\"metadata\":{}}]}"
        },
        {
         "metadata": "{}",
         "name": "clusterId",
         "type": "\"string\""
        },
        {
         "metadata": "{}",
         "name": "readVersion",
         "type": "\"long\""
        },
        {
         "metadata": "{}",
         "name": "isolationLevel",
         "type": "\"string\""
        },
        {
         "metadata": "{}",
         "name": "isBlindAppend",
         "type": "\"boolean\""
        },
        {
         "metadata": "{}",
         "name": "operationMetrics",
         "type": "{\"type\":\"map\",\"keyType\":\"string\",\"valueType\":\"string\",\"valueContainsNull\":true}"
        },
        {
         "metadata": "{}",
         "name": "userMetadata",
         "type": "\"string\""
        },
        {
         "metadata": "{}",
         "name": "engineInfo",
         "type": "\"string\""
        }
       ],
       "type": "table"
      }
     },
     "output_type": "display_data"
    }
   ],
   "source": [
    "\n",
    "customers_deltaTable = DeltaTable.forName(spark, \"customers_bronze\")\n",
    "fullHistoryDF = customers_deltaTable.history()    # get the full history of the table\n",
    "lastOperationDF = customers_deltaTable.history(1) # get the last operation\n",
    "fullHistoryDF.display()"
   ]
  },
  {
   "cell_type": "code",
   "execution_count": 0,
   "metadata": {
    "application/vnd.databricks.v1+cell": {
     "cellMetadata": {
      "byteLimit": 2048000,
      "implicitDf": true,
      "rowLimit": 10000
     },
     "inputWidgets": {},
     "nuid": "b923ce84-4318-49e1-b4ca-ed5eac968848",
     "showTitle": false,
     "title": ""
    }
   },
   "outputs": [
    {
     "output_type": "display_data",
     "data": {
      "text/html": [
       "<style scoped>\n",
       "  .table-result-container {\n",
       "    max-height: 300px;\n",
       "    overflow: auto;\n",
       "  }\n",
       "  table, th, td {\n",
       "    border: 1px solid black;\n",
       "    border-collapse: collapse;\n",
       "  }\n",
       "  th, td {\n",
       "    padding: 5px;\n",
       "  }\n",
       "  th {\n",
       "    text-align: left;\n",
       "  }\n",
       "</style><div class='table-result-container'><table class='table-result'><thead style='background-color: white'><tr><th>id</th><th>first_name</th><th>last_name</th><th>email</th><th>city</th><th>_rescued_data</th></tr></thead><tbody><tr><td>1</td><td>Sarah</td><td>Santiago</td><td>susanstark@example.org</td><td>Port Lauren</td><td>null</td></tr><tr><td>10</td><td>Ashley</td><td>Young</td><td>jason26@example.net</td><td>Port Robert</td><td>null</td></tr><tr><td>11</td><td>Michael</td><td>Smith</td><td>andrew67@example.net</td><td>Guerrachester</td><td>null</td></tr><tr><td>12</td><td>Kenneth</td><td>Taylor</td><td>anthony97@example.net</td><td>Jamesmouth</td><td>null</td></tr><tr><td>13</td><td>Derrick</td><td>Gordon</td><td>amanda84@example.org</td><td>Timothymouth</td><td>null</td></tr><tr><td>14</td><td>Tina</td><td>Hopkins</td><td>kevin08@example.net</td><td>Acostaside</td><td>null</td></tr><tr><td>15</td><td>William</td><td>Jones</td><td>hsmith@example.org</td><td>Dawnmouth</td><td>null</td></tr><tr><td>16</td><td>Tony</td><td>Martinez</td><td>joshua70@example.net</td><td>New Dwaynemouth</td><td>null</td></tr><tr><td>17</td><td>Nichole</td><td>Clark</td><td>sbarnett@example.org</td><td>Port Shawn</td><td>null</td></tr><tr><td>18</td><td>Matthew</td><td>Shaw</td><td>qjohnson@example.org</td><td>West William</td><td>null</td></tr><tr><td>19</td><td>Vicki</td><td>Griffin</td><td>wallacetodd@example.org</td><td>New Conniechester</td><td>null</td></tr><tr><td>2</td><td>Robert</td><td>Stephenson</td><td>nandrade@example.com</td><td>Lake Sherry</td><td>null</td></tr><tr><td>20</td><td>Diane</td><td>Woods</td><td>randy58@example.com</td><td>South Laurenville</td><td>null</td></tr><tr><td>3</td><td>Tammy</td><td>Whitaker</td><td>amanda07@example.net</td><td>Clarkmouth</td><td>null</td></tr><tr><td>4</td><td>Melissa</td><td>Rogers</td><td>richardallen@example.org</td><td>Lake Christopher</td><td>null</td></tr><tr><td>5</td><td>Jenna</td><td>Bennett</td><td>egarcia@example.org</td><td>Davidstad</td><td>null</td></tr><tr><td>6</td><td>Tiffany</td><td>Solis</td><td>patricia02@example.com</td><td>Nicholaschester</td><td>null</td></tr><tr><td>7</td><td>Sabrina</td><td>Ryan</td><td>debbieflores@example.net</td><td>Floresshire</td><td>null</td></tr><tr><td>8</td><td>Nancy</td><td>Reed</td><td>kyle58@example.org</td><td>New Charles</td><td>null</td></tr><tr><td>9</td><td>Cody</td><td>Johnson</td><td>hutchinsonmelinda@example.com</td><td>West Robertland</td><td>null</td></tr></tbody></table></div>"
      ]
     },
     "metadata": {
      "application/vnd.databricks.v1+output": {
       "addedWidgets": {},
       "aggData": [],
       "aggError": "",
       "aggOverflow": false,
       "aggSchema": [],
       "aggSeriesLimitReached": false,
       "aggType": "",
       "arguments": {},
       "columnCustomDisplayInfos": {},
       "data": [
        [
         "1",
         "Sarah",
         "Santiago",
         "susanstark@example.org",
         "Port Lauren",
         null
        ],
        [
         "10",
         "Ashley",
         "Young",
         "jason26@example.net",
         "Port Robert",
         null
        ],
        [
         "11",
         "Michael",
         "Smith",
         "andrew67@example.net",
         "Guerrachester",
         null
        ],
        [
         "12",
         "Kenneth",
         "Taylor",
         "anthony97@example.net",
         "Jamesmouth",
         null
        ],
        [
         "13",
         "Derrick",
         "Gordon",
         "amanda84@example.org",
         "Timothymouth",
         null
        ],
        [
         "14",
         "Tina",
         "Hopkins",
         "kevin08@example.net",
         "Acostaside",
         null
        ],
        [
         "15",
         "William",
         "Jones",
         "hsmith@example.org",
         "Dawnmouth",
         null
        ],
        [
         "16",
         "Tony",
         "Martinez",
         "joshua70@example.net",
         "New Dwaynemouth",
         null
        ],
        [
         "17",
         "Nichole",
         "Clark",
         "sbarnett@example.org",
         "Port Shawn",
         null
        ],
        [
         "18",
         "Matthew",
         "Shaw",
         "qjohnson@example.org",
         "West William",
         null
        ],
        [
         "19",
         "Vicki",
         "Griffin",
         "wallacetodd@example.org",
         "New Conniechester",
         null
        ],
        [
         "2",
         "Robert",
         "Stephenson",
         "nandrade@example.com",
         "Lake Sherry",
         null
        ],
        [
         "20",
         "Diane",
         "Woods",
         "randy58@example.com",
         "South Laurenville",
         null
        ],
        [
         "3",
         "Tammy",
         "Whitaker",
         "amanda07@example.net",
         "Clarkmouth",
         null
        ],
        [
         "4",
         "Melissa",
         "Rogers",
         "richardallen@example.org",
         "Lake Christopher",
         null
        ],
        [
         "5",
         "Jenna",
         "Bennett",
         "egarcia@example.org",
         "Davidstad",
         null
        ],
        [
         "6",
         "Tiffany",
         "Solis",
         "patricia02@example.com",
         "Nicholaschester",
         null
        ],
        [
         "7",
         "Sabrina",
         "Ryan",
         "debbieflores@example.net",
         "Floresshire",
         null
        ],
        [
         "8",
         "Nancy",
         "Reed",
         "kyle58@example.org",
         "New Charles",
         null
        ],
        [
         "9",
         "Cody",
         "Johnson",
         "hutchinsonmelinda@example.com",
         "West Robertland",
         null
        ]
       ],
       "datasetInfos": [],
       "dbfsResultPath": null,
       "isJsonSchema": true,
       "metadata": {},
       "overflow": false,
       "plotOptions": {
        "customPlotOptions": {},
        "displayType": "table",
        "pivotAggregation": null,
        "pivotColumns": null,
        "xColumns": null,
        "yColumns": null
       },
       "removedWidgets": [],
       "schema": [
        {
         "metadata": "{}",
         "name": "id",
         "type": "\"string\""
        },
        {
         "metadata": "{}",
         "name": "first_name",
         "type": "\"string\""
        },
        {
         "metadata": "{}",
         "name": "last_name",
         "type": "\"string\""
        },
        {
         "metadata": "{}",
         "name": "email",
         "type": "\"string\""
        },
        {
         "metadata": "{}",
         "name": "city",
         "type": "\"string\""
        },
        {
         "metadata": "{}",
         "name": "_rescued_data",
         "type": "\"string\""
        }
       ],
       "type": "table"
      }
     },
     "output_type": "display_data"
    }
   ],
   "source": [
    "customers_df = customers_deltaTable.toDF()\n",
    "(customers_df\n",
    "    .orderBy('id')\n",
    "    .display())"
   ]
  },
  {
   "cell_type": "code",
   "execution_count": 0,
   "metadata": {
    "application/vnd.databricks.v1+cell": {
     "cellMetadata": {
      "byteLimit": 2048000,
      "rowLimit": 10000
     },
     "inputWidgets": {},
     "nuid": "cf59c72a-648b-4d56-9924-794a8257058f",
     "showTitle": false,
     "title": ""
    }
   },
   "outputs": [
    {
     "output_type": "display_data",
     "data": {
      "text/html": [
       "<style scoped>\n",
       "  .table-result-container {\n",
       "    max-height: 300px;\n",
       "    overflow: auto;\n",
       "  }\n",
       "  table, th, td {\n",
       "    border: 1px solid black;\n",
       "    border-collapse: collapse;\n",
       "  }\n",
       "  th, td {\n",
       "    padding: 5px;\n",
       "  }\n",
       "  th {\n",
       "    text-align: left;\n",
       "  }\n",
       "</style><div class='table-result-container'><table class='table-result'><thead style='background-color: white'><tr><th>id</th><th>first_name</th><th>last_name</th><th>email</th><th>city</th><th>_rescued_data</th><th>_change_type</th><th>_commit_version</th><th>_commit_timestamp</th></tr></thead><tbody><tr><td>1</td><td>Sarah</td><td>Spider</td><td>susanstark@example.org</td><td>Port Lauren</td><td>null</td><td>update_postimage</td><td>3</td><td>2023-12-05T08:32:59Z</td></tr><tr><td>1</td><td>Sarah</td><td>Santiago</td><td>susanstark@example.org</td><td>Port Lauren</td><td>null</td><td>update_preimage</td><td>3</td><td>2023-12-05T08:32:59Z</td></tr><tr><td>61</td><td>Jeffrey</td><td>Ward</td><td>csmith@example.net</td><td>Nataliefurt</td><td>null</td><td>insert</td><td>4</td><td>2023-12-05T08:44:30Z</td></tr><tr><td>62</td><td>Nicole</td><td>Shepard</td><td>melanie60@example.net</td><td>Port Lorifort</td><td>null</td><td>insert</td><td>4</td><td>2023-12-05T08:44:30Z</td></tr><tr><td>63</td><td>Francisco</td><td>Thomas</td><td>staceywest@example.org</td><td>Port Jessica</td><td>null</td><td>insert</td><td>4</td><td>2023-12-05T08:44:30Z</td></tr><tr><td>64</td><td>Kaitlyn</td><td>Lang</td><td>susansanchez@example.com</td><td>Lake Kathyfurt</td><td>null</td><td>insert</td><td>4</td><td>2023-12-05T08:44:30Z</td></tr><tr><td>65</td><td>Christopher</td><td>Bridges</td><td>stewartcharles@example.org</td><td>North Sarabury</td><td>null</td><td>insert</td><td>4</td><td>2023-12-05T08:44:30Z</td></tr><tr><td>66</td><td>Samuel</td><td>Adams</td><td>collin19@example.com</td><td>Millerton</td><td>null</td><td>insert</td><td>4</td><td>2023-12-05T08:44:30Z</td></tr><tr><td>67</td><td>Robert</td><td>Mason</td><td>joshuagraves@example.org</td><td>Andersonshire</td><td>null</td><td>insert</td><td>4</td><td>2023-12-05T08:44:30Z</td></tr><tr><td>68</td><td>Kimberly</td><td>Sparks</td><td>melaniebrown@example.org</td><td>Edwardville</td><td>null</td><td>insert</td><td>4</td><td>2023-12-05T08:44:30Z</td></tr><tr><td>69</td><td>Vincent</td><td>Powell</td><td>reevesjames@example.org</td><td>New Amyshire</td><td>null</td><td>insert</td><td>4</td><td>2023-12-05T08:44:30Z</td></tr><tr><td>70</td><td>David</td><td>Murray</td><td>andersonjennifer@example.net</td><td>Collinsburgh</td><td>null</td><td>insert</td><td>4</td><td>2023-12-05T08:44:30Z</td></tr><tr><td>71</td><td>Alexandria</td><td>Williams</td><td>joneslee@example.org</td><td>Lake Michelle</td><td>null</td><td>insert</td><td>4</td><td>2023-12-05T08:44:30Z</td></tr><tr><td>72</td><td>Shawn</td><td>Haney</td><td>lauren86@example.org</td><td>East Antonio</td><td>null</td><td>insert</td><td>4</td><td>2023-12-05T08:44:30Z</td></tr><tr><td>73</td><td>Lisa</td><td>Chaney</td><td>qboone@example.com</td><td>Port Cindyshire</td><td>null</td><td>insert</td><td>4</td><td>2023-12-05T08:44:30Z</td></tr><tr><td>74</td><td>Jimmy</td><td>Castillo</td><td>loweryjesus@example.com</td><td>Harrisview</td><td>null</td><td>insert</td><td>4</td><td>2023-12-05T08:44:30Z</td></tr><tr><td>75</td><td>Erik</td><td>Howell</td><td>vsummers@example.net</td><td>Johnsonmouth</td><td>null</td><td>insert</td><td>4</td><td>2023-12-05T08:44:30Z</td></tr><tr><td>76</td><td>John</td><td>Harper</td><td>bjohnson@example.net</td><td>Port Joshuaview</td><td>null</td><td>insert</td><td>4</td><td>2023-12-05T08:44:30Z</td></tr><tr><td>77</td><td>Allen</td><td>Fisher</td><td>jcummings@example.net</td><td>Greenetown</td><td>null</td><td>insert</td><td>4</td><td>2023-12-05T08:44:30Z</td></tr><tr><td>78</td><td>Matthew</td><td>Hicks</td><td>davidelliott@example.net</td><td>South Barbarachester</td><td>null</td><td>insert</td><td>4</td><td>2023-12-05T08:44:30Z</td></tr><tr><td>79</td><td>Adam</td><td>Wilkins</td><td>kimberlybaker@example.org</td><td>Millermouth</td><td>null</td><td>insert</td><td>4</td><td>2023-12-05T08:44:30Z</td></tr><tr><td>80</td><td>Kimberly</td><td>Villa</td><td>jjones@example.com</td><td>Annaburgh</td><td>null</td><td>insert</td><td>4</td><td>2023-12-05T08:44:30Z</td></tr><tr><td>81</td><td>Vicki</td><td>Rivera</td><td>gkelley@example.net</td><td>East Eric</td><td>null</td><td>insert</td><td>4</td><td>2023-12-05T08:44:30Z</td></tr><tr><td>82</td><td>Lawrence</td><td>Weber</td><td>johnsonnichole@example.org</td><td>West Barryland</td><td>null</td><td>insert</td><td>4</td><td>2023-12-05T08:44:30Z</td></tr><tr><td>83</td><td>Stacy</td><td>Chapman</td><td>richardray@example.com</td><td>West Stevenmouth</td><td>null</td><td>insert</td><td>4</td><td>2023-12-05T08:44:30Z</td></tr><tr><td>84</td><td>Kelly</td><td>Obrien</td><td>ischmidt@example.org</td><td>East Jessicaport</td><td>null</td><td>insert</td><td>4</td><td>2023-12-05T08:44:30Z</td></tr><tr><td>85</td><td>Mary</td><td>Spence</td><td>williamthompson@example.com</td><td>Paulville</td><td>null</td><td>insert</td><td>4</td><td>2023-12-05T08:44:30Z</td></tr><tr><td>86</td><td>Michelle</td><td>Garcia</td><td>lisaross@example.org</td><td>South Jacob</td><td>null</td><td>insert</td><td>4</td><td>2023-12-05T08:44:30Z</td></tr><tr><td>87</td><td>John</td><td>Rivas</td><td>alexandra34@example.com</td><td>Jefferyland</td><td>null</td><td>insert</td><td>4</td><td>2023-12-05T08:44:30Z</td></tr><tr><td>88</td><td>Julia</td><td>Clark</td><td>uromero@example.org</td><td>Michaelland</td><td>null</td><td>insert</td><td>4</td><td>2023-12-05T08:44:30Z</td></tr><tr><td>89</td><td>Joshua</td><td>Rodriguez</td><td>diane69@example.org</td><td>West John</td><td>null</td><td>insert</td><td>4</td><td>2023-12-05T08:44:30Z</td></tr><tr><td>90</td><td>Amy</td><td>Payne</td><td>gjohnson@example.net</td><td>Pierceshire</td><td>null</td><td>insert</td><td>4</td><td>2023-12-05T08:44:30Z</td></tr><tr><td>91</td><td>Veronica</td><td>Martinez</td><td>lucerolisa@example.org</td><td>New Debbiehaven</td><td>null</td><td>insert</td><td>4</td><td>2023-12-05T08:44:30Z</td></tr><tr><td>92</td><td>Kelly</td><td>Rodgers</td><td>briannawade@example.org</td><td>Myersville</td><td>null</td><td>insert</td><td>4</td><td>2023-12-05T08:44:30Z</td></tr><tr><td>93</td><td>Derek</td><td>Salazar</td><td>ellen47@example.net</td><td>Rodriguezville</td><td>null</td><td>insert</td><td>4</td><td>2023-12-05T08:44:30Z</td></tr><tr><td>94</td><td>Kimberly</td><td>Lewis</td><td>jessicagalvan@example.net</td><td>Roybury</td><td>null</td><td>insert</td><td>4</td><td>2023-12-05T08:44:30Z</td></tr><tr><td>95</td><td>Marcia</td><td>Daniels</td><td>mcneilbrett@example.org</td><td>Michellemouth</td><td>null</td><td>insert</td><td>4</td><td>2023-12-05T08:44:30Z</td></tr><tr><td>96</td><td>Eric</td><td>Carter</td><td>kennedykathryn@example.com</td><td>West Dylan</td><td>null</td><td>insert</td><td>4</td><td>2023-12-05T08:44:30Z</td></tr><tr><td>97</td><td>Nicholas</td><td>Sutton</td><td>johnsonangela@example.net</td><td>South Kimberlyton</td><td>null</td><td>insert</td><td>4</td><td>2023-12-05T08:44:30Z</td></tr><tr><td>98</td><td>Jason</td><td>Torres</td><td>davidcalderon@example.org</td><td>East Tammymouth</td><td>null</td><td>insert</td><td>4</td><td>2023-12-05T08:44:30Z</td></tr><tr><td>99</td><td>Lacey</td><td>Dunn</td><td>rodgersbernard@example.com</td><td>Joneschester</td><td>null</td><td>insert</td><td>4</td><td>2023-12-05T08:44:30Z</td></tr><tr><td>100</td><td>Patrick</td><td>Green</td><td>swansonmelissa@example.org</td><td>East Stephen</td><td>null</td><td>insert</td><td>4</td><td>2023-12-05T08:44:30Z</td></tr><tr><td>21</td><td>Dylan</td><td>Hayes</td><td>jtate@example.net</td><td>Hooperborough</td><td>null</td><td>insert</td><td>4</td><td>2023-12-05T08:44:30Z</td></tr><tr><td>22</td><td>William</td><td>Avila</td><td>jimmyblackburn@example.org</td><td>Jayland</td><td>null</td><td>insert</td><td>4</td><td>2023-12-05T08:44:30Z</td></tr><tr><td>23</td><td>Lisa</td><td>Adams</td><td>shenderson@example.org</td><td>Lake Joseph</td><td>null</td><td>insert</td><td>4</td><td>2023-12-05T08:44:30Z</td></tr><tr><td>24</td><td>Laura</td><td>Hughes</td><td>jameswilliams@example.net</td><td>Pamstad</td><td>null</td><td>insert</td><td>4</td><td>2023-12-05T08:44:30Z</td></tr><tr><td>25</td><td>Harold</td><td>Jackson</td><td>barry05@example.com</td><td>West Andrea</td><td>null</td><td>insert</td><td>4</td><td>2023-12-05T08:44:30Z</td></tr><tr><td>26</td><td>Stephanie</td><td>Sims</td><td>wolfeanthony@example.net</td><td>West David</td><td>null</td><td>insert</td><td>4</td><td>2023-12-05T08:44:30Z</td></tr><tr><td>27</td><td>Christopher</td><td>Wright</td><td>coxlouis@example.net</td><td>Leslietown</td><td>null</td><td>insert</td><td>4</td><td>2023-12-05T08:44:30Z</td></tr><tr><td>28</td><td>Donald</td><td>Delgado</td><td>ylewis@example.org</td><td>Lake Patrickhaven</td><td>null</td><td>insert</td><td>4</td><td>2023-12-05T08:44:30Z</td></tr><tr><td>29</td><td>Terri</td><td>Chavez</td><td>caldwelladam@example.net</td><td>Grossstad</td><td>null</td><td>insert</td><td>4</td><td>2023-12-05T08:44:30Z</td></tr><tr><td>30</td><td>Joel</td><td>Johnson</td><td>kellyschroeder@example.org</td><td>Karenfort</td><td>null</td><td>insert</td><td>4</td><td>2023-12-05T08:44:30Z</td></tr><tr><td>31</td><td>Jessica</td><td>Floyd</td><td>laceymcdonald@example.com</td><td>Tonyaville</td><td>null</td><td>insert</td><td>4</td><td>2023-12-05T08:44:30Z</td></tr><tr><td>32</td><td>Martin</td><td>Petersen</td><td>brandonlewis@example.com</td><td>North Michael</td><td>null</td><td>insert</td><td>4</td><td>2023-12-05T08:44:30Z</td></tr><tr><td>33</td><td>Anthony</td><td>Carney</td><td>gbaker@example.org</td><td>Pachecostad</td><td>null</td><td>insert</td><td>4</td><td>2023-12-05T08:44:30Z</td></tr><tr><td>34</td><td>Eileen</td><td>Baker</td><td>zshort@example.com</td><td>Port Michaelshire</td><td>null</td><td>insert</td><td>4</td><td>2023-12-05T08:44:30Z</td></tr><tr><td>35</td><td>Joshua</td><td>Owens</td><td>vanessa93@example.net</td><td>Weeksside</td><td>null</td><td>insert</td><td>4</td><td>2023-12-05T08:44:30Z</td></tr><tr><td>36</td><td>David</td><td>Wilson</td><td>clarkleah@example.net</td><td>Lisaton</td><td>null</td><td>insert</td><td>4</td><td>2023-12-05T08:44:30Z</td></tr><tr><td>37</td><td>Christopher</td><td>Ortiz</td><td>ryanevans@example.org</td><td>Tranview</td><td>null</td><td>insert</td><td>4</td><td>2023-12-05T08:44:30Z</td></tr><tr><td>38</td><td>Angela</td><td>Rodriguez</td><td>briggschelsea@example.com</td><td>North Kurtland</td><td>null</td><td>insert</td><td>4</td><td>2023-12-05T08:44:30Z</td></tr><tr><td>39</td><td>Paul</td><td>Sherman</td><td>fvilla@example.com</td><td>Briggsfurt</td><td>null</td><td>insert</td><td>4</td><td>2023-12-05T08:44:30Z</td></tr><tr><td>40</td><td>Stephanie</td><td>Allen</td><td>lauren21@example.com</td><td>New Cassandra</td><td>null</td><td>insert</td><td>4</td><td>2023-12-05T08:44:30Z</td></tr></tbody></table></div>"
      ]
     },
     "metadata": {
      "application/vnd.databricks.v1+output": {
       "addedWidgets": {},
       "aggData": [],
       "aggError": "",
       "aggOverflow": false,
       "aggSchema": [],
       "aggSeriesLimitReached": false,
       "aggType": "",
       "arguments": {},
       "columnCustomDisplayInfos": {},
       "data": [
        [
         "1",
         "Sarah",
         "Spider",
         "susanstark@example.org",
         "Port Lauren",
         null,
         "update_postimage",
         3,
         "2023-12-05T08:32:59Z"
        ],
        [
         "1",
         "Sarah",
         "Santiago",
         "susanstark@example.org",
         "Port Lauren",
         null,
         "update_preimage",
         3,
         "2023-12-05T08:32:59Z"
        ],
        [
         "61",
         "Jeffrey",
         "Ward",
         "csmith@example.net",
         "Nataliefurt",
         null,
         "insert",
         4,
         "2023-12-05T08:44:30Z"
        ],
        [
         "62",
         "Nicole",
         "Shepard",
         "melanie60@example.net",
         "Port Lorifort",
         null,
         "insert",
         4,
         "2023-12-05T08:44:30Z"
        ],
        [
         "63",
         "Francisco",
         "Thomas",
         "staceywest@example.org",
         "Port Jessica",
         null,
         "insert",
         4,
         "2023-12-05T08:44:30Z"
        ],
        [
         "64",
         "Kaitlyn",
         "Lang",
         "susansanchez@example.com",
         "Lake Kathyfurt",
         null,
         "insert",
         4,
         "2023-12-05T08:44:30Z"
        ],
        [
         "65",
         "Christopher",
         "Bridges",
         "stewartcharles@example.org",
         "North Sarabury",
         null,
         "insert",
         4,
         "2023-12-05T08:44:30Z"
        ],
        [
         "66",
         "Samuel",
         "Adams",
         "collin19@example.com",
         "Millerton",
         null,
         "insert",
         4,
         "2023-12-05T08:44:30Z"
        ],
        [
         "67",
         "Robert",
         "Mason",
         "joshuagraves@example.org",
         "Andersonshire",
         null,
         "insert",
         4,
         "2023-12-05T08:44:30Z"
        ],
        [
         "68",
         "Kimberly",
         "Sparks",
         "melaniebrown@example.org",
         "Edwardville",
         null,
         "insert",
         4,
         "2023-12-05T08:44:30Z"
        ],
        [
         "69",
         "Vincent",
         "Powell",
         "reevesjames@example.org",
         "New Amyshire",
         null,
         "insert",
         4,
         "2023-12-05T08:44:30Z"
        ],
        [
         "70",
         "David",
         "Murray",
         "andersonjennifer@example.net",
         "Collinsburgh",
         null,
         "insert",
         4,
         "2023-12-05T08:44:30Z"
        ],
        [
         "71",
         "Alexandria",
         "Williams",
         "joneslee@example.org",
         "Lake Michelle",
         null,
         "insert",
         4,
         "2023-12-05T08:44:30Z"
        ],
        [
         "72",
         "Shawn",
         "Haney",
         "lauren86@example.org",
         "East Antonio",
         null,
         "insert",
         4,
         "2023-12-05T08:44:30Z"
        ],
        [
         "73",
         "Lisa",
         "Chaney",
         "qboone@example.com",
         "Port Cindyshire",
         null,
         "insert",
         4,
         "2023-12-05T08:44:30Z"
        ],
        [
         "74",
         "Jimmy",
         "Castillo",
         "loweryjesus@example.com",
         "Harrisview",
         null,
         "insert",
         4,
         "2023-12-05T08:44:30Z"
        ],
        [
         "75",
         "Erik",
         "Howell",
         "vsummers@example.net",
         "Johnsonmouth",
         null,
         "insert",
         4,
         "2023-12-05T08:44:30Z"
        ],
        [
         "76",
         "John",
         "Harper",
         "bjohnson@example.net",
         "Port Joshuaview",
         null,
         "insert",
         4,
         "2023-12-05T08:44:30Z"
        ],
        [
         "77",
         "Allen",
         "Fisher",
         "jcummings@example.net",
         "Greenetown",
         null,
         "insert",
         4,
         "2023-12-05T08:44:30Z"
        ],
        [
         "78",
         "Matthew",
         "Hicks",
         "davidelliott@example.net",
         "South Barbarachester",
         null,
         "insert",
         4,
         "2023-12-05T08:44:30Z"
        ],
        [
         "79",
         "Adam",
         "Wilkins",
         "kimberlybaker@example.org",
         "Millermouth",
         null,
         "insert",
         4,
         "2023-12-05T08:44:30Z"
        ],
        [
         "80",
         "Kimberly",
         "Villa",
         "jjones@example.com",
         "Annaburgh",
         null,
         "insert",
         4,
         "2023-12-05T08:44:30Z"
        ],
        [
         "81",
         "Vicki",
         "Rivera",
         "gkelley@example.net",
         "East Eric",
         null,
         "insert",
         4,
         "2023-12-05T08:44:30Z"
        ],
        [
         "82",
         "Lawrence",
         "Weber",
         "johnsonnichole@example.org",
         "West Barryland",
         null,
         "insert",
         4,
         "2023-12-05T08:44:30Z"
        ],
        [
         "83",
         "Stacy",
         "Chapman",
         "richardray@example.com",
         "West Stevenmouth",
         null,
         "insert",
         4,
         "2023-12-05T08:44:30Z"
        ],
        [
         "84",
         "Kelly",
         "Obrien",
         "ischmidt@example.org",
         "East Jessicaport",
         null,
         "insert",
         4,
         "2023-12-05T08:44:30Z"
        ],
        [
         "85",
         "Mary",
         "Spence",
         "williamthompson@example.com",
         "Paulville",
         null,
         "insert",
         4,
         "2023-12-05T08:44:30Z"
        ],
        [
         "86",
         "Michelle",
         "Garcia",
         "lisaross@example.org",
         "South Jacob",
         null,
         "insert",
         4,
         "2023-12-05T08:44:30Z"
        ],
        [
         "87",
         "John",
         "Rivas",
         "alexandra34@example.com",
         "Jefferyland",
         null,
         "insert",
         4,
         "2023-12-05T08:44:30Z"
        ],
        [
         "88",
         "Julia",
         "Clark",
         "uromero@example.org",
         "Michaelland",
         null,
         "insert",
         4,
         "2023-12-05T08:44:30Z"
        ],
        [
         "89",
         "Joshua",
         "Rodriguez",
         "diane69@example.org",
         "West John",
         null,
         "insert",
         4,
         "2023-12-05T08:44:30Z"
        ],
        [
         "90",
         "Amy",
         "Payne",
         "gjohnson@example.net",
         "Pierceshire",
         null,
         "insert",
         4,
         "2023-12-05T08:44:30Z"
        ],
        [
         "91",
         "Veronica",
         "Martinez",
         "lucerolisa@example.org",
         "New Debbiehaven",
         null,
         "insert",
         4,
         "2023-12-05T08:44:30Z"
        ],
        [
         "92",
         "Kelly",
         "Rodgers",
         "briannawade@example.org",
         "Myersville",
         null,
         "insert",
         4,
         "2023-12-05T08:44:30Z"
        ],
        [
         "93",
         "Derek",
         "Salazar",
         "ellen47@example.net",
         "Rodriguezville",
         null,
         "insert",
         4,
         "2023-12-05T08:44:30Z"
        ],
        [
         "94",
         "Kimberly",
         "Lewis",
         "jessicagalvan@example.net",
         "Roybury",
         null,
         "insert",
         4,
         "2023-12-05T08:44:30Z"
        ],
        [
         "95",
         "Marcia",
         "Daniels",
         "mcneilbrett@example.org",
         "Michellemouth",
         null,
         "insert",
         4,
         "2023-12-05T08:44:30Z"
        ],
        [
         "96",
         "Eric",
         "Carter",
         "kennedykathryn@example.com",
         "West Dylan",
         null,
         "insert",
         4,
         "2023-12-05T08:44:30Z"
        ],
        [
         "97",
         "Nicholas",
         "Sutton",
         "johnsonangela@example.net",
         "South Kimberlyton",
         null,
         "insert",
         4,
         "2023-12-05T08:44:30Z"
        ],
        [
         "98",
         "Jason",
         "Torres",
         "davidcalderon@example.org",
         "East Tammymouth",
         null,
         "insert",
         4,
         "2023-12-05T08:44:30Z"
        ],
        [
         "99",
         "Lacey",
         "Dunn",
         "rodgersbernard@example.com",
         "Joneschester",
         null,
         "insert",
         4,
         "2023-12-05T08:44:30Z"
        ],
        [
         "100",
         "Patrick",
         "Green",
         "swansonmelissa@example.org",
         "East Stephen",
         null,
         "insert",
         4,
         "2023-12-05T08:44:30Z"
        ],
        [
         "21",
         "Dylan",
         "Hayes",
         "jtate@example.net",
         "Hooperborough",
         null,
         "insert",
         4,
         "2023-12-05T08:44:30Z"
        ],
        [
         "22",
         "William",
         "Avila",
         "jimmyblackburn@example.org",
         "Jayland",
         null,
         "insert",
         4,
         "2023-12-05T08:44:30Z"
        ],
        [
         "23",
         "Lisa",
         "Adams",
         "shenderson@example.org",
         "Lake Joseph",
         null,
         "insert",
         4,
         "2023-12-05T08:44:30Z"
        ],
        [
         "24",
         "Laura",
         "Hughes",
         "jameswilliams@example.net",
         "Pamstad",
         null,
         "insert",
         4,
         "2023-12-05T08:44:30Z"
        ],
        [
         "25",
         "Harold",
         "Jackson",
         "barry05@example.com",
         "West Andrea",
         null,
         "insert",
         4,
         "2023-12-05T08:44:30Z"
        ],
        [
         "26",
         "Stephanie",
         "Sims",
         "wolfeanthony@example.net",
         "West David",
         null,
         "insert",
         4,
         "2023-12-05T08:44:30Z"
        ],
        [
         "27",
         "Christopher",
         "Wright",
         "coxlouis@example.net",
         "Leslietown",
         null,
         "insert",
         4,
         "2023-12-05T08:44:30Z"
        ],
        [
         "28",
         "Donald",
         "Delgado",
         "ylewis@example.org",
         "Lake Patrickhaven",
         null,
         "insert",
         4,
         "2023-12-05T08:44:30Z"
        ],
        [
         "29",
         "Terri",
         "Chavez",
         "caldwelladam@example.net",
         "Grossstad",
         null,
         "insert",
         4,
         "2023-12-05T08:44:30Z"
        ],
        [
         "30",
         "Joel",
         "Johnson",
         "kellyschroeder@example.org",
         "Karenfort",
         null,
         "insert",
         4,
         "2023-12-05T08:44:30Z"
        ],
        [
         "31",
         "Jessica",
         "Floyd",
         "laceymcdonald@example.com",
         "Tonyaville",
         null,
         "insert",
         4,
         "2023-12-05T08:44:30Z"
        ],
        [
         "32",
         "Martin",
         "Petersen",
         "brandonlewis@example.com",
         "North Michael",
         null,
         "insert",
         4,
         "2023-12-05T08:44:30Z"
        ],
        [
         "33",
         "Anthony",
         "Carney",
         "gbaker@example.org",
         "Pachecostad",
         null,
         "insert",
         4,
         "2023-12-05T08:44:30Z"
        ],
        [
         "34",
         "Eileen",
         "Baker",
         "zshort@example.com",
         "Port Michaelshire",
         null,
         "insert",
         4,
         "2023-12-05T08:44:30Z"
        ],
        [
         "35",
         "Joshua",
         "Owens",
         "vanessa93@example.net",
         "Weeksside",
         null,
         "insert",
         4,
         "2023-12-05T08:44:30Z"
        ],
        [
         "36",
         "David",
         "Wilson",
         "clarkleah@example.net",
         "Lisaton",
         null,
         "insert",
         4,
         "2023-12-05T08:44:30Z"
        ],
        [
         "37",
         "Christopher",
         "Ortiz",
         "ryanevans@example.org",
         "Tranview",
         null,
         "insert",
         4,
         "2023-12-05T08:44:30Z"
        ],
        [
         "38",
         "Angela",
         "Rodriguez",
         "briggschelsea@example.com",
         "North Kurtland",
         null,
         "insert",
         4,
         "2023-12-05T08:44:30Z"
        ],
        [
         "39",
         "Paul",
         "Sherman",
         "fvilla@example.com",
         "Briggsfurt",
         null,
         "insert",
         4,
         "2023-12-05T08:44:30Z"
        ],
        [
         "40",
         "Stephanie",
         "Allen",
         "lauren21@example.com",
         "New Cassandra",
         null,
         "insert",
         4,
         "2023-12-05T08:44:30Z"
        ]
       ],
       "datasetInfos": [],
       "dbfsResultPath": null,
       "isJsonSchema": true,
       "metadata": {},
       "overflow": false,
       "plotOptions": {
        "customPlotOptions": {},
        "displayType": "table",
        "pivotAggregation": null,
        "pivotColumns": null,
        "xColumns": null,
        "yColumns": null
       },
       "removedWidgets": [],
       "schema": [
        {
         "metadata": "{}",
         "name": "id",
         "type": "\"string\""
        },
        {
         "metadata": "{}",
         "name": "first_name",
         "type": "\"string\""
        },
        {
         "metadata": "{}",
         "name": "last_name",
         "type": "\"string\""
        },
        {
         "metadata": "{}",
         "name": "email",
         "type": "\"string\""
        },
        {
         "metadata": "{}",
         "name": "city",
         "type": "\"string\""
        },
        {
         "metadata": "{}",
         "name": "_rescued_data",
         "type": "\"string\""
        },
        {
         "metadata": "{}",
         "name": "_change_type",
         "type": "\"string\""
        },
        {
         "metadata": "{}",
         "name": "_commit_version",
         "type": "\"long\""
        },
        {
         "metadata": "{}",
         "name": "_commit_timestamp",
         "type": "\"timestamp\""
        }
       ],
       "type": "table"
      }
     },
     "output_type": "display_data"
    },
    {
     "output_type": "display_data",
     "data": {
      "text/html": [
       "<style scoped>\n",
       "  .table-result-container {\n",
       "    max-height: 300px;\n",
       "    overflow: auto;\n",
       "  }\n",
       "  table, th, td {\n",
       "    border: 1px solid black;\n",
       "    border-collapse: collapse;\n",
       "  }\n",
       "  th, td {\n",
       "    padding: 5px;\n",
       "  }\n",
       "  th {\n",
       "    text-align: left;\n",
       "  }\n",
       "</style><div class='table-result-container'><table class='table-result'><thead style='background-color: white'><tr><th>id</th><th>first_name</th><th>last_name</th><th>email</th><th>city</th><th>_rescued_data</th><th>_change_type</th><th>_commit_version</th><th>_commit_timestamp</th></tr></thead><tbody><tr><td>1</td><td>Sarah</td><td>Spider</td><td>susanstark@example.org</td><td>Port Lauren</td><td>null</td><td>update_postimage</td><td>3</td><td>2023-12-05T08:32:59Z</td></tr><tr><td>1</td><td>Sarah</td><td>Santiago</td><td>susanstark@example.org</td><td>Port Lauren</td><td>null</td><td>update_preimage</td><td>3</td><td>2023-12-05T08:32:59Z</td></tr><tr><td>61</td><td>Jeffrey</td><td>Ward</td><td>csmith@example.net</td><td>Nataliefurt</td><td>null</td><td>insert</td><td>4</td><td>2023-12-05T08:44:30Z</td></tr><tr><td>62</td><td>Nicole</td><td>Shepard</td><td>melanie60@example.net</td><td>Port Lorifort</td><td>null</td><td>insert</td><td>4</td><td>2023-12-05T08:44:30Z</td></tr><tr><td>63</td><td>Francisco</td><td>Thomas</td><td>staceywest@example.org</td><td>Port Jessica</td><td>null</td><td>insert</td><td>4</td><td>2023-12-05T08:44:30Z</td></tr><tr><td>64</td><td>Kaitlyn</td><td>Lang</td><td>susansanchez@example.com</td><td>Lake Kathyfurt</td><td>null</td><td>insert</td><td>4</td><td>2023-12-05T08:44:30Z</td></tr><tr><td>65</td><td>Christopher</td><td>Bridges</td><td>stewartcharles@example.org</td><td>North Sarabury</td><td>null</td><td>insert</td><td>4</td><td>2023-12-05T08:44:30Z</td></tr><tr><td>66</td><td>Samuel</td><td>Adams</td><td>collin19@example.com</td><td>Millerton</td><td>null</td><td>insert</td><td>4</td><td>2023-12-05T08:44:30Z</td></tr><tr><td>67</td><td>Robert</td><td>Mason</td><td>joshuagraves@example.org</td><td>Andersonshire</td><td>null</td><td>insert</td><td>4</td><td>2023-12-05T08:44:30Z</td></tr><tr><td>68</td><td>Kimberly</td><td>Sparks</td><td>melaniebrown@example.org</td><td>Edwardville</td><td>null</td><td>insert</td><td>4</td><td>2023-12-05T08:44:30Z</td></tr><tr><td>69</td><td>Vincent</td><td>Powell</td><td>reevesjames@example.org</td><td>New Amyshire</td><td>null</td><td>insert</td><td>4</td><td>2023-12-05T08:44:30Z</td></tr><tr><td>70</td><td>David</td><td>Murray</td><td>andersonjennifer@example.net</td><td>Collinsburgh</td><td>null</td><td>insert</td><td>4</td><td>2023-12-05T08:44:30Z</td></tr><tr><td>71</td><td>Alexandria</td><td>Williams</td><td>joneslee@example.org</td><td>Lake Michelle</td><td>null</td><td>insert</td><td>4</td><td>2023-12-05T08:44:30Z</td></tr><tr><td>72</td><td>Shawn</td><td>Haney</td><td>lauren86@example.org</td><td>East Antonio</td><td>null</td><td>insert</td><td>4</td><td>2023-12-05T08:44:30Z</td></tr><tr><td>73</td><td>Lisa</td><td>Chaney</td><td>qboone@example.com</td><td>Port Cindyshire</td><td>null</td><td>insert</td><td>4</td><td>2023-12-05T08:44:30Z</td></tr><tr><td>74</td><td>Jimmy</td><td>Castillo</td><td>loweryjesus@example.com</td><td>Harrisview</td><td>null</td><td>insert</td><td>4</td><td>2023-12-05T08:44:30Z</td></tr><tr><td>75</td><td>Erik</td><td>Howell</td><td>vsummers@example.net</td><td>Johnsonmouth</td><td>null</td><td>insert</td><td>4</td><td>2023-12-05T08:44:30Z</td></tr><tr><td>76</td><td>John</td><td>Harper</td><td>bjohnson@example.net</td><td>Port Joshuaview</td><td>null</td><td>insert</td><td>4</td><td>2023-12-05T08:44:30Z</td></tr><tr><td>77</td><td>Allen</td><td>Fisher</td><td>jcummings@example.net</td><td>Greenetown</td><td>null</td><td>insert</td><td>4</td><td>2023-12-05T08:44:30Z</td></tr><tr><td>78</td><td>Matthew</td><td>Hicks</td><td>davidelliott@example.net</td><td>South Barbarachester</td><td>null</td><td>insert</td><td>4</td><td>2023-12-05T08:44:30Z</td></tr><tr><td>79</td><td>Adam</td><td>Wilkins</td><td>kimberlybaker@example.org</td><td>Millermouth</td><td>null</td><td>insert</td><td>4</td><td>2023-12-05T08:44:30Z</td></tr><tr><td>80</td><td>Kimberly</td><td>Villa</td><td>jjones@example.com</td><td>Annaburgh</td><td>null</td><td>insert</td><td>4</td><td>2023-12-05T08:44:30Z</td></tr><tr><td>81</td><td>Vicki</td><td>Rivera</td><td>gkelley@example.net</td><td>East Eric</td><td>null</td><td>insert</td><td>4</td><td>2023-12-05T08:44:30Z</td></tr><tr><td>82</td><td>Lawrence</td><td>Weber</td><td>johnsonnichole@example.org</td><td>West Barryland</td><td>null</td><td>insert</td><td>4</td><td>2023-12-05T08:44:30Z</td></tr><tr><td>83</td><td>Stacy</td><td>Chapman</td><td>richardray@example.com</td><td>West Stevenmouth</td><td>null</td><td>insert</td><td>4</td><td>2023-12-05T08:44:30Z</td></tr><tr><td>84</td><td>Kelly</td><td>Obrien</td><td>ischmidt@example.org</td><td>East Jessicaport</td><td>null</td><td>insert</td><td>4</td><td>2023-12-05T08:44:30Z</td></tr><tr><td>85</td><td>Mary</td><td>Spence</td><td>williamthompson@example.com</td><td>Paulville</td><td>null</td><td>insert</td><td>4</td><td>2023-12-05T08:44:30Z</td></tr><tr><td>86</td><td>Michelle</td><td>Garcia</td><td>lisaross@example.org</td><td>South Jacob</td><td>null</td><td>insert</td><td>4</td><td>2023-12-05T08:44:30Z</td></tr><tr><td>87</td><td>John</td><td>Rivas</td><td>alexandra34@example.com</td><td>Jefferyland</td><td>null</td><td>insert</td><td>4</td><td>2023-12-05T08:44:30Z</td></tr><tr><td>88</td><td>Julia</td><td>Clark</td><td>uromero@example.org</td><td>Michaelland</td><td>null</td><td>insert</td><td>4</td><td>2023-12-05T08:44:30Z</td></tr><tr><td>89</td><td>Joshua</td><td>Rodriguez</td><td>diane69@example.org</td><td>West John</td><td>null</td><td>insert</td><td>4</td><td>2023-12-05T08:44:30Z</td></tr><tr><td>90</td><td>Amy</td><td>Payne</td><td>gjohnson@example.net</td><td>Pierceshire</td><td>null</td><td>insert</td><td>4</td><td>2023-12-05T08:44:30Z</td></tr><tr><td>91</td><td>Veronica</td><td>Martinez</td><td>lucerolisa@example.org</td><td>New Debbiehaven</td><td>null</td><td>insert</td><td>4</td><td>2023-12-05T08:44:30Z</td></tr><tr><td>92</td><td>Kelly</td><td>Rodgers</td><td>briannawade@example.org</td><td>Myersville</td><td>null</td><td>insert</td><td>4</td><td>2023-12-05T08:44:30Z</td></tr><tr><td>93</td><td>Derek</td><td>Salazar</td><td>ellen47@example.net</td><td>Rodriguezville</td><td>null</td><td>insert</td><td>4</td><td>2023-12-05T08:44:30Z</td></tr><tr><td>94</td><td>Kimberly</td><td>Lewis</td><td>jessicagalvan@example.net</td><td>Roybury</td><td>null</td><td>insert</td><td>4</td><td>2023-12-05T08:44:30Z</td></tr><tr><td>95</td><td>Marcia</td><td>Daniels</td><td>mcneilbrett@example.org</td><td>Michellemouth</td><td>null</td><td>insert</td><td>4</td><td>2023-12-05T08:44:30Z</td></tr><tr><td>96</td><td>Eric</td><td>Carter</td><td>kennedykathryn@example.com</td><td>West Dylan</td><td>null</td><td>insert</td><td>4</td><td>2023-12-05T08:44:30Z</td></tr><tr><td>97</td><td>Nicholas</td><td>Sutton</td><td>johnsonangela@example.net</td><td>South Kimberlyton</td><td>null</td><td>insert</td><td>4</td><td>2023-12-05T08:44:30Z</td></tr><tr><td>98</td><td>Jason</td><td>Torres</td><td>davidcalderon@example.org</td><td>East Tammymouth</td><td>null</td><td>insert</td><td>4</td><td>2023-12-05T08:44:30Z</td></tr><tr><td>99</td><td>Lacey</td><td>Dunn</td><td>rodgersbernard@example.com</td><td>Joneschester</td><td>null</td><td>insert</td><td>4</td><td>2023-12-05T08:44:30Z</td></tr><tr><td>100</td><td>Patrick</td><td>Green</td><td>swansonmelissa@example.org</td><td>East Stephen</td><td>null</td><td>insert</td><td>4</td><td>2023-12-05T08:44:30Z</td></tr><tr><td>21</td><td>Dylan</td><td>Hayes</td><td>jtate@example.net</td><td>Hooperborough</td><td>null</td><td>insert</td><td>4</td><td>2023-12-05T08:44:30Z</td></tr><tr><td>22</td><td>William</td><td>Avila</td><td>jimmyblackburn@example.org</td><td>Jayland</td><td>null</td><td>insert</td><td>4</td><td>2023-12-05T08:44:30Z</td></tr><tr><td>23</td><td>Lisa</td><td>Adams</td><td>shenderson@example.org</td><td>Lake Joseph</td><td>null</td><td>insert</td><td>4</td><td>2023-12-05T08:44:30Z</td></tr><tr><td>24</td><td>Laura</td><td>Hughes</td><td>jameswilliams@example.net</td><td>Pamstad</td><td>null</td><td>insert</td><td>4</td><td>2023-12-05T08:44:30Z</td></tr><tr><td>25</td><td>Harold</td><td>Jackson</td><td>barry05@example.com</td><td>West Andrea</td><td>null</td><td>insert</td><td>4</td><td>2023-12-05T08:44:30Z</td></tr><tr><td>26</td><td>Stephanie</td><td>Sims</td><td>wolfeanthony@example.net</td><td>West David</td><td>null</td><td>insert</td><td>4</td><td>2023-12-05T08:44:30Z</td></tr><tr><td>27</td><td>Christopher</td><td>Wright</td><td>coxlouis@example.net</td><td>Leslietown</td><td>null</td><td>insert</td><td>4</td><td>2023-12-05T08:44:30Z</td></tr><tr><td>28</td><td>Donald</td><td>Delgado</td><td>ylewis@example.org</td><td>Lake Patrickhaven</td><td>null</td><td>insert</td><td>4</td><td>2023-12-05T08:44:30Z</td></tr><tr><td>29</td><td>Terri</td><td>Chavez</td><td>caldwelladam@example.net</td><td>Grossstad</td><td>null</td><td>insert</td><td>4</td><td>2023-12-05T08:44:30Z</td></tr><tr><td>30</td><td>Joel</td><td>Johnson</td><td>kellyschroeder@example.org</td><td>Karenfort</td><td>null</td><td>insert</td><td>4</td><td>2023-12-05T08:44:30Z</td></tr><tr><td>31</td><td>Jessica</td><td>Floyd</td><td>laceymcdonald@example.com</td><td>Tonyaville</td><td>null</td><td>insert</td><td>4</td><td>2023-12-05T08:44:30Z</td></tr><tr><td>32</td><td>Martin</td><td>Petersen</td><td>brandonlewis@example.com</td><td>North Michael</td><td>null</td><td>insert</td><td>4</td><td>2023-12-05T08:44:30Z</td></tr><tr><td>33</td><td>Anthony</td><td>Carney</td><td>gbaker@example.org</td><td>Pachecostad</td><td>null</td><td>insert</td><td>4</td><td>2023-12-05T08:44:30Z</td></tr><tr><td>34</td><td>Eileen</td><td>Baker</td><td>zshort@example.com</td><td>Port Michaelshire</td><td>null</td><td>insert</td><td>4</td><td>2023-12-05T08:44:30Z</td></tr><tr><td>35</td><td>Joshua</td><td>Owens</td><td>vanessa93@example.net</td><td>Weeksside</td><td>null</td><td>insert</td><td>4</td><td>2023-12-05T08:44:30Z</td></tr><tr><td>36</td><td>David</td><td>Wilson</td><td>clarkleah@example.net</td><td>Lisaton</td><td>null</td><td>insert</td><td>4</td><td>2023-12-05T08:44:30Z</td></tr><tr><td>37</td><td>Christopher</td><td>Ortiz</td><td>ryanevans@example.org</td><td>Tranview</td><td>null</td><td>insert</td><td>4</td><td>2023-12-05T08:44:30Z</td></tr><tr><td>38</td><td>Angela</td><td>Rodriguez</td><td>briggschelsea@example.com</td><td>North Kurtland</td><td>null</td><td>insert</td><td>4</td><td>2023-12-05T08:44:30Z</td></tr><tr><td>39</td><td>Paul</td><td>Sherman</td><td>fvilla@example.com</td><td>Briggsfurt</td><td>null</td><td>insert</td><td>4</td><td>2023-12-05T08:44:30Z</td></tr><tr><td>40</td><td>Stephanie</td><td>Allen</td><td>lauren21@example.com</td><td>New Cassandra</td><td>null</td><td>insert</td><td>4</td><td>2023-12-05T08:44:30Z</td></tr></tbody></table></div>"
      ]
     },
     "metadata": {
      "application/vnd.databricks.v1+output": {
       "addedWidgets": {},
       "aggData": [],
       "aggError": "",
       "aggOverflow": false,
       "aggSchema": [],
       "aggSeriesLimitReached": false,
       "aggType": "",
       "arguments": {},
       "columnCustomDisplayInfos": {},
       "data": [
        [
         "1",
         "Sarah",
         "Spider",
         "susanstark@example.org",
         "Port Lauren",
         null,
         "update_postimage",
         3,
         "2023-12-05T08:32:59Z"
        ],
        [
         "1",
         "Sarah",
         "Santiago",
         "susanstark@example.org",
         "Port Lauren",
         null,
         "update_preimage",
         3,
         "2023-12-05T08:32:59Z"
        ],
        [
         "61",
         "Jeffrey",
         "Ward",
         "csmith@example.net",
         "Nataliefurt",
         null,
         "insert",
         4,
         "2023-12-05T08:44:30Z"
        ],
        [
         "62",
         "Nicole",
         "Shepard",
         "melanie60@example.net",
         "Port Lorifort",
         null,
         "insert",
         4,
         "2023-12-05T08:44:30Z"
        ],
        [
         "63",
         "Francisco",
         "Thomas",
         "staceywest@example.org",
         "Port Jessica",
         null,
         "insert",
         4,
         "2023-12-05T08:44:30Z"
        ],
        [
         "64",
         "Kaitlyn",
         "Lang",
         "susansanchez@example.com",
         "Lake Kathyfurt",
         null,
         "insert",
         4,
         "2023-12-05T08:44:30Z"
        ],
        [
         "65",
         "Christopher",
         "Bridges",
         "stewartcharles@example.org",
         "North Sarabury",
         null,
         "insert",
         4,
         "2023-12-05T08:44:30Z"
        ],
        [
         "66",
         "Samuel",
         "Adams",
         "collin19@example.com",
         "Millerton",
         null,
         "insert",
         4,
         "2023-12-05T08:44:30Z"
        ],
        [
         "67",
         "Robert",
         "Mason",
         "joshuagraves@example.org",
         "Andersonshire",
         null,
         "insert",
         4,
         "2023-12-05T08:44:30Z"
        ],
        [
         "68",
         "Kimberly",
         "Sparks",
         "melaniebrown@example.org",
         "Edwardville",
         null,
         "insert",
         4,
         "2023-12-05T08:44:30Z"
        ],
        [
         "69",
         "Vincent",
         "Powell",
         "reevesjames@example.org",
         "New Amyshire",
         null,
         "insert",
         4,
         "2023-12-05T08:44:30Z"
        ],
        [
         "70",
         "David",
         "Murray",
         "andersonjennifer@example.net",
         "Collinsburgh",
         null,
         "insert",
         4,
         "2023-12-05T08:44:30Z"
        ],
        [
         "71",
         "Alexandria",
         "Williams",
         "joneslee@example.org",
         "Lake Michelle",
         null,
         "insert",
         4,
         "2023-12-05T08:44:30Z"
        ],
        [
         "72",
         "Shawn",
         "Haney",
         "lauren86@example.org",
         "East Antonio",
         null,
         "insert",
         4,
         "2023-12-05T08:44:30Z"
        ],
        [
         "73",
         "Lisa",
         "Chaney",
         "qboone@example.com",
         "Port Cindyshire",
         null,
         "insert",
         4,
         "2023-12-05T08:44:30Z"
        ],
        [
         "74",
         "Jimmy",
         "Castillo",
         "loweryjesus@example.com",
         "Harrisview",
         null,
         "insert",
         4,
         "2023-12-05T08:44:30Z"
        ],
        [
         "75",
         "Erik",
         "Howell",
         "vsummers@example.net",
         "Johnsonmouth",
         null,
         "insert",
         4,
         "2023-12-05T08:44:30Z"
        ],
        [
         "76",
         "John",
         "Harper",
         "bjohnson@example.net",
         "Port Joshuaview",
         null,
         "insert",
         4,
         "2023-12-05T08:44:30Z"
        ],
        [
         "77",
         "Allen",
         "Fisher",
         "jcummings@example.net",
         "Greenetown",
         null,
         "insert",
         4,
         "2023-12-05T08:44:30Z"
        ],
        [
         "78",
         "Matthew",
         "Hicks",
         "davidelliott@example.net",
         "South Barbarachester",
         null,
         "insert",
         4,
         "2023-12-05T08:44:30Z"
        ],
        [
         "79",
         "Adam",
         "Wilkins",
         "kimberlybaker@example.org",
         "Millermouth",
         null,
         "insert",
         4,
         "2023-12-05T08:44:30Z"
        ],
        [
         "80",
         "Kimberly",
         "Villa",
         "jjones@example.com",
         "Annaburgh",
         null,
         "insert",
         4,
         "2023-12-05T08:44:30Z"
        ],
        [
         "81",
         "Vicki",
         "Rivera",
         "gkelley@example.net",
         "East Eric",
         null,
         "insert",
         4,
         "2023-12-05T08:44:30Z"
        ],
        [
         "82",
         "Lawrence",
         "Weber",
         "johnsonnichole@example.org",
         "West Barryland",
         null,
         "insert",
         4,
         "2023-12-05T08:44:30Z"
        ],
        [
         "83",
         "Stacy",
         "Chapman",
         "richardray@example.com",
         "West Stevenmouth",
         null,
         "insert",
         4,
         "2023-12-05T08:44:30Z"
        ],
        [
         "84",
         "Kelly",
         "Obrien",
         "ischmidt@example.org",
         "East Jessicaport",
         null,
         "insert",
         4,
         "2023-12-05T08:44:30Z"
        ],
        [
         "85",
         "Mary",
         "Spence",
         "williamthompson@example.com",
         "Paulville",
         null,
         "insert",
         4,
         "2023-12-05T08:44:30Z"
        ],
        [
         "86",
         "Michelle",
         "Garcia",
         "lisaross@example.org",
         "South Jacob",
         null,
         "insert",
         4,
         "2023-12-05T08:44:30Z"
        ],
        [
         "87",
         "John",
         "Rivas",
         "alexandra34@example.com",
         "Jefferyland",
         null,
         "insert",
         4,
         "2023-12-05T08:44:30Z"
        ],
        [
         "88",
         "Julia",
         "Clark",
         "uromero@example.org",
         "Michaelland",
         null,
         "insert",
         4,
         "2023-12-05T08:44:30Z"
        ],
        [
         "89",
         "Joshua",
         "Rodriguez",
         "diane69@example.org",
         "West John",
         null,
         "insert",
         4,
         "2023-12-05T08:44:30Z"
        ],
        [
         "90",
         "Amy",
         "Payne",
         "gjohnson@example.net",
         "Pierceshire",
         null,
         "insert",
         4,
         "2023-12-05T08:44:30Z"
        ],
        [
         "91",
         "Veronica",
         "Martinez",
         "lucerolisa@example.org",
         "New Debbiehaven",
         null,
         "insert",
         4,
         "2023-12-05T08:44:30Z"
        ],
        [
         "92",
         "Kelly",
         "Rodgers",
         "briannawade@example.org",
         "Myersville",
         null,
         "insert",
         4,
         "2023-12-05T08:44:30Z"
        ],
        [
         "93",
         "Derek",
         "Salazar",
         "ellen47@example.net",
         "Rodriguezville",
         null,
         "insert",
         4,
         "2023-12-05T08:44:30Z"
        ],
        [
         "94",
         "Kimberly",
         "Lewis",
         "jessicagalvan@example.net",
         "Roybury",
         null,
         "insert",
         4,
         "2023-12-05T08:44:30Z"
        ],
        [
         "95",
         "Marcia",
         "Daniels",
         "mcneilbrett@example.org",
         "Michellemouth",
         null,
         "insert",
         4,
         "2023-12-05T08:44:30Z"
        ],
        [
         "96",
         "Eric",
         "Carter",
         "kennedykathryn@example.com",
         "West Dylan",
         null,
         "insert",
         4,
         "2023-12-05T08:44:30Z"
        ],
        [
         "97",
         "Nicholas",
         "Sutton",
         "johnsonangela@example.net",
         "South Kimberlyton",
         null,
         "insert",
         4,
         "2023-12-05T08:44:30Z"
        ],
        [
         "98",
         "Jason",
         "Torres",
         "davidcalderon@example.org",
         "East Tammymouth",
         null,
         "insert",
         4,
         "2023-12-05T08:44:30Z"
        ],
        [
         "99",
         "Lacey",
         "Dunn",
         "rodgersbernard@example.com",
         "Joneschester",
         null,
         "insert",
         4,
         "2023-12-05T08:44:30Z"
        ],
        [
         "100",
         "Patrick",
         "Green",
         "swansonmelissa@example.org",
         "East Stephen",
         null,
         "insert",
         4,
         "2023-12-05T08:44:30Z"
        ],
        [
         "21",
         "Dylan",
         "Hayes",
         "jtate@example.net",
         "Hooperborough",
         null,
         "insert",
         4,
         "2023-12-05T08:44:30Z"
        ],
        [
         "22",
         "William",
         "Avila",
         "jimmyblackburn@example.org",
         "Jayland",
         null,
         "insert",
         4,
         "2023-12-05T08:44:30Z"
        ],
        [
         "23",
         "Lisa",
         "Adams",
         "shenderson@example.org",
         "Lake Joseph",
         null,
         "insert",
         4,
         "2023-12-05T08:44:30Z"
        ],
        [
         "24",
         "Laura",
         "Hughes",
         "jameswilliams@example.net",
         "Pamstad",
         null,
         "insert",
         4,
         "2023-12-05T08:44:30Z"
        ],
        [
         "25",
         "Harold",
         "Jackson",
         "barry05@example.com",
         "West Andrea",
         null,
         "insert",
         4,
         "2023-12-05T08:44:30Z"
        ],
        [
         "26",
         "Stephanie",
         "Sims",
         "wolfeanthony@example.net",
         "West David",
         null,
         "insert",
         4,
         "2023-12-05T08:44:30Z"
        ],
        [
         "27",
         "Christopher",
         "Wright",
         "coxlouis@example.net",
         "Leslietown",
         null,
         "insert",
         4,
         "2023-12-05T08:44:30Z"
        ],
        [
         "28",
         "Donald",
         "Delgado",
         "ylewis@example.org",
         "Lake Patrickhaven",
         null,
         "insert",
         4,
         "2023-12-05T08:44:30Z"
        ],
        [
         "29",
         "Terri",
         "Chavez",
         "caldwelladam@example.net",
         "Grossstad",
         null,
         "insert",
         4,
         "2023-12-05T08:44:30Z"
        ],
        [
         "30",
         "Joel",
         "Johnson",
         "kellyschroeder@example.org",
         "Karenfort",
         null,
         "insert",
         4,
         "2023-12-05T08:44:30Z"
        ],
        [
         "31",
         "Jessica",
         "Floyd",
         "laceymcdonald@example.com",
         "Tonyaville",
         null,
         "insert",
         4,
         "2023-12-05T08:44:30Z"
        ],
        [
         "32",
         "Martin",
         "Petersen",
         "brandonlewis@example.com",
         "North Michael",
         null,
         "insert",
         4,
         "2023-12-05T08:44:30Z"
        ],
        [
         "33",
         "Anthony",
         "Carney",
         "gbaker@example.org",
         "Pachecostad",
         null,
         "insert",
         4,
         "2023-12-05T08:44:30Z"
        ],
        [
         "34",
         "Eileen",
         "Baker",
         "zshort@example.com",
         "Port Michaelshire",
         null,
         "insert",
         4,
         "2023-12-05T08:44:30Z"
        ],
        [
         "35",
         "Joshua",
         "Owens",
         "vanessa93@example.net",
         "Weeksside",
         null,
         "insert",
         4,
         "2023-12-05T08:44:30Z"
        ],
        [
         "36",
         "David",
         "Wilson",
         "clarkleah@example.net",
         "Lisaton",
         null,
         "insert",
         4,
         "2023-12-05T08:44:30Z"
        ],
        [
         "37",
         "Christopher",
         "Ortiz",
         "ryanevans@example.org",
         "Tranview",
         null,
         "insert",
         4,
         "2023-12-05T08:44:30Z"
        ],
        [
         "38",
         "Angela",
         "Rodriguez",
         "briggschelsea@example.com",
         "North Kurtland",
         null,
         "insert",
         4,
         "2023-12-05T08:44:30Z"
        ],
        [
         "39",
         "Paul",
         "Sherman",
         "fvilla@example.com",
         "Briggsfurt",
         null,
         "insert",
         4,
         "2023-12-05T08:44:30Z"
        ],
        [
         "40",
         "Stephanie",
         "Allen",
         "lauren21@example.com",
         "New Cassandra",
         null,
         "insert",
         4,
         "2023-12-05T08:44:30Z"
        ]
       ],
       "datasetInfos": [],
       "dbfsResultPath": null,
       "isJsonSchema": true,
       "metadata": {},
       "overflow": false,
       "plotOptions": {
        "customPlotOptions": {},
        "displayType": "table",
        "pivotAggregation": null,
        "pivotColumns": null,
        "xColumns": null,
        "yColumns": null
       },
       "removedWidgets": [],
       "schema": [
        {
         "metadata": "{}",
         "name": "id",
         "type": "\"string\""
        },
        {
         "metadata": "{}",
         "name": "first_name",
         "type": "\"string\""
        },
        {
         "metadata": "{}",
         "name": "last_name",
         "type": "\"string\""
        },
        {
         "metadata": "{}",
         "name": "email",
         "type": "\"string\""
        },
        {
         "metadata": "{}",
         "name": "city",
         "type": "\"string\""
        },
        {
         "metadata": "{}",
         "name": "_rescued_data",
         "type": "\"string\""
        },
        {
         "metadata": "{}",
         "name": "_change_type",
         "type": "\"string\""
        },
        {
         "metadata": "{}",
         "name": "_commit_version",
         "type": "\"long\""
        },
        {
         "metadata": "{}",
         "name": "_commit_timestamp",
         "type": "\"timestamp\""
        }
       ],
       "type": "table"
      }
     },
     "output_type": "display_data"
    }
   ],
   "source": [
    "# reading the delta change feed\n",
    "\n",
    "# by version\n",
    "\n",
    "cdf_version = (\n",
    "    spark.read.format(\"delta\")\n",
    "    .option(\"readChangeFeed\", \"true\")\n",
    "    .option(\"startingVersion\", 2)\n",
    "    .table(\"customers_bronze\")\n",
    ")\n",
    "\n",
    "# timestamp\n",
    "\n",
    "# timestamps as formatted timestamp\n",
    "cdf_stamp = (spark.read.format(\"delta\")\n",
    "  .option(\"readChangeFeed\", \"true\")\n",
    "  .option(\"startingTimestamp\", '2023-12-05T08:30:20Z')\n",
    "  .table(\"customers_bronze\")\n",
    ")\n",
    "\n",
    "cdf_version.display()\n",
    "cdf_stamp.display()"
   ]
  },
  {
   "cell_type": "code",
   "execution_count": 0,
   "metadata": {
    "application/vnd.databricks.v1+cell": {
     "cellMetadata": {
      "byteLimit": 2048000,
      "rowLimit": 10000
     },
     "inputWidgets": {},
     "nuid": "8a25745a-dd6a-4308-b9f5-7636e4317164",
     "showTitle": false,
     "title": ""
    }
   },
   "outputs": [],
   "source": [
    "customers_bronze_delta = DeltaTable.forName(spark, 'customers_bronze')\n",
    "(customers_bronze_delta\n",
    " .update(\n",
    "     condition = col('id') == 1 ,\n",
    "     set = {'last_name': lit('Spider')}\n",
    "    )\n",
    " )"
   ]
  },
  {
   "cell_type": "code",
   "execution_count": 0,
   "metadata": {
    "application/vnd.databricks.v1+cell": {
     "cellMetadata": {
      "byteLimit": 2048000,
      "rowLimit": 10000
     },
     "inputWidgets": {},
     "nuid": "15b6035a-56ac-4feb-b77d-3f36016f279e",
     "showTitle": false,
     "title": ""
    }
   },
   "outputs": [
    {
     "output_type": "display_data",
     "data": {
      "text/html": [
       "<style scoped>\n",
       "  .table-result-container {\n",
       "    max-height: 300px;\n",
       "    overflow: auto;\n",
       "  }\n",
       "  table, th, td {\n",
       "    border: 1px solid black;\n",
       "    border-collapse: collapse;\n",
       "  }\n",
       "  th, td {\n",
       "    padding: 5px;\n",
       "  }\n",
       "  th {\n",
       "    text-align: left;\n",
       "  }\n",
       "</style><div class='table-result-container'><table class='table-result'><thead style='background-color: white'><tr><th>id</th><th>first_name</th><th>last_name</th><th>email</th><th>city</th><th>_rescued_data</th><th>_change_type</th><th>_commit_version</th><th>_commit_timestamp</th></tr></thead><tbody><tr><td>1</td><td>Sarah</td><td>Spider</td><td>susanstark@example.org</td><td>Port Lauren</td><td>null</td><td>update_postimage</td><td>3</td><td>2023-12-05T08:32:59Z</td></tr><tr><td>1</td><td>Sarah</td><td>Santiago</td><td>susanstark@example.org</td><td>Port Lauren</td><td>null</td><td>update_preimage</td><td>3</td><td>2023-12-05T08:32:59Z</td></tr><tr><td>61</td><td>Jeffrey</td><td>Ward</td><td>csmith@example.net</td><td>Nataliefurt</td><td>null</td><td>insert</td><td>4</td><td>2023-12-05T08:44:30Z</td></tr><tr><td>62</td><td>Nicole</td><td>Shepard</td><td>melanie60@example.net</td><td>Port Lorifort</td><td>null</td><td>insert</td><td>4</td><td>2023-12-05T08:44:30Z</td></tr><tr><td>63</td><td>Francisco</td><td>Thomas</td><td>staceywest@example.org</td><td>Port Jessica</td><td>null</td><td>insert</td><td>4</td><td>2023-12-05T08:44:30Z</td></tr><tr><td>64</td><td>Kaitlyn</td><td>Lang</td><td>susansanchez@example.com</td><td>Lake Kathyfurt</td><td>null</td><td>insert</td><td>4</td><td>2023-12-05T08:44:30Z</td></tr><tr><td>65</td><td>Christopher</td><td>Bridges</td><td>stewartcharles@example.org</td><td>North Sarabury</td><td>null</td><td>insert</td><td>4</td><td>2023-12-05T08:44:30Z</td></tr><tr><td>66</td><td>Samuel</td><td>Adams</td><td>collin19@example.com</td><td>Millerton</td><td>null</td><td>insert</td><td>4</td><td>2023-12-05T08:44:30Z</td></tr><tr><td>67</td><td>Robert</td><td>Mason</td><td>joshuagraves@example.org</td><td>Andersonshire</td><td>null</td><td>insert</td><td>4</td><td>2023-12-05T08:44:30Z</td></tr><tr><td>68</td><td>Kimberly</td><td>Sparks</td><td>melaniebrown@example.org</td><td>Edwardville</td><td>null</td><td>insert</td><td>4</td><td>2023-12-05T08:44:30Z</td></tr><tr><td>69</td><td>Vincent</td><td>Powell</td><td>reevesjames@example.org</td><td>New Amyshire</td><td>null</td><td>insert</td><td>4</td><td>2023-12-05T08:44:30Z</td></tr><tr><td>70</td><td>David</td><td>Murray</td><td>andersonjennifer@example.net</td><td>Collinsburgh</td><td>null</td><td>insert</td><td>4</td><td>2023-12-05T08:44:30Z</td></tr><tr><td>71</td><td>Alexandria</td><td>Williams</td><td>joneslee@example.org</td><td>Lake Michelle</td><td>null</td><td>insert</td><td>4</td><td>2023-12-05T08:44:30Z</td></tr><tr><td>72</td><td>Shawn</td><td>Haney</td><td>lauren86@example.org</td><td>East Antonio</td><td>null</td><td>insert</td><td>4</td><td>2023-12-05T08:44:30Z</td></tr><tr><td>73</td><td>Lisa</td><td>Chaney</td><td>qboone@example.com</td><td>Port Cindyshire</td><td>null</td><td>insert</td><td>4</td><td>2023-12-05T08:44:30Z</td></tr><tr><td>74</td><td>Jimmy</td><td>Castillo</td><td>loweryjesus@example.com</td><td>Harrisview</td><td>null</td><td>insert</td><td>4</td><td>2023-12-05T08:44:30Z</td></tr><tr><td>75</td><td>Erik</td><td>Howell</td><td>vsummers@example.net</td><td>Johnsonmouth</td><td>null</td><td>insert</td><td>4</td><td>2023-12-05T08:44:30Z</td></tr><tr><td>76</td><td>John</td><td>Harper</td><td>bjohnson@example.net</td><td>Port Joshuaview</td><td>null</td><td>insert</td><td>4</td><td>2023-12-05T08:44:30Z</td></tr><tr><td>77</td><td>Allen</td><td>Fisher</td><td>jcummings@example.net</td><td>Greenetown</td><td>null</td><td>insert</td><td>4</td><td>2023-12-05T08:44:30Z</td></tr><tr><td>78</td><td>Matthew</td><td>Hicks</td><td>davidelliott@example.net</td><td>South Barbarachester</td><td>null</td><td>insert</td><td>4</td><td>2023-12-05T08:44:30Z</td></tr><tr><td>79</td><td>Adam</td><td>Wilkins</td><td>kimberlybaker@example.org</td><td>Millermouth</td><td>null</td><td>insert</td><td>4</td><td>2023-12-05T08:44:30Z</td></tr><tr><td>80</td><td>Kimberly</td><td>Villa</td><td>jjones@example.com</td><td>Annaburgh</td><td>null</td><td>insert</td><td>4</td><td>2023-12-05T08:44:30Z</td></tr><tr><td>81</td><td>Vicki</td><td>Rivera</td><td>gkelley@example.net</td><td>East Eric</td><td>null</td><td>insert</td><td>4</td><td>2023-12-05T08:44:30Z</td></tr><tr><td>82</td><td>Lawrence</td><td>Weber</td><td>johnsonnichole@example.org</td><td>West Barryland</td><td>null</td><td>insert</td><td>4</td><td>2023-12-05T08:44:30Z</td></tr><tr><td>83</td><td>Stacy</td><td>Chapman</td><td>richardray@example.com</td><td>West Stevenmouth</td><td>null</td><td>insert</td><td>4</td><td>2023-12-05T08:44:30Z</td></tr><tr><td>84</td><td>Kelly</td><td>Obrien</td><td>ischmidt@example.org</td><td>East Jessicaport</td><td>null</td><td>insert</td><td>4</td><td>2023-12-05T08:44:30Z</td></tr><tr><td>85</td><td>Mary</td><td>Spence</td><td>williamthompson@example.com</td><td>Paulville</td><td>null</td><td>insert</td><td>4</td><td>2023-12-05T08:44:30Z</td></tr><tr><td>86</td><td>Michelle</td><td>Garcia</td><td>lisaross@example.org</td><td>South Jacob</td><td>null</td><td>insert</td><td>4</td><td>2023-12-05T08:44:30Z</td></tr><tr><td>87</td><td>John</td><td>Rivas</td><td>alexandra34@example.com</td><td>Jefferyland</td><td>null</td><td>insert</td><td>4</td><td>2023-12-05T08:44:30Z</td></tr><tr><td>88</td><td>Julia</td><td>Clark</td><td>uromero@example.org</td><td>Michaelland</td><td>null</td><td>insert</td><td>4</td><td>2023-12-05T08:44:30Z</td></tr><tr><td>89</td><td>Joshua</td><td>Rodriguez</td><td>diane69@example.org</td><td>West John</td><td>null</td><td>insert</td><td>4</td><td>2023-12-05T08:44:30Z</td></tr><tr><td>90</td><td>Amy</td><td>Payne</td><td>gjohnson@example.net</td><td>Pierceshire</td><td>null</td><td>insert</td><td>4</td><td>2023-12-05T08:44:30Z</td></tr><tr><td>91</td><td>Veronica</td><td>Martinez</td><td>lucerolisa@example.org</td><td>New Debbiehaven</td><td>null</td><td>insert</td><td>4</td><td>2023-12-05T08:44:30Z</td></tr><tr><td>92</td><td>Kelly</td><td>Rodgers</td><td>briannawade@example.org</td><td>Myersville</td><td>null</td><td>insert</td><td>4</td><td>2023-12-05T08:44:30Z</td></tr><tr><td>93</td><td>Derek</td><td>Salazar</td><td>ellen47@example.net</td><td>Rodriguezville</td><td>null</td><td>insert</td><td>4</td><td>2023-12-05T08:44:30Z</td></tr><tr><td>94</td><td>Kimberly</td><td>Lewis</td><td>jessicagalvan@example.net</td><td>Roybury</td><td>null</td><td>insert</td><td>4</td><td>2023-12-05T08:44:30Z</td></tr><tr><td>95</td><td>Marcia</td><td>Daniels</td><td>mcneilbrett@example.org</td><td>Michellemouth</td><td>null</td><td>insert</td><td>4</td><td>2023-12-05T08:44:30Z</td></tr><tr><td>96</td><td>Eric</td><td>Carter</td><td>kennedykathryn@example.com</td><td>West Dylan</td><td>null</td><td>insert</td><td>4</td><td>2023-12-05T08:44:30Z</td></tr><tr><td>97</td><td>Nicholas</td><td>Sutton</td><td>johnsonangela@example.net</td><td>South Kimberlyton</td><td>null</td><td>insert</td><td>4</td><td>2023-12-05T08:44:30Z</td></tr><tr><td>98</td><td>Jason</td><td>Torres</td><td>davidcalderon@example.org</td><td>East Tammymouth</td><td>null</td><td>insert</td><td>4</td><td>2023-12-05T08:44:30Z</td></tr><tr><td>99</td><td>Lacey</td><td>Dunn</td><td>rodgersbernard@example.com</td><td>Joneschester</td><td>null</td><td>insert</td><td>4</td><td>2023-12-05T08:44:30Z</td></tr><tr><td>100</td><td>Patrick</td><td>Green</td><td>swansonmelissa@example.org</td><td>East Stephen</td><td>null</td><td>insert</td><td>4</td><td>2023-12-05T08:44:30Z</td></tr><tr><td>21</td><td>Dylan</td><td>Hayes</td><td>jtate@example.net</td><td>Hooperborough</td><td>null</td><td>insert</td><td>4</td><td>2023-12-05T08:44:30Z</td></tr><tr><td>22</td><td>William</td><td>Avila</td><td>jimmyblackburn@example.org</td><td>Jayland</td><td>null</td><td>insert</td><td>4</td><td>2023-12-05T08:44:30Z</td></tr><tr><td>23</td><td>Lisa</td><td>Adams</td><td>shenderson@example.org</td><td>Lake Joseph</td><td>null</td><td>insert</td><td>4</td><td>2023-12-05T08:44:30Z</td></tr><tr><td>24</td><td>Laura</td><td>Hughes</td><td>jameswilliams@example.net</td><td>Pamstad</td><td>null</td><td>insert</td><td>4</td><td>2023-12-05T08:44:30Z</td></tr><tr><td>25</td><td>Harold</td><td>Jackson</td><td>barry05@example.com</td><td>West Andrea</td><td>null</td><td>insert</td><td>4</td><td>2023-12-05T08:44:30Z</td></tr><tr><td>26</td><td>Stephanie</td><td>Sims</td><td>wolfeanthony@example.net</td><td>West David</td><td>null</td><td>insert</td><td>4</td><td>2023-12-05T08:44:30Z</td></tr><tr><td>27</td><td>Christopher</td><td>Wright</td><td>coxlouis@example.net</td><td>Leslietown</td><td>null</td><td>insert</td><td>4</td><td>2023-12-05T08:44:30Z</td></tr><tr><td>28</td><td>Donald</td><td>Delgado</td><td>ylewis@example.org</td><td>Lake Patrickhaven</td><td>null</td><td>insert</td><td>4</td><td>2023-12-05T08:44:30Z</td></tr><tr><td>29</td><td>Terri</td><td>Chavez</td><td>caldwelladam@example.net</td><td>Grossstad</td><td>null</td><td>insert</td><td>4</td><td>2023-12-05T08:44:30Z</td></tr><tr><td>30</td><td>Joel</td><td>Johnson</td><td>kellyschroeder@example.org</td><td>Karenfort</td><td>null</td><td>insert</td><td>4</td><td>2023-12-05T08:44:30Z</td></tr><tr><td>31</td><td>Jessica</td><td>Floyd</td><td>laceymcdonald@example.com</td><td>Tonyaville</td><td>null</td><td>insert</td><td>4</td><td>2023-12-05T08:44:30Z</td></tr><tr><td>32</td><td>Martin</td><td>Petersen</td><td>brandonlewis@example.com</td><td>North Michael</td><td>null</td><td>insert</td><td>4</td><td>2023-12-05T08:44:30Z</td></tr><tr><td>33</td><td>Anthony</td><td>Carney</td><td>gbaker@example.org</td><td>Pachecostad</td><td>null</td><td>insert</td><td>4</td><td>2023-12-05T08:44:30Z</td></tr><tr><td>34</td><td>Eileen</td><td>Baker</td><td>zshort@example.com</td><td>Port Michaelshire</td><td>null</td><td>insert</td><td>4</td><td>2023-12-05T08:44:30Z</td></tr><tr><td>35</td><td>Joshua</td><td>Owens</td><td>vanessa93@example.net</td><td>Weeksside</td><td>null</td><td>insert</td><td>4</td><td>2023-12-05T08:44:30Z</td></tr><tr><td>36</td><td>David</td><td>Wilson</td><td>clarkleah@example.net</td><td>Lisaton</td><td>null</td><td>insert</td><td>4</td><td>2023-12-05T08:44:30Z</td></tr><tr><td>37</td><td>Christopher</td><td>Ortiz</td><td>ryanevans@example.org</td><td>Tranview</td><td>null</td><td>insert</td><td>4</td><td>2023-12-05T08:44:30Z</td></tr><tr><td>38</td><td>Angela</td><td>Rodriguez</td><td>briggschelsea@example.com</td><td>North Kurtland</td><td>null</td><td>insert</td><td>4</td><td>2023-12-05T08:44:30Z</td></tr><tr><td>39</td><td>Paul</td><td>Sherman</td><td>fvilla@example.com</td><td>Briggsfurt</td><td>null</td><td>insert</td><td>4</td><td>2023-12-05T08:44:30Z</td></tr><tr><td>40</td><td>Stephanie</td><td>Allen</td><td>lauren21@example.com</td><td>New Cassandra</td><td>null</td><td>insert</td><td>4</td><td>2023-12-05T08:44:30Z</td></tr></tbody></table></div>"
      ]
     },
     "metadata": {
      "application/vnd.databricks.v1+output": {
       "addedWidgets": {},
       "aggData": [],
       "aggError": "",
       "aggOverflow": false,
       "aggSchema": [],
       "aggSeriesLimitReached": false,
       "aggType": "",
       "arguments": {},
       "columnCustomDisplayInfos": {},
       "data": [
        [
         "1",
         "Sarah",
         "Spider",
         "susanstark@example.org",
         "Port Lauren",
         null,
         "update_postimage",
         3,
         "2023-12-05T08:32:59Z"
        ],
        [
         "1",
         "Sarah",
         "Santiago",
         "susanstark@example.org",
         "Port Lauren",
         null,
         "update_preimage",
         3,
         "2023-12-05T08:32:59Z"
        ],
        [
         "61",
         "Jeffrey",
         "Ward",
         "csmith@example.net",
         "Nataliefurt",
         null,
         "insert",
         4,
         "2023-12-05T08:44:30Z"
        ],
        [
         "62",
         "Nicole",
         "Shepard",
         "melanie60@example.net",
         "Port Lorifort",
         null,
         "insert",
         4,
         "2023-12-05T08:44:30Z"
        ],
        [
         "63",
         "Francisco",
         "Thomas",
         "staceywest@example.org",
         "Port Jessica",
         null,
         "insert",
         4,
         "2023-12-05T08:44:30Z"
        ],
        [
         "64",
         "Kaitlyn",
         "Lang",
         "susansanchez@example.com",
         "Lake Kathyfurt",
         null,
         "insert",
         4,
         "2023-12-05T08:44:30Z"
        ],
        [
         "65",
         "Christopher",
         "Bridges",
         "stewartcharles@example.org",
         "North Sarabury",
         null,
         "insert",
         4,
         "2023-12-05T08:44:30Z"
        ],
        [
         "66",
         "Samuel",
         "Adams",
         "collin19@example.com",
         "Millerton",
         null,
         "insert",
         4,
         "2023-12-05T08:44:30Z"
        ],
        [
         "67",
         "Robert",
         "Mason",
         "joshuagraves@example.org",
         "Andersonshire",
         null,
         "insert",
         4,
         "2023-12-05T08:44:30Z"
        ],
        [
         "68",
         "Kimberly",
         "Sparks",
         "melaniebrown@example.org",
         "Edwardville",
         null,
         "insert",
         4,
         "2023-12-05T08:44:30Z"
        ],
        [
         "69",
         "Vincent",
         "Powell",
         "reevesjames@example.org",
         "New Amyshire",
         null,
         "insert",
         4,
         "2023-12-05T08:44:30Z"
        ],
        [
         "70",
         "David",
         "Murray",
         "andersonjennifer@example.net",
         "Collinsburgh",
         null,
         "insert",
         4,
         "2023-12-05T08:44:30Z"
        ],
        [
         "71",
         "Alexandria",
         "Williams",
         "joneslee@example.org",
         "Lake Michelle",
         null,
         "insert",
         4,
         "2023-12-05T08:44:30Z"
        ],
        [
         "72",
         "Shawn",
         "Haney",
         "lauren86@example.org",
         "East Antonio",
         null,
         "insert",
         4,
         "2023-12-05T08:44:30Z"
        ],
        [
         "73",
         "Lisa",
         "Chaney",
         "qboone@example.com",
         "Port Cindyshire",
         null,
         "insert",
         4,
         "2023-12-05T08:44:30Z"
        ],
        [
         "74",
         "Jimmy",
         "Castillo",
         "loweryjesus@example.com",
         "Harrisview",
         null,
         "insert",
         4,
         "2023-12-05T08:44:30Z"
        ],
        [
         "75",
         "Erik",
         "Howell",
         "vsummers@example.net",
         "Johnsonmouth",
         null,
         "insert",
         4,
         "2023-12-05T08:44:30Z"
        ],
        [
         "76",
         "John",
         "Harper",
         "bjohnson@example.net",
         "Port Joshuaview",
         null,
         "insert",
         4,
         "2023-12-05T08:44:30Z"
        ],
        [
         "77",
         "Allen",
         "Fisher",
         "jcummings@example.net",
         "Greenetown",
         null,
         "insert",
         4,
         "2023-12-05T08:44:30Z"
        ],
        [
         "78",
         "Matthew",
         "Hicks",
         "davidelliott@example.net",
         "South Barbarachester",
         null,
         "insert",
         4,
         "2023-12-05T08:44:30Z"
        ],
        [
         "79",
         "Adam",
         "Wilkins",
         "kimberlybaker@example.org",
         "Millermouth",
         null,
         "insert",
         4,
         "2023-12-05T08:44:30Z"
        ],
        [
         "80",
         "Kimberly",
         "Villa",
         "jjones@example.com",
         "Annaburgh",
         null,
         "insert",
         4,
         "2023-12-05T08:44:30Z"
        ],
        [
         "81",
         "Vicki",
         "Rivera",
         "gkelley@example.net",
         "East Eric",
         null,
         "insert",
         4,
         "2023-12-05T08:44:30Z"
        ],
        [
         "82",
         "Lawrence",
         "Weber",
         "johnsonnichole@example.org",
         "West Barryland",
         null,
         "insert",
         4,
         "2023-12-05T08:44:30Z"
        ],
        [
         "83",
         "Stacy",
         "Chapman",
         "richardray@example.com",
         "West Stevenmouth",
         null,
         "insert",
         4,
         "2023-12-05T08:44:30Z"
        ],
        [
         "84",
         "Kelly",
         "Obrien",
         "ischmidt@example.org",
         "East Jessicaport",
         null,
         "insert",
         4,
         "2023-12-05T08:44:30Z"
        ],
        [
         "85",
         "Mary",
         "Spence",
         "williamthompson@example.com",
         "Paulville",
         null,
         "insert",
         4,
         "2023-12-05T08:44:30Z"
        ],
        [
         "86",
         "Michelle",
         "Garcia",
         "lisaross@example.org",
         "South Jacob",
         null,
         "insert",
         4,
         "2023-12-05T08:44:30Z"
        ],
        [
         "87",
         "John",
         "Rivas",
         "alexandra34@example.com",
         "Jefferyland",
         null,
         "insert",
         4,
         "2023-12-05T08:44:30Z"
        ],
        [
         "88",
         "Julia",
         "Clark",
         "uromero@example.org",
         "Michaelland",
         null,
         "insert",
         4,
         "2023-12-05T08:44:30Z"
        ],
        [
         "89",
         "Joshua",
         "Rodriguez",
         "diane69@example.org",
         "West John",
         null,
         "insert",
         4,
         "2023-12-05T08:44:30Z"
        ],
        [
         "90",
         "Amy",
         "Payne",
         "gjohnson@example.net",
         "Pierceshire",
         null,
         "insert",
         4,
         "2023-12-05T08:44:30Z"
        ],
        [
         "91",
         "Veronica",
         "Martinez",
         "lucerolisa@example.org",
         "New Debbiehaven",
         null,
         "insert",
         4,
         "2023-12-05T08:44:30Z"
        ],
        [
         "92",
         "Kelly",
         "Rodgers",
         "briannawade@example.org",
         "Myersville",
         null,
         "insert",
         4,
         "2023-12-05T08:44:30Z"
        ],
        [
         "93",
         "Derek",
         "Salazar",
         "ellen47@example.net",
         "Rodriguezville",
         null,
         "insert",
         4,
         "2023-12-05T08:44:30Z"
        ],
        [
         "94",
         "Kimberly",
         "Lewis",
         "jessicagalvan@example.net",
         "Roybury",
         null,
         "insert",
         4,
         "2023-12-05T08:44:30Z"
        ],
        [
         "95",
         "Marcia",
         "Daniels",
         "mcneilbrett@example.org",
         "Michellemouth",
         null,
         "insert",
         4,
         "2023-12-05T08:44:30Z"
        ],
        [
         "96",
         "Eric",
         "Carter",
         "kennedykathryn@example.com",
         "West Dylan",
         null,
         "insert",
         4,
         "2023-12-05T08:44:30Z"
        ],
        [
         "97",
         "Nicholas",
         "Sutton",
         "johnsonangela@example.net",
         "South Kimberlyton",
         null,
         "insert",
         4,
         "2023-12-05T08:44:30Z"
        ],
        [
         "98",
         "Jason",
         "Torres",
         "davidcalderon@example.org",
         "East Tammymouth",
         null,
         "insert",
         4,
         "2023-12-05T08:44:30Z"
        ],
        [
         "99",
         "Lacey",
         "Dunn",
         "rodgersbernard@example.com",
         "Joneschester",
         null,
         "insert",
         4,
         "2023-12-05T08:44:30Z"
        ],
        [
         "100",
         "Patrick",
         "Green",
         "swansonmelissa@example.org",
         "East Stephen",
         null,
         "insert",
         4,
         "2023-12-05T08:44:30Z"
        ],
        [
         "21",
         "Dylan",
         "Hayes",
         "jtate@example.net",
         "Hooperborough",
         null,
         "insert",
         4,
         "2023-12-05T08:44:30Z"
        ],
        [
         "22",
         "William",
         "Avila",
         "jimmyblackburn@example.org",
         "Jayland",
         null,
         "insert",
         4,
         "2023-12-05T08:44:30Z"
        ],
        [
         "23",
         "Lisa",
         "Adams",
         "shenderson@example.org",
         "Lake Joseph",
         null,
         "insert",
         4,
         "2023-12-05T08:44:30Z"
        ],
        [
         "24",
         "Laura",
         "Hughes",
         "jameswilliams@example.net",
         "Pamstad",
         null,
         "insert",
         4,
         "2023-12-05T08:44:30Z"
        ],
        [
         "25",
         "Harold",
         "Jackson",
         "barry05@example.com",
         "West Andrea",
         null,
         "insert",
         4,
         "2023-12-05T08:44:30Z"
        ],
        [
         "26",
         "Stephanie",
         "Sims",
         "wolfeanthony@example.net",
         "West David",
         null,
         "insert",
         4,
         "2023-12-05T08:44:30Z"
        ],
        [
         "27",
         "Christopher",
         "Wright",
         "coxlouis@example.net",
         "Leslietown",
         null,
         "insert",
         4,
         "2023-12-05T08:44:30Z"
        ],
        [
         "28",
         "Donald",
         "Delgado",
         "ylewis@example.org",
         "Lake Patrickhaven",
         null,
         "insert",
         4,
         "2023-12-05T08:44:30Z"
        ],
        [
         "29",
         "Terri",
         "Chavez",
         "caldwelladam@example.net",
         "Grossstad",
         null,
         "insert",
         4,
         "2023-12-05T08:44:30Z"
        ],
        [
         "30",
         "Joel",
         "Johnson",
         "kellyschroeder@example.org",
         "Karenfort",
         null,
         "insert",
         4,
         "2023-12-05T08:44:30Z"
        ],
        [
         "31",
         "Jessica",
         "Floyd",
         "laceymcdonald@example.com",
         "Tonyaville",
         null,
         "insert",
         4,
         "2023-12-05T08:44:30Z"
        ],
        [
         "32",
         "Martin",
         "Petersen",
         "brandonlewis@example.com",
         "North Michael",
         null,
         "insert",
         4,
         "2023-12-05T08:44:30Z"
        ],
        [
         "33",
         "Anthony",
         "Carney",
         "gbaker@example.org",
         "Pachecostad",
         null,
         "insert",
         4,
         "2023-12-05T08:44:30Z"
        ],
        [
         "34",
         "Eileen",
         "Baker",
         "zshort@example.com",
         "Port Michaelshire",
         null,
         "insert",
         4,
         "2023-12-05T08:44:30Z"
        ],
        [
         "35",
         "Joshua",
         "Owens",
         "vanessa93@example.net",
         "Weeksside",
         null,
         "insert",
         4,
         "2023-12-05T08:44:30Z"
        ],
        [
         "36",
         "David",
         "Wilson",
         "clarkleah@example.net",
         "Lisaton",
         null,
         "insert",
         4,
         "2023-12-05T08:44:30Z"
        ],
        [
         "37",
         "Christopher",
         "Ortiz",
         "ryanevans@example.org",
         "Tranview",
         null,
         "insert",
         4,
         "2023-12-05T08:44:30Z"
        ],
        [
         "38",
         "Angela",
         "Rodriguez",
         "briggschelsea@example.com",
         "North Kurtland",
         null,
         "insert",
         4,
         "2023-12-05T08:44:30Z"
        ],
        [
         "39",
         "Paul",
         "Sherman",
         "fvilla@example.com",
         "Briggsfurt",
         null,
         "insert",
         4,
         "2023-12-05T08:44:30Z"
        ],
        [
         "40",
         "Stephanie",
         "Allen",
         "lauren21@example.com",
         "New Cassandra",
         null,
         "insert",
         4,
         "2023-12-05T08:44:30Z"
        ]
       ],
       "datasetInfos": [],
       "dbfsResultPath": null,
       "isJsonSchema": true,
       "metadata": {},
       "overflow": false,
       "plotOptions": {
        "customPlotOptions": {},
        "displayType": "table",
        "pivotAggregation": null,
        "pivotColumns": null,
        "xColumns": null,
        "yColumns": null
       },
       "removedWidgets": [],
       "schema": [
        {
         "metadata": "{}",
         "name": "id",
         "type": "\"string\""
        },
        {
         "metadata": "{}",
         "name": "first_name",
         "type": "\"string\""
        },
        {
         "metadata": "{}",
         "name": "last_name",
         "type": "\"string\""
        },
        {
         "metadata": "{}",
         "name": "email",
         "type": "\"string\""
        },
        {
         "metadata": "{}",
         "name": "city",
         "type": "\"string\""
        },
        {
         "metadata": "{}",
         "name": "_rescued_data",
         "type": "\"string\""
        },
        {
         "metadata": "{}",
         "name": "_change_type",
         "type": "\"string\""
        },
        {
         "metadata": "{}",
         "name": "_commit_version",
         "type": "\"long\""
        },
        {
         "metadata": "{}",
         "name": "_commit_timestamp",
         "type": "\"timestamp\""
        }
       ],
       "type": "table"
      }
     },
     "output_type": "display_data"
    }
   ],
   "source": [
    "cdf_stamp = (spark.read.format(\"delta\")\n",
    "  .option(\"readChangeFeed\", \"true\")\n",
    "  .option(\"startingTimestamp\", '2023-12-05T08:30:20Z')\n",
    "  .table(\"customers_bronze\")\n",
    ")\n",
    "cdf_stamp.display()"
   ]
  },
  {
   "cell_type": "code",
   "execution_count": 0,
   "metadata": {
    "application/vnd.databricks.v1+cell": {
     "cellMetadata": {
      "byteLimit": 2048000,
      "rowLimit": 10000
     },
     "inputWidgets": {},
     "nuid": "c5229b98-4577-4976-972b-c49e92bd839d",
     "showTitle": false,
     "title": ""
    }
   },
   "outputs": [],
   "source": [
    "# get only the last version of the records that are either inserted or updated\n",
    "def cdf_id_last_version(df):\n",
    "    filtered_df = (df \n",
    "        .filter(~col(\"_change_type\").isin(\"delete\", \"update_preimage\")) \n",
    "    )\n",
    "\n",
    "    windowPartition = Window.partitionBy(\"id\").orderBy(desc(\"_commit_timestamp\"))\n",
    "\n",
    "    ranked_df = (filtered_df \n",
    "        .withColumn(\"rnk\", row_number().over(windowPartition))\n",
    "    )\n",
    "\n",
    "    result_df = ranked_df.filter(col(\"rnk\") == 1)\n",
    "\n",
    "    return result_df"
   ]
  },
  {
   "cell_type": "code",
   "execution_count": 0,
   "metadata": {
    "application/vnd.databricks.v1+cell": {
     "cellMetadata": {
      "byteLimit": 2048000,
      "rowLimit": 10000
     },
     "inputWidgets": {},
     "nuid": "cd18fcc2-e909-4cc2-825f-6ab9ef1774dc",
     "showTitle": false,
     "title": ""
    }
   },
   "outputs": [
    {
     "output_type": "display_data",
     "data": {
      "text/html": [
       "<style scoped>\n",
       "  .table-result-container {\n",
       "    max-height: 300px;\n",
       "    overflow: auto;\n",
       "  }\n",
       "  table, th, td {\n",
       "    border: 1px solid black;\n",
       "    border-collapse: collapse;\n",
       "  }\n",
       "  th, td {\n",
       "    padding: 5px;\n",
       "  }\n",
       "  th {\n",
       "    text-align: left;\n",
       "  }\n",
       "</style><div class='table-result-container'><table class='table-result'><thead style='background-color: white'><tr><th>id</th><th>first_name</th><th>last_name</th><th>email</th><th>city</th><th>_rescued_data</th><th>_change_type</th><th>_commit_version</th><th>_commit_timestamp</th><th>rnk</th></tr></thead><tbody><tr><td>1</td><td>Sarah</td><td>Spider</td><td>susanstark@example.org</td><td>Port Lauren</td><td>null</td><td>update_postimage</td><td>3</td><td>2023-12-05T08:32:59Z</td><td>1</td></tr><tr><td>100</td><td>Patrick</td><td>Green</td><td>swansonmelissa@example.org</td><td>East Stephen</td><td>null</td><td>insert</td><td>4</td><td>2023-12-05T08:44:30Z</td><td>1</td></tr><tr><td>21</td><td>Dylan</td><td>Hayes</td><td>jtate@example.net</td><td>Hooperborough</td><td>null</td><td>insert</td><td>4</td><td>2023-12-05T08:44:30Z</td><td>1</td></tr><tr><td>22</td><td>William</td><td>Avila</td><td>jimmyblackburn@example.org</td><td>Jayland</td><td>null</td><td>insert</td><td>4</td><td>2023-12-05T08:44:30Z</td><td>1</td></tr><tr><td>23</td><td>Lisa</td><td>Adams</td><td>shenderson@example.org</td><td>Lake Joseph</td><td>null</td><td>insert</td><td>4</td><td>2023-12-05T08:44:30Z</td><td>1</td></tr><tr><td>24</td><td>Laura</td><td>Hughes</td><td>jameswilliams@example.net</td><td>Pamstad</td><td>null</td><td>insert</td><td>4</td><td>2023-12-05T08:44:30Z</td><td>1</td></tr><tr><td>25</td><td>Harold</td><td>Jackson</td><td>barry05@example.com</td><td>West Andrea</td><td>null</td><td>insert</td><td>4</td><td>2023-12-05T08:44:30Z</td><td>1</td></tr><tr><td>26</td><td>Stephanie</td><td>Sims</td><td>wolfeanthony@example.net</td><td>West David</td><td>null</td><td>insert</td><td>4</td><td>2023-12-05T08:44:30Z</td><td>1</td></tr><tr><td>27</td><td>Christopher</td><td>Wright</td><td>coxlouis@example.net</td><td>Leslietown</td><td>null</td><td>insert</td><td>4</td><td>2023-12-05T08:44:30Z</td><td>1</td></tr><tr><td>28</td><td>Donald</td><td>Delgado</td><td>ylewis@example.org</td><td>Lake Patrickhaven</td><td>null</td><td>insert</td><td>4</td><td>2023-12-05T08:44:30Z</td><td>1</td></tr><tr><td>29</td><td>Terri</td><td>Chavez</td><td>caldwelladam@example.net</td><td>Grossstad</td><td>null</td><td>insert</td><td>4</td><td>2023-12-05T08:44:30Z</td><td>1</td></tr><tr><td>30</td><td>Joel</td><td>Johnson</td><td>kellyschroeder@example.org</td><td>Karenfort</td><td>null</td><td>insert</td><td>4</td><td>2023-12-05T08:44:30Z</td><td>1</td></tr><tr><td>31</td><td>Jessica</td><td>Floyd</td><td>laceymcdonald@example.com</td><td>Tonyaville</td><td>null</td><td>insert</td><td>4</td><td>2023-12-05T08:44:30Z</td><td>1</td></tr><tr><td>32</td><td>Martin</td><td>Petersen</td><td>brandonlewis@example.com</td><td>North Michael</td><td>null</td><td>insert</td><td>4</td><td>2023-12-05T08:44:30Z</td><td>1</td></tr><tr><td>33</td><td>Anthony</td><td>Carney</td><td>gbaker@example.org</td><td>Pachecostad</td><td>null</td><td>insert</td><td>4</td><td>2023-12-05T08:44:30Z</td><td>1</td></tr><tr><td>34</td><td>Eileen</td><td>Baker</td><td>zshort@example.com</td><td>Port Michaelshire</td><td>null</td><td>insert</td><td>4</td><td>2023-12-05T08:44:30Z</td><td>1</td></tr><tr><td>35</td><td>Joshua</td><td>Owens</td><td>vanessa93@example.net</td><td>Weeksside</td><td>null</td><td>insert</td><td>4</td><td>2023-12-05T08:44:30Z</td><td>1</td></tr><tr><td>36</td><td>David</td><td>Wilson</td><td>clarkleah@example.net</td><td>Lisaton</td><td>null</td><td>insert</td><td>4</td><td>2023-12-05T08:44:30Z</td><td>1</td></tr><tr><td>37</td><td>Christopher</td><td>Ortiz</td><td>ryanevans@example.org</td><td>Tranview</td><td>null</td><td>insert</td><td>4</td><td>2023-12-05T08:44:30Z</td><td>1</td></tr><tr><td>38</td><td>Angela</td><td>Rodriguez</td><td>briggschelsea@example.com</td><td>North Kurtland</td><td>null</td><td>insert</td><td>4</td><td>2023-12-05T08:44:30Z</td><td>1</td></tr><tr><td>39</td><td>Paul</td><td>Sherman</td><td>fvilla@example.com</td><td>Briggsfurt</td><td>null</td><td>insert</td><td>4</td><td>2023-12-05T08:44:30Z</td><td>1</td></tr><tr><td>40</td><td>Stephanie</td><td>Allen</td><td>lauren21@example.com</td><td>New Cassandra</td><td>null</td><td>insert</td><td>4</td><td>2023-12-05T08:44:30Z</td><td>1</td></tr><tr><td>61</td><td>Jeffrey</td><td>Ward</td><td>csmith@example.net</td><td>Nataliefurt</td><td>null</td><td>insert</td><td>4</td><td>2023-12-05T08:44:30Z</td><td>1</td></tr><tr><td>62</td><td>Nicole</td><td>Shepard</td><td>melanie60@example.net</td><td>Port Lorifort</td><td>null</td><td>insert</td><td>4</td><td>2023-12-05T08:44:30Z</td><td>1</td></tr><tr><td>63</td><td>Francisco</td><td>Thomas</td><td>staceywest@example.org</td><td>Port Jessica</td><td>null</td><td>insert</td><td>4</td><td>2023-12-05T08:44:30Z</td><td>1</td></tr><tr><td>64</td><td>Kaitlyn</td><td>Lang</td><td>susansanchez@example.com</td><td>Lake Kathyfurt</td><td>null</td><td>insert</td><td>4</td><td>2023-12-05T08:44:30Z</td><td>1</td></tr><tr><td>65</td><td>Christopher</td><td>Bridges</td><td>stewartcharles@example.org</td><td>North Sarabury</td><td>null</td><td>insert</td><td>4</td><td>2023-12-05T08:44:30Z</td><td>1</td></tr><tr><td>66</td><td>Samuel</td><td>Adams</td><td>collin19@example.com</td><td>Millerton</td><td>null</td><td>insert</td><td>4</td><td>2023-12-05T08:44:30Z</td><td>1</td></tr><tr><td>67</td><td>Robert</td><td>Mason</td><td>joshuagraves@example.org</td><td>Andersonshire</td><td>null</td><td>insert</td><td>4</td><td>2023-12-05T08:44:30Z</td><td>1</td></tr><tr><td>68</td><td>Kimberly</td><td>Sparks</td><td>melaniebrown@example.org</td><td>Edwardville</td><td>null</td><td>insert</td><td>4</td><td>2023-12-05T08:44:30Z</td><td>1</td></tr><tr><td>69</td><td>Vincent</td><td>Powell</td><td>reevesjames@example.org</td><td>New Amyshire</td><td>null</td><td>insert</td><td>4</td><td>2023-12-05T08:44:30Z</td><td>1</td></tr><tr><td>70</td><td>David</td><td>Murray</td><td>andersonjennifer@example.net</td><td>Collinsburgh</td><td>null</td><td>insert</td><td>4</td><td>2023-12-05T08:44:30Z</td><td>1</td></tr><tr><td>71</td><td>Alexandria</td><td>Williams</td><td>joneslee@example.org</td><td>Lake Michelle</td><td>null</td><td>insert</td><td>4</td><td>2023-12-05T08:44:30Z</td><td>1</td></tr><tr><td>72</td><td>Shawn</td><td>Haney</td><td>lauren86@example.org</td><td>East Antonio</td><td>null</td><td>insert</td><td>4</td><td>2023-12-05T08:44:30Z</td><td>1</td></tr><tr><td>73</td><td>Lisa</td><td>Chaney</td><td>qboone@example.com</td><td>Port Cindyshire</td><td>null</td><td>insert</td><td>4</td><td>2023-12-05T08:44:30Z</td><td>1</td></tr><tr><td>74</td><td>Jimmy</td><td>Castillo</td><td>loweryjesus@example.com</td><td>Harrisview</td><td>null</td><td>insert</td><td>4</td><td>2023-12-05T08:44:30Z</td><td>1</td></tr><tr><td>75</td><td>Erik</td><td>Howell</td><td>vsummers@example.net</td><td>Johnsonmouth</td><td>null</td><td>insert</td><td>4</td><td>2023-12-05T08:44:30Z</td><td>1</td></tr><tr><td>76</td><td>John</td><td>Harper</td><td>bjohnson@example.net</td><td>Port Joshuaview</td><td>null</td><td>insert</td><td>4</td><td>2023-12-05T08:44:30Z</td><td>1</td></tr><tr><td>77</td><td>Allen</td><td>Fisher</td><td>jcummings@example.net</td><td>Greenetown</td><td>null</td><td>insert</td><td>4</td><td>2023-12-05T08:44:30Z</td><td>1</td></tr><tr><td>78</td><td>Matthew</td><td>Hicks</td><td>davidelliott@example.net</td><td>South Barbarachester</td><td>null</td><td>insert</td><td>4</td><td>2023-12-05T08:44:30Z</td><td>1</td></tr><tr><td>79</td><td>Adam</td><td>Wilkins</td><td>kimberlybaker@example.org</td><td>Millermouth</td><td>null</td><td>insert</td><td>4</td><td>2023-12-05T08:44:30Z</td><td>1</td></tr><tr><td>80</td><td>Kimberly</td><td>Villa</td><td>jjones@example.com</td><td>Annaburgh</td><td>null</td><td>insert</td><td>4</td><td>2023-12-05T08:44:30Z</td><td>1</td></tr><tr><td>81</td><td>Vicki</td><td>Rivera</td><td>gkelley@example.net</td><td>East Eric</td><td>null</td><td>insert</td><td>4</td><td>2023-12-05T08:44:30Z</td><td>1</td></tr><tr><td>82</td><td>Lawrence</td><td>Weber</td><td>johnsonnichole@example.org</td><td>West Barryland</td><td>null</td><td>insert</td><td>4</td><td>2023-12-05T08:44:30Z</td><td>1</td></tr><tr><td>83</td><td>Stacy</td><td>Chapman</td><td>richardray@example.com</td><td>West Stevenmouth</td><td>null</td><td>insert</td><td>4</td><td>2023-12-05T08:44:30Z</td><td>1</td></tr><tr><td>84</td><td>Kelly</td><td>Obrien</td><td>ischmidt@example.org</td><td>East Jessicaport</td><td>null</td><td>insert</td><td>4</td><td>2023-12-05T08:44:30Z</td><td>1</td></tr><tr><td>85</td><td>Mary</td><td>Spence</td><td>williamthompson@example.com</td><td>Paulville</td><td>null</td><td>insert</td><td>4</td><td>2023-12-05T08:44:30Z</td><td>1</td></tr><tr><td>86</td><td>Michelle</td><td>Garcia</td><td>lisaross@example.org</td><td>South Jacob</td><td>null</td><td>insert</td><td>4</td><td>2023-12-05T08:44:30Z</td><td>1</td></tr><tr><td>87</td><td>John</td><td>Rivas</td><td>alexandra34@example.com</td><td>Jefferyland</td><td>null</td><td>insert</td><td>4</td><td>2023-12-05T08:44:30Z</td><td>1</td></tr><tr><td>88</td><td>Julia</td><td>Clark</td><td>uromero@example.org</td><td>Michaelland</td><td>null</td><td>insert</td><td>4</td><td>2023-12-05T08:44:30Z</td><td>1</td></tr><tr><td>89</td><td>Joshua</td><td>Rodriguez</td><td>diane69@example.org</td><td>West John</td><td>null</td><td>insert</td><td>4</td><td>2023-12-05T08:44:30Z</td><td>1</td></tr><tr><td>90</td><td>Amy</td><td>Payne</td><td>gjohnson@example.net</td><td>Pierceshire</td><td>null</td><td>insert</td><td>4</td><td>2023-12-05T08:44:30Z</td><td>1</td></tr><tr><td>91</td><td>Veronica</td><td>Martinez</td><td>lucerolisa@example.org</td><td>New Debbiehaven</td><td>null</td><td>insert</td><td>4</td><td>2023-12-05T08:44:30Z</td><td>1</td></tr><tr><td>92</td><td>Kelly</td><td>Rodgers</td><td>briannawade@example.org</td><td>Myersville</td><td>null</td><td>insert</td><td>4</td><td>2023-12-05T08:44:30Z</td><td>1</td></tr><tr><td>93</td><td>Derek</td><td>Salazar</td><td>ellen47@example.net</td><td>Rodriguezville</td><td>null</td><td>insert</td><td>4</td><td>2023-12-05T08:44:30Z</td><td>1</td></tr><tr><td>94</td><td>Kimberly</td><td>Lewis</td><td>jessicagalvan@example.net</td><td>Roybury</td><td>null</td><td>insert</td><td>4</td><td>2023-12-05T08:44:30Z</td><td>1</td></tr><tr><td>95</td><td>Marcia</td><td>Daniels</td><td>mcneilbrett@example.org</td><td>Michellemouth</td><td>null</td><td>insert</td><td>4</td><td>2023-12-05T08:44:30Z</td><td>1</td></tr><tr><td>96</td><td>Eric</td><td>Carter</td><td>kennedykathryn@example.com</td><td>West Dylan</td><td>null</td><td>insert</td><td>4</td><td>2023-12-05T08:44:30Z</td><td>1</td></tr><tr><td>97</td><td>Nicholas</td><td>Sutton</td><td>johnsonangela@example.net</td><td>South Kimberlyton</td><td>null</td><td>insert</td><td>4</td><td>2023-12-05T08:44:30Z</td><td>1</td></tr><tr><td>98</td><td>Jason</td><td>Torres</td><td>davidcalderon@example.org</td><td>East Tammymouth</td><td>null</td><td>insert</td><td>4</td><td>2023-12-05T08:44:30Z</td><td>1</td></tr><tr><td>99</td><td>Lacey</td><td>Dunn</td><td>rodgersbernard@example.com</td><td>Joneschester</td><td>null</td><td>insert</td><td>4</td><td>2023-12-05T08:44:30Z</td><td>1</td></tr></tbody></table></div>"
      ]
     },
     "metadata": {
      "application/vnd.databricks.v1+output": {
       "addedWidgets": {},
       "aggData": [],
       "aggError": "",
       "aggOverflow": false,
       "aggSchema": [],
       "aggSeriesLimitReached": false,
       "aggType": "",
       "arguments": {},
       "columnCustomDisplayInfos": {},
       "data": [
        [
         "1",
         "Sarah",
         "Spider",
         "susanstark@example.org",
         "Port Lauren",
         null,
         "update_postimage",
         3,
         "2023-12-05T08:32:59Z",
         1
        ],
        [
         "100",
         "Patrick",
         "Green",
         "swansonmelissa@example.org",
         "East Stephen",
         null,
         "insert",
         4,
         "2023-12-05T08:44:30Z",
         1
        ],
        [
         "21",
         "Dylan",
         "Hayes",
         "jtate@example.net",
         "Hooperborough",
         null,
         "insert",
         4,
         "2023-12-05T08:44:30Z",
         1
        ],
        [
         "22",
         "William",
         "Avila",
         "jimmyblackburn@example.org",
         "Jayland",
         null,
         "insert",
         4,
         "2023-12-05T08:44:30Z",
         1
        ],
        [
         "23",
         "Lisa",
         "Adams",
         "shenderson@example.org",
         "Lake Joseph",
         null,
         "insert",
         4,
         "2023-12-05T08:44:30Z",
         1
        ],
        [
         "24",
         "Laura",
         "Hughes",
         "jameswilliams@example.net",
         "Pamstad",
         null,
         "insert",
         4,
         "2023-12-05T08:44:30Z",
         1
        ],
        [
         "25",
         "Harold",
         "Jackson",
         "barry05@example.com",
         "West Andrea",
         null,
         "insert",
         4,
         "2023-12-05T08:44:30Z",
         1
        ],
        [
         "26",
         "Stephanie",
         "Sims",
         "wolfeanthony@example.net",
         "West David",
         null,
         "insert",
         4,
         "2023-12-05T08:44:30Z",
         1
        ],
        [
         "27",
         "Christopher",
         "Wright",
         "coxlouis@example.net",
         "Leslietown",
         null,
         "insert",
         4,
         "2023-12-05T08:44:30Z",
         1
        ],
        [
         "28",
         "Donald",
         "Delgado",
         "ylewis@example.org",
         "Lake Patrickhaven",
         null,
         "insert",
         4,
         "2023-12-05T08:44:30Z",
         1
        ],
        [
         "29",
         "Terri",
         "Chavez",
         "caldwelladam@example.net",
         "Grossstad",
         null,
         "insert",
         4,
         "2023-12-05T08:44:30Z",
         1
        ],
        [
         "30",
         "Joel",
         "Johnson",
         "kellyschroeder@example.org",
         "Karenfort",
         null,
         "insert",
         4,
         "2023-12-05T08:44:30Z",
         1
        ],
        [
         "31",
         "Jessica",
         "Floyd",
         "laceymcdonald@example.com",
         "Tonyaville",
         null,
         "insert",
         4,
         "2023-12-05T08:44:30Z",
         1
        ],
        [
         "32",
         "Martin",
         "Petersen",
         "brandonlewis@example.com",
         "North Michael",
         null,
         "insert",
         4,
         "2023-12-05T08:44:30Z",
         1
        ],
        [
         "33",
         "Anthony",
         "Carney",
         "gbaker@example.org",
         "Pachecostad",
         null,
         "insert",
         4,
         "2023-12-05T08:44:30Z",
         1
        ],
        [
         "34",
         "Eileen",
         "Baker",
         "zshort@example.com",
         "Port Michaelshire",
         null,
         "insert",
         4,
         "2023-12-05T08:44:30Z",
         1
        ],
        [
         "35",
         "Joshua",
         "Owens",
         "vanessa93@example.net",
         "Weeksside",
         null,
         "insert",
         4,
         "2023-12-05T08:44:30Z",
         1
        ],
        [
         "36",
         "David",
         "Wilson",
         "clarkleah@example.net",
         "Lisaton",
         null,
         "insert",
         4,
         "2023-12-05T08:44:30Z",
         1
        ],
        [
         "37",
         "Christopher",
         "Ortiz",
         "ryanevans@example.org",
         "Tranview",
         null,
         "insert",
         4,
         "2023-12-05T08:44:30Z",
         1
        ],
        [
         "38",
         "Angela",
         "Rodriguez",
         "briggschelsea@example.com",
         "North Kurtland",
         null,
         "insert",
         4,
         "2023-12-05T08:44:30Z",
         1
        ],
        [
         "39",
         "Paul",
         "Sherman",
         "fvilla@example.com",
         "Briggsfurt",
         null,
         "insert",
         4,
         "2023-12-05T08:44:30Z",
         1
        ],
        [
         "40",
         "Stephanie",
         "Allen",
         "lauren21@example.com",
         "New Cassandra",
         null,
         "insert",
         4,
         "2023-12-05T08:44:30Z",
         1
        ],
        [
         "61",
         "Jeffrey",
         "Ward",
         "csmith@example.net",
         "Nataliefurt",
         null,
         "insert",
         4,
         "2023-12-05T08:44:30Z",
         1
        ],
        [
         "62",
         "Nicole",
         "Shepard",
         "melanie60@example.net",
         "Port Lorifort",
         null,
         "insert",
         4,
         "2023-12-05T08:44:30Z",
         1
        ],
        [
         "63",
         "Francisco",
         "Thomas",
         "staceywest@example.org",
         "Port Jessica",
         null,
         "insert",
         4,
         "2023-12-05T08:44:30Z",
         1
        ],
        [
         "64",
         "Kaitlyn",
         "Lang",
         "susansanchez@example.com",
         "Lake Kathyfurt",
         null,
         "insert",
         4,
         "2023-12-05T08:44:30Z",
         1
        ],
        [
         "65",
         "Christopher",
         "Bridges",
         "stewartcharles@example.org",
         "North Sarabury",
         null,
         "insert",
         4,
         "2023-12-05T08:44:30Z",
         1
        ],
        [
         "66",
         "Samuel",
         "Adams",
         "collin19@example.com",
         "Millerton",
         null,
         "insert",
         4,
         "2023-12-05T08:44:30Z",
         1
        ],
        [
         "67",
         "Robert",
         "Mason",
         "joshuagraves@example.org",
         "Andersonshire",
         null,
         "insert",
         4,
         "2023-12-05T08:44:30Z",
         1
        ],
        [
         "68",
         "Kimberly",
         "Sparks",
         "melaniebrown@example.org",
         "Edwardville",
         null,
         "insert",
         4,
         "2023-12-05T08:44:30Z",
         1
        ],
        [
         "69",
         "Vincent",
         "Powell",
         "reevesjames@example.org",
         "New Amyshire",
         null,
         "insert",
         4,
         "2023-12-05T08:44:30Z",
         1
        ],
        [
         "70",
         "David",
         "Murray",
         "andersonjennifer@example.net",
         "Collinsburgh",
         null,
         "insert",
         4,
         "2023-12-05T08:44:30Z",
         1
        ],
        [
         "71",
         "Alexandria",
         "Williams",
         "joneslee@example.org",
         "Lake Michelle",
         null,
         "insert",
         4,
         "2023-12-05T08:44:30Z",
         1
        ],
        [
         "72",
         "Shawn",
         "Haney",
         "lauren86@example.org",
         "East Antonio",
         null,
         "insert",
         4,
         "2023-12-05T08:44:30Z",
         1
        ],
        [
         "73",
         "Lisa",
         "Chaney",
         "qboone@example.com",
         "Port Cindyshire",
         null,
         "insert",
         4,
         "2023-12-05T08:44:30Z",
         1
        ],
        [
         "74",
         "Jimmy",
         "Castillo",
         "loweryjesus@example.com",
         "Harrisview",
         null,
         "insert",
         4,
         "2023-12-05T08:44:30Z",
         1
        ],
        [
         "75",
         "Erik",
         "Howell",
         "vsummers@example.net",
         "Johnsonmouth",
         null,
         "insert",
         4,
         "2023-12-05T08:44:30Z",
         1
        ],
        [
         "76",
         "John",
         "Harper",
         "bjohnson@example.net",
         "Port Joshuaview",
         null,
         "insert",
         4,
         "2023-12-05T08:44:30Z",
         1
        ],
        [
         "77",
         "Allen",
         "Fisher",
         "jcummings@example.net",
         "Greenetown",
         null,
         "insert",
         4,
         "2023-12-05T08:44:30Z",
         1
        ],
        [
         "78",
         "Matthew",
         "Hicks",
         "davidelliott@example.net",
         "South Barbarachester",
         null,
         "insert",
         4,
         "2023-12-05T08:44:30Z",
         1
        ],
        [
         "79",
         "Adam",
         "Wilkins",
         "kimberlybaker@example.org",
         "Millermouth",
         null,
         "insert",
         4,
         "2023-12-05T08:44:30Z",
         1
        ],
        [
         "80",
         "Kimberly",
         "Villa",
         "jjones@example.com",
         "Annaburgh",
         null,
         "insert",
         4,
         "2023-12-05T08:44:30Z",
         1
        ],
        [
         "81",
         "Vicki",
         "Rivera",
         "gkelley@example.net",
         "East Eric",
         null,
         "insert",
         4,
         "2023-12-05T08:44:30Z",
         1
        ],
        [
         "82",
         "Lawrence",
         "Weber",
         "johnsonnichole@example.org",
         "West Barryland",
         null,
         "insert",
         4,
         "2023-12-05T08:44:30Z",
         1
        ],
        [
         "83",
         "Stacy",
         "Chapman",
         "richardray@example.com",
         "West Stevenmouth",
         null,
         "insert",
         4,
         "2023-12-05T08:44:30Z",
         1
        ],
        [
         "84",
         "Kelly",
         "Obrien",
         "ischmidt@example.org",
         "East Jessicaport",
         null,
         "insert",
         4,
         "2023-12-05T08:44:30Z",
         1
        ],
        [
         "85",
         "Mary",
         "Spence",
         "williamthompson@example.com",
         "Paulville",
         null,
         "insert",
         4,
         "2023-12-05T08:44:30Z",
         1
        ],
        [
         "86",
         "Michelle",
         "Garcia",
         "lisaross@example.org",
         "South Jacob",
         null,
         "insert",
         4,
         "2023-12-05T08:44:30Z",
         1
        ],
        [
         "87",
         "John",
         "Rivas",
         "alexandra34@example.com",
         "Jefferyland",
         null,
         "insert",
         4,
         "2023-12-05T08:44:30Z",
         1
        ],
        [
         "88",
         "Julia",
         "Clark",
         "uromero@example.org",
         "Michaelland",
         null,
         "insert",
         4,
         "2023-12-05T08:44:30Z",
         1
        ],
        [
         "89",
         "Joshua",
         "Rodriguez",
         "diane69@example.org",
         "West John",
         null,
         "insert",
         4,
         "2023-12-05T08:44:30Z",
         1
        ],
        [
         "90",
         "Amy",
         "Payne",
         "gjohnson@example.net",
         "Pierceshire",
         null,
         "insert",
         4,
         "2023-12-05T08:44:30Z",
         1
        ],
        [
         "91",
         "Veronica",
         "Martinez",
         "lucerolisa@example.org",
         "New Debbiehaven",
         null,
         "insert",
         4,
         "2023-12-05T08:44:30Z",
         1
        ],
        [
         "92",
         "Kelly",
         "Rodgers",
         "briannawade@example.org",
         "Myersville",
         null,
         "insert",
         4,
         "2023-12-05T08:44:30Z",
         1
        ],
        [
         "93",
         "Derek",
         "Salazar",
         "ellen47@example.net",
         "Rodriguezville",
         null,
         "insert",
         4,
         "2023-12-05T08:44:30Z",
         1
        ],
        [
         "94",
         "Kimberly",
         "Lewis",
         "jessicagalvan@example.net",
         "Roybury",
         null,
         "insert",
         4,
         "2023-12-05T08:44:30Z",
         1
        ],
        [
         "95",
         "Marcia",
         "Daniels",
         "mcneilbrett@example.org",
         "Michellemouth",
         null,
         "insert",
         4,
         "2023-12-05T08:44:30Z",
         1
        ],
        [
         "96",
         "Eric",
         "Carter",
         "kennedykathryn@example.com",
         "West Dylan",
         null,
         "insert",
         4,
         "2023-12-05T08:44:30Z",
         1
        ],
        [
         "97",
         "Nicholas",
         "Sutton",
         "johnsonangela@example.net",
         "South Kimberlyton",
         null,
         "insert",
         4,
         "2023-12-05T08:44:30Z",
         1
        ],
        [
         "98",
         "Jason",
         "Torres",
         "davidcalderon@example.org",
         "East Tammymouth",
         null,
         "insert",
         4,
         "2023-12-05T08:44:30Z",
         1
        ],
        [
         "99",
         "Lacey",
         "Dunn",
         "rodgersbernard@example.com",
         "Joneschester",
         null,
         "insert",
         4,
         "2023-12-05T08:44:30Z",
         1
        ]
       ],
       "datasetInfos": [],
       "dbfsResultPath": null,
       "isJsonSchema": true,
       "metadata": {},
       "overflow": false,
       "plotOptions": {
        "customPlotOptions": {},
        "displayType": "table",
        "pivotAggregation": null,
        "pivotColumns": null,
        "xColumns": null,
        "yColumns": null
       },
       "removedWidgets": [],
       "schema": [
        {
         "metadata": "{}",
         "name": "id",
         "type": "\"string\""
        },
        {
         "metadata": "{}",
         "name": "first_name",
         "type": "\"string\""
        },
        {
         "metadata": "{}",
         "name": "last_name",
         "type": "\"string\""
        },
        {
         "metadata": "{}",
         "name": "email",
         "type": "\"string\""
        },
        {
         "metadata": "{}",
         "name": "city",
         "type": "\"string\""
        },
        {
         "metadata": "{}",
         "name": "_rescued_data",
         "type": "\"string\""
        },
        {
         "metadata": "{}",
         "name": "_change_type",
         "type": "\"string\""
        },
        {
         "metadata": "{}",
         "name": "_commit_version",
         "type": "\"long\""
        },
        {
         "metadata": "{}",
         "name": "_commit_timestamp",
         "type": "\"timestamp\""
        },
        {
         "metadata": "{}",
         "name": "rnk",
         "type": "\"integer\""
        }
       ],
       "type": "table"
      }
     },
     "output_type": "display_data"
    }
   ],
   "source": [
    "last_version = cdf_id_last_version(cdf_stamp)\n",
    "last_version.display()"
   ]
  },
  {
   "cell_type": "code",
   "execution_count": 0,
   "metadata": {
    "application/vnd.databricks.v1+cell": {
     "cellMetadata": {
      "byteLimit": 2048000,
      "rowLimit": 10000
     },
     "inputWidgets": {},
     "nuid": "7d3261a5-4d01-4f98-bf4f-95e1a057c813",
     "showTitle": false,
     "title": ""
    }
   },
   "outputs": [],
   "source": [
    "# silver transformation\n",
    "def silver_etl(df):\n",
    "    return (df\n",
    "        .withColumn('full_name',concat(col('first_name'),lit(' '), col('last_name')))\n",
    "    )\n",
    "    "
   ]
  },
  {
   "cell_type": "code",
   "execution_count": 0,
   "metadata": {
    "application/vnd.databricks.v1+cell": {
     "cellMetadata": {
      "byteLimit": 2048000,
      "rowLimit": 10000
     },
     "inputWidgets": {},
     "nuid": "4908548d-79cc-49fd-8bb2-39f417fb9a1e",
     "showTitle": false,
     "title": ""
    }
   },
   "outputs": [],
   "source": [
    "schema = StructType([\n",
    "    StructField(\"id\", StringType(), True),\n",
    "    StructField(\"first_name\", StringType(), True),\n",
    "    StructField(\"last_name\", StringType(), True),\n",
    "    StructField(\"full_name\", StringType(), True),\n",
    "    StructField(\"email\", StringType(), True),\n",
    "    StructField(\"city\", StringType(), True),\n",
    "    StructField(\"_rescued_data\", StringType(), True)\n",
    "])\n",
    "empty_df = spark.createDataFrame(spark.sparkContext.emptyRDD(), schema)\n",
    "# Write the empty DataFrame as a Delta table\n",
    "empty_df.write.format(\"delta\").mode(\"overwrite\").saveAsTable(\"customers_silver\")"
   ]
  },
  {
   "cell_type": "code",
   "execution_count": 0,
   "metadata": {
    "application/vnd.databricks.v1+cell": {
     "cellMetadata": {
      "byteLimit": 2048000,
      "rowLimit": 10000
     },
     "inputWidgets": {},
     "nuid": "a24debd6-ba29-4c0e-bc83-82f1127358fc",
     "showTitle": false,
     "title": ""
    }
   },
   "outputs": [],
   "source": [
    "SINK_TABLE = \"customers_silver\"\n",
    "def etl_and_merge_to_silver(df, batch_id):\n",
    "    if not df.isEmpty():\n",
    "        sink_table_delta = DeltaTable.forName(spark, SINK_TABLE)\n",
    "        df_transactions_sink = sink_table_delta.toDF()\n",
    "        logger.info(f'sink delta table has now {df_transactions_sink.count()} records')\n",
    "        last_version_records = cdf_id_last_version(df)\n",
    "        source_transformed = silver_etl(last_version_records)\n",
    "        logger.info(f'batch_id: {batch_id} with source table of {source_transformed.count()} records')\n",
    "        (sink_table_delta.alias('target')\n",
    "            .merge(source_transformed.alias('source'), \n",
    "                    \"source.id = target.id\")\n",
    "            .whenMatchedUpdateAll()\n",
    "            .whenNotMatchedInsertAll()\n",
    "            .execute()\n",
    "        )\n",
    "        sink_table_delta = DeltaTable.forName(spark, SINK_TABLE)\n",
    "        df_transactions_sink = sink_table_delta.toDF()\n",
    "        logger.info(f'sink delta table has now {df_transactions_sink.count()} records')\n",
    "    else:\n",
    "        logger.info(f'batch_id: {batch_id} No records to load ')"
   ]
  },
  {
   "cell_type": "code",
   "execution_count": 0,
   "metadata": {
    "application/vnd.databricks.v1+cell": {
     "cellMetadata": {
      "byteLimit": 2048000,
      "rowLimit": 10000
     },
     "inputWidgets": {},
     "nuid": "6fe14ea1-3b68-4a0a-8f27-de6086279dcb",
     "showTitle": false,
     "title": ""
    }
   },
   "outputs": [
    {
     "output_type": "execute_result",
     "data": {
      "text/plain": [
       "<pyspark.sql.streaming.query.StreamingQuery at 0x7f0f2cf61f30>"
      ]
     },
     "execution_count": 35,
     "metadata": {},
     "output_type": "execute_result"
    }
   ],
   "source": [
    "# read cdf stream and merge bronze\n",
    "SOURCE_TABLE = \"customers_bronze\"\n",
    "checkpoint_path = \"dbfs:/mnt/databricks/_checkpoint/silver_customers_cdf\"\n",
    "\n",
    "(spark.readStream\n",
    "  .format(\"delta\")\n",
    "  .option(\"readChangeFeed\", \"true\")\n",
    "  .table(SOURCE_TABLE)\n",
    "  .writeStream\n",
    "  .foreachBatch(etl_and_merge_to_silver)\n",
    "  .option(\"checkpointLocation\", checkpoint_path)\n",
    "  .trigger(availableNow=True)\n",
    "  .start()\n",
    "  )"
   ]
  },
  {
   "cell_type": "code",
   "execution_count": 0,
   "metadata": {
    "application/vnd.databricks.v1+cell": {
     "cellMetadata": {
      "byteLimit": 2048000,
      "implicitDf": true,
      "rowLimit": 10000
     },
     "inputWidgets": {},
     "nuid": "960107fc-df78-4dec-becc-752384e093a3",
     "showTitle": false,
     "title": ""
    }
   },
   "outputs": [
    {
     "output_type": "display_data",
     "data": {
      "text/html": [
       "<style scoped>\n",
       "  .table-result-container {\n",
       "    max-height: 300px;\n",
       "    overflow: auto;\n",
       "  }\n",
       "  table, th, td {\n",
       "    border: 1px solid black;\n",
       "    border-collapse: collapse;\n",
       "  }\n",
       "  th, td {\n",
       "    padding: 5px;\n",
       "  }\n",
       "  th {\n",
       "    text-align: left;\n",
       "  }\n",
       "</style><div class='table-result-container'><table class='table-result'><thead style='background-color: white'><tr><th>id</th><th>first_name</th><th>last_name</th><th>full_name</th><th>email</th><th>city</th><th>_rescued_data</th></tr></thead><tbody><tr><td>1</td><td>Sarah</td><td>Spider</td><td>Sarah Spider</td><td>susanstark@example.org</td><td>Port Lauren</td><td>null</td></tr><tr><td>10</td><td>Ashley</td><td>Young</td><td>Ashley Young</td><td>jason26@example.net</td><td>Port Robert</td><td>null</td></tr><tr><td>11</td><td>Michael</td><td>Smith</td><td>Michael Smith</td><td>andrew67@example.net</td><td>Guerrachester</td><td>null</td></tr><tr><td>12</td><td>Kenneth</td><td>Taylor</td><td>Kenneth Taylor</td><td>anthony97@example.net</td><td>Jamesmouth</td><td>null</td></tr><tr><td>13</td><td>Derrick</td><td>Gordon</td><td>Derrick Gordon</td><td>amanda84@example.org</td><td>Timothymouth</td><td>null</td></tr><tr><td>14</td><td>Tina</td><td>Hopkins</td><td>Tina Hopkins</td><td>kevin08@example.net</td><td>Acostaside</td><td>null</td></tr><tr><td>15</td><td>William</td><td>Jones</td><td>William Jones</td><td>hsmith@example.org</td><td>Dawnmouth</td><td>null</td></tr><tr><td>16</td><td>Tony</td><td>Martinez</td><td>Tony Martinez</td><td>joshua70@example.net</td><td>New Dwaynemouth</td><td>null</td></tr><tr><td>17</td><td>Nichole</td><td>Clark</td><td>Nichole Clark</td><td>sbarnett@example.org</td><td>Port Shawn</td><td>null</td></tr><tr><td>18</td><td>Matthew</td><td>Shaw</td><td>Matthew Shaw</td><td>qjohnson@example.org</td><td>West William</td><td>null</td></tr><tr><td>19</td><td>Vicki</td><td>Griffin</td><td>Vicki Griffin</td><td>wallacetodd@example.org</td><td>New Conniechester</td><td>null</td></tr><tr><td>2</td><td>Robert</td><td>Stephenson</td><td>Robert Stephenson</td><td>nandrade@example.com</td><td>Lake Sherry</td><td>null</td></tr><tr><td>20</td><td>Diane</td><td>Woods</td><td>Diane Woods</td><td>randy58@example.com</td><td>South Laurenville</td><td>null</td></tr><tr><td>3</td><td>Tammy</td><td>Whitaker</td><td>Tammy Whitaker</td><td>amanda07@example.net</td><td>Clarkmouth</td><td>null</td></tr><tr><td>4</td><td>Melissa</td><td>Rogers</td><td>Melissa Rogers</td><td>richardallen@example.org</td><td>Lake Christopher</td><td>null</td></tr><tr><td>5</td><td>Jenna</td><td>Bennett</td><td>Jenna Bennett</td><td>egarcia@example.org</td><td>Davidstad</td><td>null</td></tr><tr><td>6</td><td>Tiffany</td><td>Solis</td><td>Tiffany Solis</td><td>patricia02@example.com</td><td>Nicholaschester</td><td>null</td></tr><tr><td>7</td><td>Sabrina</td><td>Ryan</td><td>Sabrina Ryan</td><td>debbieflores@example.net</td><td>Floresshire</td><td>null</td></tr><tr><td>8</td><td>Nancy</td><td>Reed</td><td>Nancy Reed</td><td>kyle58@example.org</td><td>New Charles</td><td>null</td></tr><tr><td>9</td><td>Cody</td><td>Johnson</td><td>Cody Johnson</td><td>hutchinsonmelinda@example.com</td><td>West Robertland</td><td>null</td></tr></tbody></table></div>"
      ]
     },
     "metadata": {
      "application/vnd.databricks.v1+output": {
       "addedWidgets": {},
       "aggData": [],
       "aggError": "",
       "aggOverflow": false,
       "aggSchema": [],
       "aggSeriesLimitReached": false,
       "aggType": "",
       "arguments": {},
       "columnCustomDisplayInfos": {},
       "data": [
        [
         "1",
         "Sarah",
         "Spider",
         "Sarah Spider",
         "susanstark@example.org",
         "Port Lauren",
         null
        ],
        [
         "10",
         "Ashley",
         "Young",
         "Ashley Young",
         "jason26@example.net",
         "Port Robert",
         null
        ],
        [
         "11",
         "Michael",
         "Smith",
         "Michael Smith",
         "andrew67@example.net",
         "Guerrachester",
         null
        ],
        [
         "12",
         "Kenneth",
         "Taylor",
         "Kenneth Taylor",
         "anthony97@example.net",
         "Jamesmouth",
         null
        ],
        [
         "13",
         "Derrick",
         "Gordon",
         "Derrick Gordon",
         "amanda84@example.org",
         "Timothymouth",
         null
        ],
        [
         "14",
         "Tina",
         "Hopkins",
         "Tina Hopkins",
         "kevin08@example.net",
         "Acostaside",
         null
        ],
        [
         "15",
         "William",
         "Jones",
         "William Jones",
         "hsmith@example.org",
         "Dawnmouth",
         null
        ],
        [
         "16",
         "Tony",
         "Martinez",
         "Tony Martinez",
         "joshua70@example.net",
         "New Dwaynemouth",
         null
        ],
        [
         "17",
         "Nichole",
         "Clark",
         "Nichole Clark",
         "sbarnett@example.org",
         "Port Shawn",
         null
        ],
        [
         "18",
         "Matthew",
         "Shaw",
         "Matthew Shaw",
         "qjohnson@example.org",
         "West William",
         null
        ],
        [
         "19",
         "Vicki",
         "Griffin",
         "Vicki Griffin",
         "wallacetodd@example.org",
         "New Conniechester",
         null
        ],
        [
         "2",
         "Robert",
         "Stephenson",
         "Robert Stephenson",
         "nandrade@example.com",
         "Lake Sherry",
         null
        ],
        [
         "20",
         "Diane",
         "Woods",
         "Diane Woods",
         "randy58@example.com",
         "South Laurenville",
         null
        ],
        [
         "3",
         "Tammy",
         "Whitaker",
         "Tammy Whitaker",
         "amanda07@example.net",
         "Clarkmouth",
         null
        ],
        [
         "4",
         "Melissa",
         "Rogers",
         "Melissa Rogers",
         "richardallen@example.org",
         "Lake Christopher",
         null
        ],
        [
         "5",
         "Jenna",
         "Bennett",
         "Jenna Bennett",
         "egarcia@example.org",
         "Davidstad",
         null
        ],
        [
         "6",
         "Tiffany",
         "Solis",
         "Tiffany Solis",
         "patricia02@example.com",
         "Nicholaschester",
         null
        ],
        [
         "7",
         "Sabrina",
         "Ryan",
         "Sabrina Ryan",
         "debbieflores@example.net",
         "Floresshire",
         null
        ],
        [
         "8",
         "Nancy",
         "Reed",
         "Nancy Reed",
         "kyle58@example.org",
         "New Charles",
         null
        ],
        [
         "9",
         "Cody",
         "Johnson",
         "Cody Johnson",
         "hutchinsonmelinda@example.com",
         "West Robertland",
         null
        ]
       ],
       "datasetInfos": [],
       "dbfsResultPath": null,
       "isJsonSchema": true,
       "metadata": {
        "dataframeName": "_sqldf",
        "executionCount": 23
       },
       "overflow": false,
       "plotOptions": {
        "customPlotOptions": {},
        "displayType": "table",
        "pivotAggregation": null,
        "pivotColumns": null,
        "xColumns": null,
        "yColumns": null
       },
       "removedWidgets": [],
       "schema": [
        {
         "metadata": "{}",
         "name": "id",
         "type": "\"string\""
        },
        {
         "metadata": "{}",
         "name": "first_name",
         "type": "\"string\""
        },
        {
         "metadata": "{}",
         "name": "last_name",
         "type": "\"string\""
        },
        {
         "metadata": "{}",
         "name": "full_name",
         "type": "\"string\""
        },
        {
         "metadata": "{}",
         "name": "email",
         "type": "\"string\""
        },
        {
         "metadata": "{}",
         "name": "city",
         "type": "\"string\""
        },
        {
         "metadata": "{}",
         "name": "_rescued_data",
         "type": "\"string\""
        }
       ],
       "type": "table"
      }
     },
     "output_type": "display_data"
    }
   ],
   "source": [
    "%sql\n",
    "select * from customers_silver\n",
    "order by id"
   ]
  },
  {
   "cell_type": "code",
   "execution_count": 0,
   "metadata": {
    "application/vnd.databricks.v1+cell": {
     "cellMetadata": {
      "byteLimit": 2048000,
      "rowLimit": 10000
     },
     "inputWidgets": {},
     "nuid": "e41388e4-9e55-4a33-aeea-ae1180a0ab6b",
     "showTitle": false,
     "title": ""
    }
   },
   "outputs": [],
   "source": [
    "# move logs to a permanent location\n",
    "source_path = f'file:{log_file}'\n",
    "destination_path = f\"dbfs:/mnt/databricks/logs/{log_file.split('/')[-1]}\"\n",
    "\n",
    "# Check if the destination file exists\n",
    "if dbutils.fs.cp(source_path, destination_path, True):\n",
    "    dbutils.fs.rm(destination_path)\n",
    "    dbutils.fs.cp(source_path, destination_path)\n",
    "else:\n",
    "    dbutils.fs.cp(source_path, destination_path)"
   ]
  },
  {
   "cell_type": "code",
   "execution_count": 0,
   "metadata": {
    "application/vnd.databricks.v1+cell": {
     "cellMetadata": {
      "byteLimit": 2048000,
      "implicitDf": true,
      "rowLimit": 10000
     },
     "inputWidgets": {},
     "nuid": "db601e7e-cead-45e6-9949-a2c9f22fdc28",
     "showTitle": false,
     "title": ""
    }
   },
   "outputs": [],
   "source": [
    "%sql\n",
    "drop table if exists customers_bronze;\n",
    "drop table if exists customers_silver;"
   ]
  },
  {
   "cell_type": "code",
   "execution_count": 0,
   "metadata": {
    "application/vnd.databricks.v1+cell": {
     "cellMetadata": {},
     "inputWidgets": {},
     "nuid": "4c0f3ab7-2be6-45ef-b1a3-f5b1d7826a3d",
     "showTitle": false,
     "title": ""
    }
   },
   "outputs": [],
   "source": []
  }
 ],
 "metadata": {
  "application/vnd.databricks.v1+notebook": {
   "dashboards": [],
   "language": "python",
   "notebookMetadata": {
    "mostRecentlyExecutedCommandWithImplicitDF": {
     "commandId": 2549838659900248,
     "dataframes": [
      "_sqldf"
     ]
    },
    "pythonIndentUnit": 4
   },
   "notebookName": "from raw to gold",
   "widgets": {}
  }
 },
 "nbformat": 4,
 "nbformat_minor": 0
}
