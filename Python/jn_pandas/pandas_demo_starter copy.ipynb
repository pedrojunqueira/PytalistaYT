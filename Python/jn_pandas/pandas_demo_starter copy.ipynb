{
 "cells": [
  {
   "cell_type": "markdown",
   "metadata": {},
   "source": [
    "# Jupyter Notebook and Pandas Demo"
   ]
  },
  {
   "attachments": {},
   "cell_type": "markdown",
   "metadata": {},
   "source": [
    "## Jupyter Notebook\n",
    "\n",
    "1. Set up environment VS Code\n",
    "    a. Install Dependencies\n",
    "    b. Start kernel\n",
    "2. Jupyter Notebook shortcuts\n",
    "\n",
    "## Pandas\n",
    "\n",
    "1. Datamodel\n",
    "    * Series\n",
    "    * DataFrame\n",
    "2. Import Data\n",
    "    * csv\n",
    "    * sql\n",
    "3. DataFrame methods and atributes\n",
    "    * head\n",
    "    * shape\n",
    "    * describe\n",
    "    * columns\n",
    "3. Series methods\n",
    "    * value_counts\n",
    "4. DataFrame manipulation\n",
    "    * mask filter\n",
    "    * sort\n",
    "    * apply vs. vectorize\n",
    "    * slicing\n",
    "    * renaming\n",
    "    * looping\n",
    "    * aggregating\n",
    "        * pivot_table\n",
    "        * group_by\n",
    "    * transforming\n",
    "        * melting\n",
    "        * pivoting\n",
    "    * joining\n",
    "    * concatenation (Union)\n",
    "5. Ploting\n",
    "6. Resources\n",
    "\n"
   ]
  },
  {
   "cell_type": "markdown",
   "metadata": {},
   "source": [
    "## Most Usefull shortcuts in Jupiter Notebook\n",
    "\n",
    "- shift + enter -> run current cell\n",
    "- esc + m -> turn cell into markdown\n",
    "- esc + y -> turn cell into code\n",
    "- esc + a -> create cell above current\n",
    "- esc + b -> create cell below current\n",
    "- esc + dd -> delete current cell "
   ]
  },
  {
   "cell_type": "code",
   "execution_count": null,
   "metadata": {},
   "outputs": [],
   "source": [
    "## Importing and checking version\n",
    "\n",
    "import notebook\n",
    "import pandas\n",
    "\n",
    "\n",
    "print(f\"notebook: {notebook.__version__}\")\n",
    "print(f\"pandas: {pandas.__version__}\")"
   ]
  },
  {
   "cell_type": "code",
   "execution_count": null,
   "metadata": {},
   "outputs": [],
   "source": [
    "# import convention for pandas\n",
    "\n",
    "import pandas as pd"
   ]
  },
  {
   "cell_type": "code",
   "execution_count": null,
   "metadata": {},
   "outputs": [],
   "source": [
    "# there is a lot to know\n",
    "\n",
    "len(dir(pd.DataFrame))\n",
    "\n"
   ]
  },
  {
   "cell_type": "markdown",
   "metadata": {},
   "source": [
    "[DataFrame reference API](https://pandas.pydata.org/docs/reference/frame.html)"
   ]
  },
  {
   "cell_type": "code",
   "execution_count": null,
   "metadata": {},
   "outputs": [],
   "source": [
    "data = {\"Name\":[\"Kane\", \"Chat\",\"Blake\"],\n",
    "        \"Role\": [\"DA\", \"DE\", \"COO\"]}\n",
    "\n",
    "# complete\n"
   ]
  },
  {
   "cell_type": "code",
   "execution_count": null,
   "metadata": {},
   "outputs": [],
   "source": [
    "# show DataFrame\n",
    "\n"
   ]
  },
  {
   "cell_type": "code",
   "execution_count": null,
   "metadata": {},
   "outputs": [],
   "source": [
    "# show a column\n",
    "\n",
    "\n",
    "\n",
    "# type \n",
    "\n"
   ]
  },
  {
   "cell_type": "code",
   "execution_count": null,
   "metadata": {},
   "outputs": [],
   "source": [
    "# add a series to the df\n",
    "\n",
    "numbers = pd.Series([1,2,3])\n",
    "\n"
   ]
  },
  {
   "cell_type": "code",
   "execution_count": null,
   "metadata": {},
   "outputs": [],
   "source": [
    "# import data csv\n",
    "\n",
    "netflix = pd.read_csv(\"netflix.csv\")\n"
   ]
  },
  {
   "cell_type": "code",
   "execution_count": null,
   "metadata": {},
   "outputs": [],
   "source": [
    "# show columns\n",
    "\n"
   ]
  },
  {
   "cell_type": "code",
   "execution_count": null,
   "metadata": {},
   "outputs": [],
   "source": [
    "# show shape\n",
    "\n"
   ]
  },
  {
   "cell_type": "code",
   "execution_count": null,
   "metadata": {},
   "outputs": [],
   "source": [
    "# show head\n",
    "\n"
   ]
  },
  {
   "cell_type": "code",
   "execution_count": null,
   "metadata": {},
   "outputs": [],
   "source": [
    "# describe\n",
    "\n"
   ]
  },
  {
   "cell_type": "code",
   "execution_count": null,
   "metadata": {},
   "outputs": [],
   "source": [
    "# info"
   ]
  },
  {
   "cell_type": "code",
   "execution_count": null,
   "metadata": {},
   "outputs": [],
   "source": [
    "# series methods max\n",
    "\n"
   ]
  },
  {
   "cell_type": "code",
   "execution_count": null,
   "metadata": {},
   "outputs": [],
   "source": [
    "# series methods value_counts\n",
    "\n"
   ]
  },
  {
   "cell_type": "code",
   "execution_count": null,
   "metadata": {},
   "outputs": [],
   "source": [
    "# filter by boolean filter MASKING\n",
    "\n"
   ]
  },
  {
   "cell_type": "code",
   "execution_count": null,
   "metadata": {},
   "outputs": [],
   "source": [
    "# sort values\n",
    "\n"
   ]
  },
  {
   "cell_type": "code",
   "execution_count": null,
   "metadata": {},
   "outputs": [],
   "source": [
    "# iterate columns\n",
    "\n",
    "\n"
   ]
  },
  {
   "cell_type": "code",
   "execution_count": null,
   "metadata": {},
   "outputs": [],
   "source": [
    "# apply method to a series\n",
    "\n",
    "\n"
   ]
  },
  {
   "cell_type": "code",
   "execution_count": null,
   "metadata": {},
   "outputs": [],
   "source": [
    "# vectorised operation\n",
    "\n",
    "\n"
   ]
  },
  {
   "cell_type": "code",
   "execution_count": null,
   "metadata": {},
   "outputs": [],
   "source": [
    "# do not reinvent wheel apply vs dt method for date\n",
    "\n"
   ]
  },
  {
   "cell_type": "code",
   "execution_count": null,
   "metadata": {},
   "outputs": [],
   "source": [
    "# slicing loc\n",
    "\n"
   ]
  },
  {
   "cell_type": "code",
   "execution_count": null,
   "metadata": {},
   "outputs": [],
   "source": [
    "# slicing iloc\n"
   ]
  },
  {
   "cell_type": "code",
   "execution_count": null,
   "metadata": {},
   "outputs": [],
   "source": [
    "# using parentesis to make it look readable\n",
    "\n"
   ]
  },
  {
   "cell_type": "code",
   "execution_count": null,
   "metadata": {},
   "outputs": [],
   "source": [
    "# pivot_table\n",
    "\n"
   ]
  },
  {
   "cell_type": "code",
   "execution_count": null,
   "metadata": {},
   "outputs": [],
   "source": [
    "# group by\n",
    "\n"
   ]
  },
  {
   "cell_type": "code",
   "execution_count": null,
   "metadata": {},
   "outputs": [],
   "source": [
    "# agregating more than one column groupby\n",
    "\n"
   ]
  },
  {
   "cell_type": "code",
   "execution_count": null,
   "metadata": {},
   "outputs": [],
   "source": [
    "# agregating more than one column pivor table\n"
   ]
  },
  {
   "cell_type": "code",
   "execution_count": null,
   "metadata": {},
   "outputs": [],
   "source": [
    "# aggregation more than a value  column pivot table version\n",
    "\n"
   ]
  },
  {
   "cell_type": "code",
   "execution_count": null,
   "metadata": {},
   "outputs": [],
   "source": [
    "# aggregation more than a value  column groupby version\n",
    "\n"
   ]
  },
  {
   "cell_type": "code",
   "execution_count": null,
   "metadata": {},
   "outputs": [],
   "source": [
    "# melting wide data PBI unpivot\n"
   ]
  },
  {
   "cell_type": "code",
   "execution_count": null,
   "metadata": {},
   "outputs": [],
   "source": [
    "# view wide data\n",
    "\n"
   ]
  },
  {
   "cell_type": "code",
   "execution_count": null,
   "metadata": {},
   "outputs": [],
   "source": [
    "# melt to tidy format\n",
    "\n"
   ]
  },
  {
   "cell_type": "code",
   "execution_count": null,
   "metadata": {},
   "outputs": [],
   "source": [
    "# show tidy\n",
    "\n"
   ]
  },
  {
   "cell_type": "code",
   "execution_count": null,
   "metadata": {},
   "outputs": [],
   "source": [
    "# import data from sql\n",
    "\n",
    "import configparser\n",
    "\n",
    "config = configparser.ConfigParser()\n",
    "\n",
    "config.read('configparser.ini')\n",
    "\n",
    "SQL_SERVER =  config[\"azure-sqldb\"][\"sql_server\"]\n",
    "SQL_USER_NAME = config[\"azure-sqldb\"][\"sql_user_name\"]\n",
    "SQL_PASSWORD = config[\"azure-sqldb\"][\"sql_password\"]\n",
    "\n",
    "import pyodbc\n",
    "\n",
    "server = SQL_SERVER\n",
    "database = 'sql-adventure-prod'\n",
    "driver= '{ODBC Driver 18 for SQL Server}'\n",
    "\n",
    "username = SQL_USER_NAME\n",
    "password = SQL_PASSWORD\n",
    "\n",
    "connection_string = f'DRIVER={driver};SERVER=tcp:{server};PORT=1433;DATABASE={database};UID={username};PWD={password}'\n",
    "\n",
    "# query system views\n",
    "\n",
    "with pyodbc.connect(connection_string) as conn:\n",
    "    query = '''\n",
    "            SELECT\n",
    "                 CustomerID,\n",
    "                 Title,\n",
    "                 FirstName,\n",
    "                 LastName\n",
    "            FROM SalesLT.Customer;\n",
    "    '''\n",
    "\n",
    "    customer = pd.read_sql(sql=query, con=conn)\n",
    "    query = '''\n",
    "           SELECT [CustomerID]\n",
    "                ,[AddressID]\n",
    "                ,[AddressType]\n",
    "                FROM [SalesLT].[CustomerAddress];\n",
    "    '''\n",
    "    address = pd.read_sql(sql=query, con=conn)"
   ]
  },
  {
   "cell_type": "code",
   "execution_count": null,
   "metadata": {},
   "outputs": [],
   "source": [
    "# show customer\n",
    "\n"
   ]
  },
  {
   "cell_type": "code",
   "execution_count": null,
   "metadata": {},
   "outputs": [],
   "source": [
    "# show address\n",
    "\n"
   ]
  },
  {
   "cell_type": "code",
   "execution_count": null,
   "metadata": {},
   "outputs": [],
   "source": [
    "# Join\n"
   ]
  },
  {
   "cell_type": "code",
   "execution_count": null,
   "metadata": {},
   "outputs": [],
   "source": [
    "# concat or Union\n"
   ]
  },
  {
   "cell_type": "code",
   "execution_count": null,
   "metadata": {},
   "outputs": [],
   "source": []
  },
  {
   "cell_type": "markdown",
   "metadata": {},
   "source": [
    "### Recommended Resources\n",
    "\n",
    "\n",
    "- [data school](https://www.dataschool.io/author/kevin-markham/)\n",
    "- [pandas documentation](https://pandas.pydata.org/docs/)\n",
    "- [effective pandas - book](https://www.amazon.com.au/Effective-Pandas-Patterns-Manipulation-Treading/dp/B09MYXXSFM/ref=asc_df_B09MYXXSFM/?tag=googleshopdsk-22&linkCode=df0&hvadid=463879774783&hvpos=&hvnetw=g&hvrand=1208302731783382154&hvpone=&hvptwo=&hvqmt=&hvdev=c&hvdvcmdl=&hvlocint=&hvlocphy=9070881&hvtargid=pla-1599278295760&psc=1)\n",
    "- [markdown cheat sheet](https://www.markdownguide.org/cheat-sheet/)"
   ]
  }
 ],
 "metadata": {
  "kernelspec": {
   "display_name": ".venv",
   "language": "python",
   "name": "python3"
  },
  "language_info": {
   "codemirror_mode": {
    "name": "ipython",
    "version": 3
   },
   "file_extension": ".py",
   "mimetype": "text/x-python",
   "name": "python",
   "nbconvert_exporter": "python",
   "pygments_lexer": "ipython3",
   "version": "3.11.0"
  },
  "orig_nbformat": 4
 },
 "nbformat": 4,
 "nbformat_minor": 2
}
