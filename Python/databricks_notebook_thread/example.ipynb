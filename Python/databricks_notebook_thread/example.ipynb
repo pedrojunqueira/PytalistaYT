{
 "cells": [
  {
   "cell_type": "code",
   "execution_count": 0,
   "metadata": {
    "application/vnd.databricks.v1+cell": {
     "cellMetadata": {
      "byteLimit": 2048000,
      "rowLimit": 10000
     },
     "inputWidgets": {},
     "nuid": "59a0c4fe-a575-4879-9abc-2894647eb750",
     "showTitle": false,
     "title": ""
    }
   },
   "outputs": [
    {
     "output_type": "stream",
     "name": "stdout",
     "output_type": "stream",
     "text": [
      "[{'yearMonth': '2022-01'}, {'yearMonth': '2022-02'}, {'yearMonth': '2022-03'}, {'yearMonth': '2022-04'}, {'yearMonth': '2022-05'}, {'yearMonth': '2022-06'}, {'yearMonth': '2022-07'}, {'yearMonth': '2022-08'}, {'yearMonth': '2022-09'}, {'yearMonth': '2022-10'}, {'yearMonth': '2022-11'}, {'yearMonth': '2022-12'}, {'yearMonth': '2023-01'}, {'yearMonth': '2023-02'}, {'yearMonth': '2023-03'}, {'yearMonth': '2023-04'}, {'yearMonth': '2023-05'}, {'yearMonth': '2023-06'}, {'yearMonth': '2023-07'}, {'yearMonth': '2023-08'}, {'yearMonth': '2023-09'}, {'yearMonth': '2023-10'}, {'yearMonth': '2023-11'}, {'yearMonth': '2023-12'}]\n"
     ]
    }
   ],
   "source": [
    "from datetime import datetime, timedelta\n",
    "import calendar\n",
    "\n",
    "def generate_month_strings(start_date, end_date):\n",
    "    \"\"\"\n",
    "    Generates a list of strings for every year-month in the range between start_date and end_date.\n",
    "    \n",
    "    Args:\n",
    "        start_date (str): Start date in the format 'YYYY-MM'.\n",
    "        end_date (str): End date in the format 'YYYY-MM'.\n",
    "    \n",
    "    Returns:\n",
    "        list: List of strings representing each year and month in the range.\n",
    "    \"\"\"\n",
    "    result = []\n",
    "    current_date = datetime.strptime(start_date, '%Y-%m')\n",
    "    end_date = datetime.strptime(end_date, '%Y-%m')\n",
    "\n",
    "    while current_date <= end_date:\n",
    "        result.append(current_date.strftime('%Y-%m'))\n",
    "        _, last_day = calendar.monthrange(current_date.year, current_date.month)\n",
    "        current_date += timedelta(days=last_day)\n",
    "\n",
    "    return result\n",
    "\n",
    "# Example usage:\n",
    "start_date = \"2022-01\"\n",
    "end_date = \"2023-12\"\n",
    "month_strings = generate_month_strings(start_date, end_date)\n",
    "\n",
    "# months_to_run = { 'yearMonth':month for month in month_strings}\n",
    "\n",
    "months_to_run = [ {'yearMonth': month} for month in month_strings]\n",
    "\n",
    "print(months_to_run)\n"
   ]
  },
  {
   "cell_type": "code",
   "execution_count": 0,
   "metadata": {
    "application/vnd.databricks.v1+cell": {
     "cellMetadata": {
      "byteLimit": 2048000,
      "rowLimit": 10000
     },
     "inputWidgets": {},
     "nuid": "adf2e68d-5ee6-471c-8840-60ee38ec6839",
     "showTitle": false,
     "title": ""
    }
   },
   "outputs": [],
   "source": [
    "import concurrent.futures\n",
    "\n",
    "def run_notebook(month):\n",
    "    dbutils.notebook.run(\"/Workspace/Users/pedro.junqueira@agile-analytics.com.au/adf/NYCtaxi\", 600, month)\n",
    "\n",
    "max_workers = 24\n",
    "\n",
    "# Execute notebooks in parallel\n",
    "with concurrent.futures.ThreadPoolExecutor(max_workers=max_workers) as executor:\n",
    "    executor.map(run_notebook, months_to_run)\n"
   ]
  },
  {
   "cell_type": "code",
   "execution_count": 0,
   "metadata": {
    "application/vnd.databricks.v1+cell": {
     "cellMetadata": {
      "byteLimit": 2048000,
      "rowLimit": 10000
     },
     "inputWidgets": {},
     "nuid": "787e6de2-7beb-49d7-bc7b-bf680bc007d5",
     "showTitle": false,
     "title": ""
    }
   },
   "outputs": [],
   "source": []
  }
 ],
 "metadata": {
  "application/vnd.databricks.v1+notebook": {
   "dashboards": [],
   "language": "python",
   "notebookMetadata": {
    "pythonIndentUnit": 4
   },
   "notebookName": "example",
   "widgets": {}
  }
 },
 "nbformat": 4,
 "nbformat_minor": 0
}
