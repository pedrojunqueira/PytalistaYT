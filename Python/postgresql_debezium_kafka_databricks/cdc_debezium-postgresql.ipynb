{
 "cells": [
  {
   "cell_type": "code",
   "execution_count": 0,
   "metadata": {
    "application/vnd.databricks.v1+cell": {
     "cellMetadata": {
      "byteLimit": 2048000,
      "rowLimit": 10000
     },
     "inputWidgets": {},
     "nuid": "9706c138-efb6-4052-ae7c-1c6baf5051ec",
     "showTitle": false,
     "title": ""
    }
   },
   "outputs": [],
   "source": [
    "\n",
    "confluentClusterName = \"postgresql\"\n",
    "confluentBootstrapServers = \"\"\n",
    "confluentTopicName = \"postgres.public.basic\"\n",
    "confluentApiKey = \"\"\n",
    "confluentSecret = \"\"\n",
    "schemaRegistryUrl = \"\"\n",
    "confluentRegistryApiKey = \"\"\n",
    "confluentRegistrySecret = \"\"\n",
    "deltaTablePath = '/mnt/databricks/kafka/basic'\n",
    "checkpointPath = '/mnt/databricks/kafka/_checkpoint/basic'"
   ]
  },
  {
   "cell_type": "code",
   "execution_count": 0,
   "metadata": {
    "application/vnd.databricks.v1+cell": {
     "cellMetadata": {
      "byteLimit": 2048000,
      "rowLimit": 10000
     },
     "inputWidgets": {},
     "nuid": "92d59bd2-b3aa-4e72-9e03-0126a8b5db88",
     "showTitle": false,
     "title": ""
    }
   },
   "outputs": [],
   "source": [
    "from confluent_kafka.schema_registry import SchemaRegistryClient\n",
    "import ssl\n",
    "schema_registry_conf = {\n",
    "    'url': schemaRegistryUrl,\n",
    "    'basic.auth.user.info': '{}:{}'.format(confluentRegistryApiKey, confluentRegistrySecret)}\n",
    "\n",
    "schema_registry_client = SchemaRegistryClient(schema_registry_conf)"
   ]
  },
  {
   "cell_type": "code",
   "execution_count": 0,
   "metadata": {
    "application/vnd.databricks.v1+cell": {
     "cellMetadata": {
      "byteLimit": 2048000,
      "rowLimit": 10000
     },
     "inputWidgets": {},
     "nuid": "6900cc52-6d17-4f22-aee0-a45945ed7b1c",
     "showTitle": false,
     "title": ""
    }
   },
   "outputs": [],
   "source": [
    "import pyspark.sql.functions as fn\n",
    "from pyspark.sql.types import StringType\n",
    "binary_to_string = fn.udf(lambda x: str(int.from_bytes(x, byteorder='big')), StringType())\n",
    "streamTestDf = (\n",
    "  spark\n",
    "  .readStream\n",
    "  .format(\"kafka\")\n",
    "  .option(\"kafka.bootstrap.servers\", confluentBootstrapServers)\n",
    "  .option(\"kafka.security.protocol\", \"SASL_SSL\")\n",
    "  .option(\"kafka.sasl.jaas.config\", \"kafkashaded.org.apache.kafka.common.security.plain.PlainLoginModule required username='{}' password='{}';\".format(confluentApiKey, confluentSecret))\n",
    "  .option(\"kafka.ssl.endpoint.identification.algorithm\", \"https\")\n",
    "  .option(\"kafka.sasl.mechanism\", \"PLAIN\")\n",
    "  .option(\"subscribe\", confluentTopicName)\n",
    "  .option(\"startingOffsets\", \"earliest\")\n",
    "  .option(\"failOnDataLoss\", \"false\")\n",
    "  .load()\n",
    "  .filter(fn.col(\"value\").isNotNull())\n",
    "  .withColumn('key', fn.col(\"key\").cast(StringType()))\n",
    "  .withColumn('fixedValue', fn.expr(\"substring(value, 6, length(value)-5)\"))\n",
    "  .withColumn('valueSchemaId', binary_to_string(fn.expr(\"substring(value, 2, 4)\")))\n",
    "  .select('topic', 'partition', 'offset', 'timestamp', 'timestampType', 'key', 'valueSchemaId','fixedValue')\n",
    ")\n"
   ]
  },
  {
   "cell_type": "code",
   "execution_count": 0,
   "metadata": {
    "application/vnd.databricks.v1+cell": {
     "cellMetadata": {
      "byteLimit": 2048000,
      "rowLimit": 10000
     },
     "inputWidgets": {},
     "nuid": "2968d61c-eb2b-4ac0-92b3-d861b075eabb",
     "showTitle": false,
     "title": ""
    }
   },
   "outputs": [
    {
     "output_type": "display_data",
     "data": {
      "text/html": [
       "<style scoped>\n",
       "  .table-result-container {\n",
       "    max-height: 300px;\n",
       "    overflow: auto;\n",
       "  }\n",
       "  table, th, td {\n",
       "    border: 1px solid black;\n",
       "    border-collapse: collapse;\n",
       "  }\n",
       "  th, td {\n",
       "    padding: 5px;\n",
       "  }\n",
       "  th {\n",
       "    text-align: left;\n",
       "  }\n",
       "</style><div class='table-result-container'><table class='table-result'><thead style='background-color: white'><tr><th>topic</th><th>partition</th><th>offset</th><th>timestamp</th><th>timestampType</th><th>key</th><th>valueSchemaId</th><th>fixedValue</th></tr></thead><tbody><tr><td>postgres.public.basic</td><td>0</td><td>0</td><td>2024-05-16T09:05:38.545Z</td><td>0</td><td>{\"id\":1}</td><td>100007</td><td>AAICAgphcHBsZRYyLjQuMi5GaW5hbBRwb3N0Z3Jlc3FsEHBvc3RncmVznOGxivBjAApmaXJzdBJrYWZrYV9jZGMCIltudWxsLCI2NzIxMzg5NiJdDHB1YmxpYwpiYXNpYwKIDwKQ6YxAAAJyAqDwsorwYwA=</td></tr><tr><td>postgres.public.basic</td><td>0</td><td>1</td><td>2024-05-16T09:05:38.546Z</td><td>0</td><td>{\"id\":2}</td><td>100007</td><td>AAIEAgxiYW5hbmEWMi40LjIuRmluYWwUcG9zdGdyZXNxbBBwb3N0Z3Jlc5zhsYrwYwAIbGFzdBJrYWZrYV9jZGMCIltudWxsLCI2NzIxMzg5NiJdDHB1YmxpYwpiYXNpYwKIDwKQ6YxAAAJyAqTwsorwYwA=</td></tr><tr><td>postgres.public.basic</td><td>0</td><td>2</td><td>2024-05-16T09:09:04.392Z</td><td>0</td><td>{\"id\":3}</td><td>100007</td><td>AAIGAhBtYW5kYXJpbhYyLjQuMi5GaW5hbBRwb3N0Z3Jlc3FsEHBvc3RncmVzgunLivBjAApmYWxzZRJrYWZrYV9jZGMCIltudWxsLCI4Mzg4Nzk4NCJdDHB1YmxpYwpiYXNpYwLADwLgnYBQAAJjAuyTzIrwYwA=</td></tr><tr><td>postgres.public.basic</td><td>0</td><td>3</td><td>2024-05-16T09:09:04.392Z</td><td>0</td><td>{\"id\":4}</td><td>100007</td><td>AAIIAhJwaW5lYXBwbGUWMi40LjIuRmluYWwUcG9zdGdyZXNxbBBwb3N0Z3Jlc7jpy4rwYwAKZmFsc2USa2Fma2FfY2RjAi5bIjgzODg4MzUyIiwiODM4ODgzNTIiXQxwdWJsaWMKYmFzaWMCwg8CwKOAUAACYwLuk8yK8GMA</td></tr><tr><td>postgres.public.basic</td><td>0</td><td>4</td><td>2024-05-16T09:09:53.687Z</td><td>0</td><td>{\"id\":2}</td><td>100007</td><td>AgQAABYyLjQuMi5GaW5hbBRwb3N0Z3Jlc3FsEHBvc3RncmVzsJHSivBjAApmYWxzZRJrYWZrYV9jZGMCLlsiODM4ODg1MzYiLCI4Mzg5MDEwNCJdDHB1YmxpYwpiYXNpYwLSDwLwvoBQAAJkAvCV0orwYwA=</td></tr><tr><td>postgres.public.basic</td><td>0</td><td>6</td><td>2024-05-16T09:11:18.62Z</td><td>0</td><td>{\"id\":5}</td><td>100007</td><td>AAIKAhJyYXNwYmVycnkWMi40LjIuRmluYWwUcG9zdGdyZXNxbBBwb3N0Z3Jlc/K23IrwYwAKZmFsc2USa2Fma2FfY2RjAi5bIjgzODkwMjE2IiwiODM4OTI1NTIiXQxwdWJsaWMKYmFzaWMC6A8CkOWAUAACYwLmvdyK8GMA</td></tr><tr><td>postgres.public.basic</td><td>0</td><td>7</td><td>2024-05-16T09:11:18.62Z</td><td>0</td><td>{\"id\":6}</td><td>100007</td><td>AAIMAg5tb3JhbmdvFjIuNC4yLkZpbmFsFHBvc3RncmVzcWwQcG9zdGdyZXOot9yK8GMACmZhbHNlEmthZmthX2NkYwIuWyI4Mzg5MjczNiIsIjgzODkyNzM2Il0McHVibGljCmJhc2ljAuoPAoDogFAAAmMC6L3civBjAA==</td></tr><tr><td>postgres.public.basic</td><td>0</td><td>8</td><td>2024-05-16T09:11:51.58Z</td><td>0</td><td>{\"id\":6}</td><td>100007</td><td>AAIMAhRzdHJhd2JlcnJ5FjIuNC4yLkZpbmFsFHBvc3RncmVzcWwQcG9zdGdyZXP6xeCK8GMACmZhbHNlEmthZmthX2NkYwIuWyI4Mzg5MjkyMCIsIjgzODk0MDgwIl0McHVibGljCmJhc2ljAvgPAoD9gFAAAnUCpsfgivBjAA==</td></tr><tr><td>postgres.public.basic</td><td>0</td><td>9</td><td>2024-05-16T09:13:25.435Z</td><td>0</td><td>{\"id\":5}</td><td>100007</td><td>AgoCEnJhc3BiZXJyeQIKAhJmcmFtYm9lc2EWMi40LjIuRmluYWwUcG9zdGdyZXNxbBBwb3N0Z3Jlc+Lx64rwYwAKZmFsc2USa2Fma2FfY2RjAjBbIjgzODk0MjE2IiwiMTAwNjYzNzkyIl0McHVibGljCmJhc2ljApIQAuCHgGA= (truncated)</td></tr></tbody></table></div>"
      ]
     },
     "metadata": {
      "application/vnd.databricks.v1+output": {
       "addedWidgets": {},
       "aggData": [],
       "aggError": "",
       "aggOverflow": false,
       "aggSchema": [],
       "aggSeriesLimitReached": false,
       "aggType": "",
       "arguments": {},
       "columnCustomDisplayInfos": {},
       "data": [
        [
         "postgres.public.basic",
         0,
         0,
         "2024-05-16T09:05:38.545Z",
         0,
         "{\"id\":1}",
         "100007",
         "AAICAgphcHBsZRYyLjQuMi5GaW5hbBRwb3N0Z3Jlc3FsEHBvc3RncmVznOGxivBjAApmaXJzdBJrYWZrYV9jZGMCIltudWxsLCI2NzIxMzg5NiJdDHB1YmxpYwpiYXNpYwKIDwKQ6YxAAAJyAqDwsorwYwA="
        ],
        [
         "postgres.public.basic",
         0,
         1,
         "2024-05-16T09:05:38.546Z",
         0,
         "{\"id\":2}",
         "100007",
         "AAIEAgxiYW5hbmEWMi40LjIuRmluYWwUcG9zdGdyZXNxbBBwb3N0Z3Jlc5zhsYrwYwAIbGFzdBJrYWZrYV9jZGMCIltudWxsLCI2NzIxMzg5NiJdDHB1YmxpYwpiYXNpYwKIDwKQ6YxAAAJyAqTwsorwYwA="
        ],
        [
         "postgres.public.basic",
         0,
         2,
         "2024-05-16T09:09:04.392Z",
         0,
         "{\"id\":3}",
         "100007",
         "AAIGAhBtYW5kYXJpbhYyLjQuMi5GaW5hbBRwb3N0Z3Jlc3FsEHBvc3RncmVzgunLivBjAApmYWxzZRJrYWZrYV9jZGMCIltudWxsLCI4Mzg4Nzk4NCJdDHB1YmxpYwpiYXNpYwLADwLgnYBQAAJjAuyTzIrwYwA="
        ],
        [
         "postgres.public.basic",
         0,
         3,
         "2024-05-16T09:09:04.392Z",
         0,
         "{\"id\":4}",
         "100007",
         "AAIIAhJwaW5lYXBwbGUWMi40LjIuRmluYWwUcG9zdGdyZXNxbBBwb3N0Z3Jlc7jpy4rwYwAKZmFsc2USa2Fma2FfY2RjAi5bIjgzODg4MzUyIiwiODM4ODgzNTIiXQxwdWJsaWMKYmFzaWMCwg8CwKOAUAACYwLuk8yK8GMA"
        ],
        [
         "postgres.public.basic",
         0,
         4,
         "2024-05-16T09:09:53.687Z",
         0,
         "{\"id\":2}",
         "100007",
         "AgQAABYyLjQuMi5GaW5hbBRwb3N0Z3Jlc3FsEHBvc3RncmVzsJHSivBjAApmYWxzZRJrYWZrYV9jZGMCLlsiODM4ODg1MzYiLCI4Mzg5MDEwNCJdDHB1YmxpYwpiYXNpYwLSDwLwvoBQAAJkAvCV0orwYwA="
        ],
        [
         "postgres.public.basic",
         0,
         6,
         "2024-05-16T09:11:18.62Z",
         0,
         "{\"id\":5}",
         "100007",
         "AAIKAhJyYXNwYmVycnkWMi40LjIuRmluYWwUcG9zdGdyZXNxbBBwb3N0Z3Jlc/K23IrwYwAKZmFsc2USa2Fma2FfY2RjAi5bIjgzODkwMjE2IiwiODM4OTI1NTIiXQxwdWJsaWMKYmFzaWMC6A8CkOWAUAACYwLmvdyK8GMA"
        ],
        [
         "postgres.public.basic",
         0,
         7,
         "2024-05-16T09:11:18.62Z",
         0,
         "{\"id\":6}",
         "100007",
         "AAIMAg5tb3JhbmdvFjIuNC4yLkZpbmFsFHBvc3RncmVzcWwQcG9zdGdyZXOot9yK8GMACmZhbHNlEmthZmthX2NkYwIuWyI4Mzg5MjczNiIsIjgzODkyNzM2Il0McHVibGljCmJhc2ljAuoPAoDogFAAAmMC6L3civBjAA=="
        ],
        [
         "postgres.public.basic",
         0,
         8,
         "2024-05-16T09:11:51.58Z",
         0,
         "{\"id\":6}",
         "100007",
         "AAIMAhRzdHJhd2JlcnJ5FjIuNC4yLkZpbmFsFHBvc3RncmVzcWwQcG9zdGdyZXP6xeCK8GMACmZhbHNlEmthZmthX2NkYwIuWyI4Mzg5MjkyMCIsIjgzODk0MDgwIl0McHVibGljCmJhc2ljAvgPAoD9gFAAAnUCpsfgivBjAA=="
        ],
        [
         "postgres.public.basic",
         0,
         9,
         "2024-05-16T09:13:25.435Z",
         0,
         "{\"id\":5}",
         "100007",
         "AgoCEnJhc3BiZXJyeQIKAhJmcmFtYm9lc2EWMi40LjIuRmluYWwUcG9zdGdyZXNxbBBwb3N0Z3Jlc+Lx64rwYwAKZmFsc2USa2Fma2FfY2RjAjBbIjgzODk0MjE2IiwiMTAwNjYzNzkyIl0McHVibGljCmJhc2ljApIQAuCHgGA= (truncated)"
        ]
       ],
       "datasetInfos": [],
       "dbfsResultPath": null,
       "isJsonSchema": true,
       "metadata": {
        "isDbfsCommandResult": false
       },
       "overflow": false,
       "plotOptions": {
        "customPlotOptions": {},
        "displayType": "table",
        "pivotAggregation": null,
        "pivotColumns": null,
        "xColumns": null,
        "yColumns": null
       },
       "removedWidgets": [],
       "schema": [
        {
         "metadata": "{}",
         "name": "topic",
         "type": "\"string\""
        },
        {
         "metadata": "{}",
         "name": "partition",
         "type": "\"integer\""
        },
        {
         "metadata": "{}",
         "name": "offset",
         "type": "\"long\""
        },
        {
         "metadata": "{}",
         "name": "timestamp",
         "type": "\"timestamp\""
        },
        {
         "metadata": "{}",
         "name": "timestampType",
         "type": "\"integer\""
        },
        {
         "metadata": "{}",
         "name": "key",
         "type": "\"string\""
        },
        {
         "metadata": "{}",
         "name": "valueSchemaId",
         "type": "\"string\""
        },
        {
         "metadata": "{}",
         "name": "fixedValue",
         "type": "\"binary\""
        }
       ],
       "type": "table"
      }
     },
     "output_type": "display_data"
    }
   ],
   "source": [
    "display(streamTestDf) "
   ]
  },
  {
   "cell_type": "code",
   "execution_count": 0,
   "metadata": {
    "application/vnd.databricks.v1+cell": {
     "cellMetadata": {
      "byteLimit": 2048000,
      "rowLimit": 10000
     },
     "inputWidgets": {},
     "nuid": "2e5b0f43-8e0c-44f8-aa02-d6ff75b0b21a",
     "showTitle": false,
     "title": ""
    }
   },
   "outputs": [],
   "source": [
    "import pyspark.sql.functions as fn\n",
    "from pyspark.sql.avro.functions import from_avro\n",
    "def parseAvroDataWithSchemaId(df, ephoch_id):\n",
    "  cachedDf = df.cache()\n",
    "  fromAvroOptions = {\"mode\":\"FAILFAST\"}\n",
    "  def getSchema(id):\n",
    "    return str(schema_registry_client.get_schema(id).schema_str)\n",
    "  distinctValueSchemaIdDF = cachedDf.select(fn.col('valueSchemaId').cast('integer')).distinct()\n",
    "  for valueRow in distinctValueSchemaIdDF.collect():\n",
    "    currentValueSchemaId = sc.broadcast(valueRow.valueSchemaId)\n",
    "    currentValueSchema = sc.broadcast(getSchema(currentValueSchemaId.value))\n",
    "    filterValueDF = cachedDf.filter(fn.col('valueSchemaId') == currentValueSchemaId.value)\n",
    "    filterValueDF \\\n",
    "      .select('topic', 'partition', 'offset', 'timestamp', 'timestampType', 'key', from_avro('fixedValue', currentValueSchema.value, fromAvroOptions).alias('parsedValue')) \\\n",
    "      .write \\\n",
    "      .format(\"delta\") \\\n",
    "      .mode(\"append\") \\\n",
    "      .option(\"mergeSchema\", \"true\") \\\n",
    "     .save(deltaTablePath)\n"
   ]
  },
  {
   "cell_type": "code",
   "execution_count": 0,
   "metadata": {
    "application/vnd.databricks.v1+cell": {
     "cellMetadata": {
      "byteLimit": 2048000,
      "rowLimit": 10000
     },
     "inputWidgets": {},
     "nuid": "3feebaa8-5c79-49d3-a683-3a339e9e4c35",
     "showTitle": false,
     "title": ""
    }
   },
   "outputs": [
    {
     "output_type": "execute_result",
     "data": {
      "text/plain": [
       "<pyspark.sql.streaming.query.StreamingQuery at 0x7f36f87ee4a0>"
      ]
     },
     "execution_count": 16,
     "metadata": {},
     "output_type": "execute_result"
    }
   ],
   "source": [
    "streamTestDf.writeStream \\\n",
    "  .option(\"checkpointLocation\", checkpointPath) \\\n",
    "  .foreachBatch(parseAvroDataWithSchemaId) \\\n",
    "  .queryName(\"TestCDCPostgreSQLDebeziumConfluent\") \\\n",
    "  .start()\n"
   ]
  },
  {
   "cell_type": "code",
   "execution_count": 0,
   "metadata": {
    "application/vnd.databricks.v1+cell": {
     "cellMetadata": {
      "byteLimit": 2048000,
      "rowLimit": 10000
     },
     "inputWidgets": {},
     "nuid": "e6e808ba-f359-4ee4-8408-c83d625a6144",
     "showTitle": false,
     "title": ""
    }
   },
   "outputs": [
    {
     "output_type": "display_data",
     "data": {
      "text/html": [
       "<style scoped>\n",
       "  .table-result-container {\n",
       "    max-height: 300px;\n",
       "    overflow: auto;\n",
       "  }\n",
       "  table, th, td {\n",
       "    border: 1px solid black;\n",
       "    border-collapse: collapse;\n",
       "  }\n",
       "  th, td {\n",
       "    padding: 5px;\n",
       "  }\n",
       "  th {\n",
       "    text-align: left;\n",
       "  }\n",
       "</style><div class='table-result-container'><table class='table-result'><thead style='background-color: white'><tr><th>topic</th><th>partition</th><th>offset</th><th>timestamp</th><th>timestampType</th><th>key</th><th>parsedValue</th></tr></thead><tbody><tr><td>postgres.public.basic</td><td>0</td><td>0</td><td>2024-05-16T09:05:38.545Z</td><td>0</td><td>{\"id\":1}</td><td>List(null, List(1, apple), List(2.4.2.Final, postgresql, postgres, 1715850328142, first, kafka_cdc, [null,\"67213896\"], public, basic, 964, 67213896, null), r, 1715850337296, null)</td></tr><tr><td>postgres.public.basic</td><td>0</td><td>1</td><td>2024-05-16T09:05:38.546Z</td><td>0</td><td>{\"id\":2}</td><td>List(null, List(2, banana), List(2.4.2.Final, postgresql, postgres, 1715850328142, last, kafka_cdc, [null,\"67213896\"], public, basic, 964, 67213896, null), r, 1715850337298, null)</td></tr><tr><td>postgres.public.basic</td><td>0</td><td>2</td><td>2024-05-16T09:09:04.392Z</td><td>0</td><td>{\"id\":3}</td><td>List(null, List(3, mandarin), List(2.4.2.Final, postgresql, postgres, 1715850541633, false, kafka_cdc, [null,\"83887984\"], public, basic, 992, 83887984, null), c, 1715850544374, null)</td></tr><tr><td>postgres.public.basic</td><td>0</td><td>3</td><td>2024-05-16T09:09:04.392Z</td><td>0</td><td>{\"id\":4}</td><td>List(null, List(4, pineapple), List(2.4.2.Final, postgresql, postgres, 1715850541660, false, kafka_cdc, [\"83888352\",\"83888352\"], public, basic, 993, 83888352, null), c, 1715850544375, null)</td></tr><tr><td>postgres.public.basic</td><td>0</td><td>4</td><td>2024-05-16T09:09:53.687Z</td><td>0</td><td>{\"id\":2}</td><td>List(List(2, null), null, List(2.4.2.Final, postgresql, postgres, 1715850593368, false, kafka_cdc, [\"83888536\",\"83890104\"], public, basic, 1001, 83890104, null), d, 1715850593656, null)</td></tr><tr><td>postgres.public.basic</td><td>0</td><td>6</td><td>2024-05-16T09:11:18.62Z</td><td>0</td><td>{\"id\":5}</td><td>List(null, List(5, raspberry), List(2.4.2.Final, postgresql, postgres, 1715850677689, false, kafka_cdc, [\"83890216\",\"83892552\"], public, basic, 1012, 83892552, null), c, 1715850678131, null)</td></tr><tr><td>postgres.public.basic</td><td>0</td><td>7</td><td>2024-05-16T09:11:18.62Z</td><td>0</td><td>{\"id\":6}</td><td>List(null, List(6, morango), List(2.4.2.Final, postgresql, postgres, 1715850677716, false, kafka_cdc, [\"83892736\",\"83892736\"], public, basic, 1013, 83892736, null), c, 1715850678132, null)</td></tr><tr><td>postgres.public.basic</td><td>0</td><td>8</td><td>2024-05-16T09:11:51.58Z</td><td>0</td><td>{\"id\":6}</td><td>List(null, List(6, strawberry), List(2.4.2.Final, postgresql, postgres, 1715850711421, false, kafka_cdc, [\"83892920\",\"83894080\"], public, basic, 1020, 83894080, null), u, 1715850711507, null)</td></tr><tr><td>postgres.public.basic</td><td>0</td><td>9</td><td>2024-05-16T09:13:25.435Z</td><td>0</td><td>{\"id\":5}</td><td>List(List(5, raspberry), List(5, framboesa), List(2.4.2.Final, postgresql, postgres, 1715850804337, false, kafka_cdc, [\"83894216\",\"100663792\"], public, basic, 1033, 100663792, null), u, 1715850804938, null)</td></tr></tbody></table></div>"
      ]
     },
     "metadata": {
      "application/vnd.databricks.v1+output": {
       "addedWidgets": {},
       "aggData": [],
       "aggError": "",
       "aggOverflow": false,
       "aggSchema": [],
       "aggSeriesLimitReached": false,
       "aggType": "",
       "arguments": {},
       "columnCustomDisplayInfos": {},
       "data": [
        [
         "postgres.public.basic",
         0,
         0,
         "2024-05-16T09:05:38.545Z",
         0,
         "{\"id\":1}",
         [
          null,
          [
           1,
           "apple"
          ],
          [
           "2.4.2.Final",
           "postgresql",
           "postgres",
           1715850328142,
           "first",
           "kafka_cdc",
           "[null,\"67213896\"]",
           "public",
           "basic",
           964,
           67213896,
           null
          ],
          "r",
          1715850337296,
          null
         ]
        ],
        [
         "postgres.public.basic",
         0,
         1,
         "2024-05-16T09:05:38.546Z",
         0,
         "{\"id\":2}",
         [
          null,
          [
           2,
           "banana"
          ],
          [
           "2.4.2.Final",
           "postgresql",
           "postgres",
           1715850328142,
           "last",
           "kafka_cdc",
           "[null,\"67213896\"]",
           "public",
           "basic",
           964,
           67213896,
           null
          ],
          "r",
          1715850337298,
          null
         ]
        ],
        [
         "postgres.public.basic",
         0,
         2,
         "2024-05-16T09:09:04.392Z",
         0,
         "{\"id\":3}",
         [
          null,
          [
           3,
           "mandarin"
          ],
          [
           "2.4.2.Final",
           "postgresql",
           "postgres",
           1715850541633,
           "false",
           "kafka_cdc",
           "[null,\"83887984\"]",
           "public",
           "basic",
           992,
           83887984,
           null
          ],
          "c",
          1715850544374,
          null
         ]
        ],
        [
         "postgres.public.basic",
         0,
         3,
         "2024-05-16T09:09:04.392Z",
         0,
         "{\"id\":4}",
         [
          null,
          [
           4,
           "pineapple"
          ],
          [
           "2.4.2.Final",
           "postgresql",
           "postgres",
           1715850541660,
           "false",
           "kafka_cdc",
           "[\"83888352\",\"83888352\"]",
           "public",
           "basic",
           993,
           83888352,
           null
          ],
          "c",
          1715850544375,
          null
         ]
        ],
        [
         "postgres.public.basic",
         0,
         4,
         "2024-05-16T09:09:53.687Z",
         0,
         "{\"id\":2}",
         [
          [
           2,
           null
          ],
          null,
          [
           "2.4.2.Final",
           "postgresql",
           "postgres",
           1715850593368,
           "false",
           "kafka_cdc",
           "[\"83888536\",\"83890104\"]",
           "public",
           "basic",
           1001,
           83890104,
           null
          ],
          "d",
          1715850593656,
          null
         ]
        ],
        [
         "postgres.public.basic",
         0,
         6,
         "2024-05-16T09:11:18.62Z",
         0,
         "{\"id\":5}",
         [
          null,
          [
           5,
           "raspberry"
          ],
          [
           "2.4.2.Final",
           "postgresql",
           "postgres",
           1715850677689,
           "false",
           "kafka_cdc",
           "[\"83890216\",\"83892552\"]",
           "public",
           "basic",
           1012,
           83892552,
           null
          ],
          "c",
          1715850678131,
          null
         ]
        ],
        [
         "postgres.public.basic",
         0,
         7,
         "2024-05-16T09:11:18.62Z",
         0,
         "{\"id\":6}",
         [
          null,
          [
           6,
           "morango"
          ],
          [
           "2.4.2.Final",
           "postgresql",
           "postgres",
           1715850677716,
           "false",
           "kafka_cdc",
           "[\"83892736\",\"83892736\"]",
           "public",
           "basic",
           1013,
           83892736,
           null
          ],
          "c",
          1715850678132,
          null
         ]
        ],
        [
         "postgres.public.basic",
         0,
         8,
         "2024-05-16T09:11:51.58Z",
         0,
         "{\"id\":6}",
         [
          null,
          [
           6,
           "strawberry"
          ],
          [
           "2.4.2.Final",
           "postgresql",
           "postgres",
           1715850711421,
           "false",
           "kafka_cdc",
           "[\"83892920\",\"83894080\"]",
           "public",
           "basic",
           1020,
           83894080,
           null
          ],
          "u",
          1715850711507,
          null
         ]
        ],
        [
         "postgres.public.basic",
         0,
         9,
         "2024-05-16T09:13:25.435Z",
         0,
         "{\"id\":5}",
         [
          [
           5,
           "raspberry"
          ],
          [
           5,
           "framboesa"
          ],
          [
           "2.4.2.Final",
           "postgresql",
           "postgres",
           1715850804337,
           "false",
           "kafka_cdc",
           "[\"83894216\",\"100663792\"]",
           "public",
           "basic",
           1033,
           100663792,
           null
          ],
          "u",
          1715850804938,
          null
         ]
        ]
       ],
       "datasetInfos": [],
       "dbfsResultPath": null,
       "isJsonSchema": true,
       "metadata": {},
       "overflow": false,
       "plotOptions": {
        "customPlotOptions": {},
        "displayType": "table",
        "pivotAggregation": null,
        "pivotColumns": null,
        "xColumns": null,
        "yColumns": null
       },
       "removedWidgets": [],
       "schema": [
        {
         "metadata": "{}",
         "name": "topic",
         "type": "\"string\""
        },
        {
         "metadata": "{}",
         "name": "partition",
         "type": "\"integer\""
        },
        {
         "metadata": "{}",
         "name": "offset",
         "type": "\"long\""
        },
        {
         "metadata": "{}",
         "name": "timestamp",
         "type": "\"timestamp\""
        },
        {
         "metadata": "{}",
         "name": "timestampType",
         "type": "\"integer\""
        },
        {
         "metadata": "{}",
         "name": "key",
         "type": "\"string\""
        },
        {
         "metadata": "{}",
         "name": "parsedValue",
         "type": "{\"type\":\"struct\",\"fields\":[{\"name\":\"before\",\"type\":{\"type\":\"struct\",\"fields\":[{\"name\":\"id\",\"type\":\"integer\",\"nullable\":true,\"metadata\":{}},{\"name\":\"fruit\",\"type\":\"string\",\"nullable\":true,\"metadata\":{}}]},\"nullable\":true,\"metadata\":{}},{\"name\":\"after\",\"type\":{\"type\":\"struct\",\"fields\":[{\"name\":\"id\",\"type\":\"integer\",\"nullable\":true,\"metadata\":{}},{\"name\":\"fruit\",\"type\":\"string\",\"nullable\":true,\"metadata\":{}}]},\"nullable\":true,\"metadata\":{}},{\"name\":\"source\",\"type\":{\"type\":\"struct\",\"fields\":[{\"name\":\"version\",\"type\":\"string\",\"nullable\":true,\"metadata\":{}},{\"name\":\"connector\",\"type\":\"string\",\"nullable\":true,\"metadata\":{}},{\"name\":\"name\",\"type\":\"string\",\"nullable\":true,\"metadata\":{}},{\"name\":\"ts_ms\",\"type\":\"long\",\"nullable\":true,\"metadata\":{}},{\"name\":\"snapshot\",\"type\":\"string\",\"nullable\":true,\"metadata\":{}},{\"name\":\"db\",\"type\":\"string\",\"nullable\":true,\"metadata\":{}},{\"name\":\"sequence\",\"type\":\"string\",\"nullable\":true,\"metadata\":{}},{\"name\":\"schema\",\"type\":\"string\",\"nullable\":true,\"metadata\":{}},{\"name\":\"table\",\"type\":\"string\",\"nullable\":true,\"metadata\":{}},{\"name\":\"txId\",\"type\":\"long\",\"nullable\":true,\"metadata\":{}},{\"name\":\"lsn\",\"type\":\"long\",\"nullable\":true,\"metadata\":{}},{\"name\":\"xmin\",\"type\":\"long\",\"nullable\":true,\"metadata\":{}}]},\"nullable\":true,\"metadata\":{}},{\"name\":\"op\",\"type\":\"string\",\"nullable\":true,\"metadata\":{}},{\"name\":\"ts_ms\",\"type\":\"long\",\"nullable\":true,\"metadata\":{}},{\"name\":\"transaction\",\"type\":{\"type\":\"struct\",\"fields\":[{\"name\":\"id\",\"type\":\"string\",\"nullable\":true,\"metadata\":{}},{\"name\":\"total_order\",\"type\":\"long\",\"nullable\":true,\"metadata\":{}},{\"name\":\"data_collection_order\",\"type\":\"long\",\"nullable\":true,\"metadata\":{}}]},\"nullable\":true,\"metadata\":{}}]}"
        }
       ],
       "type": "table"
      }
     },
     "output_type": "display_data"
    }
   ],
   "source": [
    "deltaTestDf = spark.read.format(\"delta\").load(deltaTablePath)\n",
    "display(deltaTestDf)\n"
   ]
  },
  {
   "cell_type": "code",
   "execution_count": 0,
   "metadata": {
    "application/vnd.databricks.v1+cell": {
     "cellMetadata": {
      "byteLimit": 2048000,
      "rowLimit": 10000
     },
     "inputWidgets": {},
     "nuid": "5ab10d79-7c5f-4545-b49e-f811b27ae3c3",
     "showTitle": false,
     "title": ""
    }
   },
   "outputs": [
    {
     "output_type": "execute_result",
     "data": {
      "text/plain": [
       "9"
      ]
     },
     "execution_count": 20,
     "metadata": {},
     "output_type": "execute_result"
    }
   ],
   "source": [
    "deltaTestDf.count()"
   ]
  },
  {
   "cell_type": "code",
   "execution_count": 0,
   "metadata": {
    "application/vnd.databricks.v1+cell": {
     "cellMetadata": {
      "byteLimit": 2048000,
      "rowLimit": 10000
     },
     "inputWidgets": {},
     "nuid": "14d7a2c1-5836-4e4d-af92-0c5a10af4cec",
     "showTitle": false,
     "title": ""
    }
   },
   "outputs": [
    {
     "output_type": "stream",
     "name": "stdout",
     "output_type": "stream",
     "text": [
      "root\n |-- topic: string (nullable = true)\n |-- partition: integer (nullable = true)\n |-- offset: long (nullable = true)\n |-- timestamp: timestamp (nullable = true)\n |-- timestampType: integer (nullable = true)\n |-- key: string (nullable = true)\n |-- parsedValue: struct (nullable = true)\n |    |-- before: struct (nullable = true)\n |    |    |-- id: integer (nullable = true)\n |    |    |-- fruit: string (nullable = true)\n |    |-- after: struct (nullable = true)\n |    |    |-- id: integer (nullable = true)\n |    |    |-- fruit: string (nullable = true)\n |    |-- source: struct (nullable = true)\n |    |    |-- version: string (nullable = true)\n |    |    |-- connector: string (nullable = true)\n |    |    |-- name: string (nullable = true)\n |    |    |-- ts_ms: long (nullable = true)\n |    |    |-- snapshot: string (nullable = true)\n |    |    |-- db: string (nullable = true)\n |    |    |-- sequence: string (nullable = true)\n |    |    |-- schema: string (nullable = true)\n |    |    |-- table: string (nullable = true)\n |    |    |-- txId: long (nullable = true)\n |    |    |-- lsn: long (nullable = true)\n |    |    |-- xmin: long (nullable = true)\n |    |-- op: string (nullable = true)\n |    |-- ts_ms: long (nullable = true)\n |    |-- transaction: struct (nullable = true)\n |    |    |-- id: string (nullable = true)\n |    |    |-- total_order: long (nullable = true)\n |    |    |-- data_collection_order: long (nullable = true)\n\n"
     ]
    }
   ],
   "source": [
    "deltaTestDf.printSchema()"
   ]
  },
  {
   "cell_type": "code",
   "execution_count": 0,
   "metadata": {
    "application/vnd.databricks.v1+cell": {
     "cellMetadata": {
      "byteLimit": 2048000,
      "rowLimit": 10000
     },
     "inputWidgets": {},
     "nuid": "f0ca177b-e44d-4fdd-ba9b-f2f4387713dd",
     "showTitle": false,
     "title": ""
    }
   },
   "outputs": [
    {
     "output_type": "display_data",
     "data": {
      "text/html": [
       "<style scoped>\n",
       "  .table-result-container {\n",
       "    max-height: 300px;\n",
       "    overflow: auto;\n",
       "  }\n",
       "  table, th, td {\n",
       "    border: 1px solid black;\n",
       "    border-collapse: collapse;\n",
       "  }\n",
       "  th, td {\n",
       "    padding: 5px;\n",
       "  }\n",
       "  th {\n",
       "    text-align: left;\n",
       "  }\n",
       "</style><div class='table-result-container'><table class='table-result'><thead style='background-color: white'><tr><th>topic</th><th>partition</th><th>offset</th><th>timestamp</th><th>timestampType</th><th>key</th><th>id</th><th>fruit</th><th>operation</th></tr></thead><tbody><tr><td>postgres.public.basic</td><td>0</td><td>0</td><td>2024-05-16T09:05:38.545Z</td><td>0</td><td>{\"id\":1}</td><td>1</td><td>apple</td><td>read</td></tr><tr><td>postgres.public.basic</td><td>0</td><td>1</td><td>2024-05-16T09:05:38.546Z</td><td>0</td><td>{\"id\":2}</td><td>2</td><td>banana</td><td>read</td></tr><tr><td>postgres.public.basic</td><td>0</td><td>2</td><td>2024-05-16T09:09:04.392Z</td><td>0</td><td>{\"id\":3}</td><td>3</td><td>mandarin</td><td>insert</td></tr><tr><td>postgres.public.basic</td><td>0</td><td>3</td><td>2024-05-16T09:09:04.392Z</td><td>0</td><td>{\"id\":4}</td><td>4</td><td>pineapple</td><td>insert</td></tr><tr><td>postgres.public.basic</td><td>0</td><td>4</td><td>2024-05-16T09:09:53.687Z</td><td>0</td><td>{\"id\":2}</td><td>null</td><td>null</td><td>delete</td></tr><tr><td>postgres.public.basic</td><td>0</td><td>6</td><td>2024-05-16T09:11:18.62Z</td><td>0</td><td>{\"id\":5}</td><td>5</td><td>raspberry</td><td>insert</td></tr><tr><td>postgres.public.basic</td><td>0</td><td>7</td><td>2024-05-16T09:11:18.62Z</td><td>0</td><td>{\"id\":6}</td><td>6</td><td>morango</td><td>insert</td></tr><tr><td>postgres.public.basic</td><td>0</td><td>8</td><td>2024-05-16T09:11:51.58Z</td><td>0</td><td>{\"id\":6}</td><td>6</td><td>strawberry</td><td>update</td></tr><tr><td>postgres.public.basic</td><td>0</td><td>9</td><td>2024-05-16T09:13:25.435Z</td><td>0</td><td>{\"id\":5}</td><td>5</td><td>framboesa</td><td>update</td></tr></tbody></table></div>"
      ]
     },
     "metadata": {
      "application/vnd.databricks.v1+output": {
       "addedWidgets": {},
       "aggData": [],
       "aggError": "",
       "aggOverflow": false,
       "aggSchema": [],
       "aggSeriesLimitReached": false,
       "aggType": "",
       "arguments": {},
       "columnCustomDisplayInfos": {},
       "data": [
        [
         "postgres.public.basic",
         0,
         0,
         "2024-05-16T09:05:38.545Z",
         0,
         "{\"id\":1}",
         1,
         "apple",
         "read"
        ],
        [
         "postgres.public.basic",
         0,
         1,
         "2024-05-16T09:05:38.546Z",
         0,
         "{\"id\":2}",
         2,
         "banana",
         "read"
        ],
        [
         "postgres.public.basic",
         0,
         2,
         "2024-05-16T09:09:04.392Z",
         0,
         "{\"id\":3}",
         3,
         "mandarin",
         "insert"
        ],
        [
         "postgres.public.basic",
         0,
         3,
         "2024-05-16T09:09:04.392Z",
         0,
         "{\"id\":4}",
         4,
         "pineapple",
         "insert"
        ],
        [
         "postgres.public.basic",
         0,
         4,
         "2024-05-16T09:09:53.687Z",
         0,
         "{\"id\":2}",
         null,
         null,
         "delete"
        ],
        [
         "postgres.public.basic",
         0,
         6,
         "2024-05-16T09:11:18.62Z",
         0,
         "{\"id\":5}",
         5,
         "raspberry",
         "insert"
        ],
        [
         "postgres.public.basic",
         0,
         7,
         "2024-05-16T09:11:18.62Z",
         0,
         "{\"id\":6}",
         6,
         "morango",
         "insert"
        ],
        [
         "postgres.public.basic",
         0,
         8,
         "2024-05-16T09:11:51.58Z",
         0,
         "{\"id\":6}",
         6,
         "strawberry",
         "update"
        ],
        [
         "postgres.public.basic",
         0,
         9,
         "2024-05-16T09:13:25.435Z",
         0,
         "{\"id\":5}",
         5,
         "framboesa",
         "update"
        ]
       ],
       "datasetInfos": [],
       "dbfsResultPath": null,
       "isJsonSchema": true,
       "metadata": {},
       "overflow": false,
       "plotOptions": {
        "customPlotOptions": {},
        "displayType": "table",
        "pivotAggregation": null,
        "pivotColumns": null,
        "xColumns": null,
        "yColumns": null
       },
       "removedWidgets": [],
       "schema": [
        {
         "metadata": "{}",
         "name": "topic",
         "type": "\"string\""
        },
        {
         "metadata": "{}",
         "name": "partition",
         "type": "\"integer\""
        },
        {
         "metadata": "{}",
         "name": "offset",
         "type": "\"long\""
        },
        {
         "metadata": "{}",
         "name": "timestamp",
         "type": "\"timestamp\""
        },
        {
         "metadata": "{}",
         "name": "timestampType",
         "type": "\"integer\""
        },
        {
         "metadata": "{}",
         "name": "key",
         "type": "\"string\""
        },
        {
         "metadata": "{}",
         "name": "id",
         "type": "\"integer\""
        },
        {
         "metadata": "{}",
         "name": "fruit",
         "type": "\"string\""
        },
        {
         "metadata": "{}",
         "name": "operation",
         "type": "\"string\""
        }
       ],
       "type": "table"
      }
     },
     "output_type": "display_data"
    }
   ],
   "source": [
    "new_df = (deltaTestDf\n",
    "          .withColumn('id', fn.col('parsedValue.after.id'))\n",
    "          .withColumn('fruit', fn.col('parsedValue.after.fruit'))\n",
    "          .withColumn('operation',  fn.when(fn.col('parsedValue.op')=='c', 'insert')\n",
    "                                      .when(fn.col('parsedValue.op')=='r', 'read')\n",
    "                                      .when(fn.col('parsedValue.op')=='u', 'update')\n",
    "                                      .when(fn.col('parsedValue.op')=='d', 'delete')\n",
    "                      )\n",
    "        #   .filter(fn.col('id').isNotNull())\n",
    "          .select(['topic','partition','offset','timestamp','timestampType','key','id','fruit','operation'])\n",
    "    \n",
    "    )\n",
    "\n",
    "# Now 'new_df' contains exploded columns from 'parsedValue'\n",
    "new_df.display()"
   ]
  },
  {
   "cell_type": "code",
   "execution_count": 0,
   "metadata": {
    "application/vnd.databricks.v1+cell": {
     "cellMetadata": {
      "byteLimit": 2048000,
      "rowLimit": 10000
     },
     "inputWidgets": {},
     "nuid": "d65d3b1c-e49e-4eb6-a587-b26843f8a6bd",
     "showTitle": false,
     "title": ""
    }
   },
   "outputs": [],
   "source": []
  }
 ],
 "metadata": {
  "application/vnd.databricks.v1+notebook": {
   "dashboards": [],
   "language": "python",
   "notebookMetadata": {
    "pythonIndentUnit": 4
   },
   "notebookName": "cdc_debezium-postgresql",
   "widgets": {}
  }
 },
 "nbformat": 4,
 "nbformat_minor": 0
}
